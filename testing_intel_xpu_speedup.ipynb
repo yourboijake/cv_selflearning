{
 "cells": [
  {
   "cell_type": "markdown",
   "id": "7b258a36-bd80-47d8-bd10-742b82986f7b",
   "metadata": {},
   "source": [
    "### Benchmarking perf improvement\n",
    "a little bit of benchmarking: CPU vs XPU\n",
    "\n",
    "- CPU version: Intel® Core™ Ultra 7 155H × 22\n",
    "- Intel GPU (XPU) version: 7D55 Intel® Arc™ Graphics Xe-LPG Meteor Lake 6.7 128/112\n",
    "\n",
    "### Tests:\n",
    "- basic single-matrix operations: init random matrix, sum along dim 1, avg along dim 0\n",
    "- basic mat mul\n",
    "- series of linear layers and backprop\n",
    "\n",
    "\n",
    "### Results\n",
    "- Test 1:\n",
    "    - CPU: 406 ms ± 14.3 ms per loop (mean ± std. dev. of 10 runs, 1 loop each)\n",
    "    - XPU"
   ]
  },
  {
   "cell_type": "code",
   "execution_count": 2,
   "id": "06275de7-66eb-4f52-9321-47c09171fdd1",
   "metadata": {},
   "outputs": [],
   "source": [
    "import torch"
   ]
  },
  {
   "cell_type": "code",
   "execution_count": 11,
   "id": "c36f9ec6-d8be-423a-aaa5-9e21f85306bc",
   "metadata": {},
   "outputs": [],
   "source": [
    "#test 1: basic single-matrix operations\n",
    "SIZE = 100000\n",
    "x = torch.randn((SIZE, SIZE))\n",
    "x_xpu = x.to('xpu')"
   ]
  },
  {
   "cell_type": "code",
   "execution_count": 12,
   "id": "a14126d0-3182-454c-81d4-e6a87afd115a",
   "metadata": {},
   "outputs": [
    {
     "name": "stdout",
     "output_type": "stream",
     "text": [
      "6.77 ms ± 1.06 ms per loop (mean ± std. dev. of 10 runs, 1 loop each)\n"
     ]
    }
   ],
   "source": [
    "%%timeit -n1 -r10\n",
    "\n",
    "x.sum(dim=1).mean()"
   ]
  },
  {
   "cell_type": "code",
   "execution_count": 13,
   "id": "dab825b0-87e4-4ec0-9845-0bfe417d2ee8",
   "metadata": {},
   "outputs": [
    {
     "name": "stdout",
     "output_type": "stream",
     "text": [
      "The slowest run took 2676.74 times longer than the fastest. This could mean that an intermediate result is being cached.\n",
      "11.9 ms ± 34.8 ms per loop (mean ± std. dev. of 10 runs, 1 loop each)\n"
     ]
    }
   ],
   "source": [
    "%%timeit -n1 -r10\n",
    "\n",
    "x_xpu.sum(dim=1).mean()"
   ]
  },
  {
   "cell_type": "code",
   "execution_count": null,
   "id": "1f6081bb-aede-4e95-9b54-971aed7e47a0",
   "metadata": {},
   "outputs": [],
   "source": []
  }
 ],
 "metadata": {
  "kernelspec": {
   "display_name": "Python 3 (ipykernel)",
   "language": "python",
   "name": "python3"
  },
  "language_info": {
   "codemirror_mode": {
    "name": "ipython",
    "version": 3
   },
   "file_extension": ".py",
   "mimetype": "text/x-python",
   "name": "python",
   "nbconvert_exporter": "python",
   "pygments_lexer": "ipython3",
   "version": "3.12.3"
  }
 },
 "nbformat": 4,
 "nbformat_minor": 5
}
