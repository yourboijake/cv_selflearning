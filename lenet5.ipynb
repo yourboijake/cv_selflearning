{
 "cells": [
  {
   "cell_type": "code",
   "execution_count": 62,
   "id": "ef1db504-aad4-41f1-b87c-7372f41cd18a",
   "metadata": {},
   "outputs": [],
   "source": [
    "import matplotlib.pyplot as plt\n",
    "import os"
   ]
  },
  {
   "cell_type": "code",
   "execution_count": 24,
   "id": "d418d517-7d07-4671-902a-9d655913f19a",
   "metadata": {},
   "outputs": [],
   "source": [
    "import idx2numpy\n",
    "import numpy as np\n",
    "\n",
    "Xtr = idx2numpy.convert_from_file('mnist/train-images.idx3-ubyte')\n",
    "Ytr = idx2numpy.convert_from_file('mnist/train-labels.idx1-ubyte')\n",
    "Xtst = idx2numpy.convert_from_file('mnist/t10k-images.idx3-ubyte')\n",
    "Ytst = idx2numpy.convert_from_file('mnist/t10k-labels.idx1-ubyte')"
   ]
  },
  {
   "cell_type": "code",
   "execution_count": 8,
   "id": "a993907d-8b55-4f2a-b54f-ef0429bd8ac7",
   "metadata": {},
   "outputs": [],
   "source": [
    "#creating 7x12 bitmapped images to train LeNet against\n",
    "from bitstring import BitArray\n",
    "\n",
    "def bitstring_to_pbm(bitstring_data, width, height, filename):\n",
    "    \"\"\"\n",
    "    Converts a bitstring to a PBM image file.\n",
    "\n",
    "    Args:\n",
    "        bitstring_data: A bitstring object containing the image data.\n",
    "        width: The width of the image in pixels.\n",
    "        height: The height of the image in pixels.\n",
    "        filename: The name of the PBM file to create.\n",
    "    \"\"\"\n",
    "    if len(bitstring_data) != width * height:\n",
    "        raise ValueError(\"Bitstring length does not match image dimensions.\")\n",
    "\n",
    "    with open(filename, 'w') as f:\n",
    "        f.write(\"P1\\n\")  # PBM format header (ASCII)\n",
    "        f.write(f\"{width} {height}\\n\")  # Image dimensions\n",
    "\n",
    "        # Write pixel data (1 for black, 0 for white)\n",
    "        for i in range(height):\n",
    "            for j in range(width):\n",
    "                f.write(str(int(bitstring_data[i * width + j])) + \" \")\n",
    "            f.write(\"\\n\")"
   ]
  },
  {
   "cell_type": "code",
   "execution_count": 786,
   "id": "04adcaf3-b76a-4826-9615-272add294228",
   "metadata": {},
   "outputs": [],
   "source": [
    "#need ascii 32 to 126\n",
    "filename='ASCII_pbms/ASCII_126.pbm'\n",
    "data = '''\n",
    "0000000\n",
    "0000000\n",
    "0000000\n",
    "0000000\n",
    "0000000\n",
    "0001001\n",
    "0110110\n",
    "0000000\n",
    "0000000\n",
    "0000000\n",
    "0000000\n",
    "0000000\n",
    "'''\n",
    "\n",
    "width = 7\n",
    "height = 12\n",
    "image_data = np.array(list(data.replace('\\n', ''))).reshape(height, width).astype(np.int8)"
   ]
  },
  {
   "cell_type": "code",
   "execution_count": 787,
   "id": "93e417f1-8461-423d-8180-c82d5872f4e2",
   "metadata": {},
   "outputs": [
    {
     "data": {
      "image/png": "[encoded data removed]",
      "text/plain": [
       "<Figure size 640x480 with 1 Axes>"
      ]
     },
     "metadata": {},
     "output_type": "display_data"
    }
   ],
   "source": [
    "# Display the image using imshow\n",
    "plt.imshow(image_data, cmap='gray_r')\n",
    "ax = plt.gca()\n",
    "\n",
    "# Set border properties\n",
    "for spine in ax.spines.values():\n",
    "    spine.set_edgecolor('grey')  # Set border color\n",
    "    spine.set_linewidth(2)      # Set border thickness\n",
    "\n",
    "# Remove the ticks\n",
    "ax.set_xticks([])\n",
    "ax.set_yticks([])\n",
    "\n",
    "plt.show()"
   ]
  },
  {
   "cell_type": "code",
   "execution_count": 788,
   "id": "5660b53d-a4ae-481e-874e-7be3e7e8e4e8",
   "metadata": {},
   "outputs": [
    {
     "name": "stdout",
     "output_type": "stream",
     "text": [
      "creating file ASCII_pbms/ASCII_126.pbm\n"
     ]
    }
   ],
   "source": [
    "#save image\n",
    "\n",
    "data = BitArray(bin=data)\n",
    "\n",
    "#check for file\n",
    "if filename.split('/')[1] not in os.listdir('ASCII_pbms'):\n",
    "    print('creating file', filename)\n",
    "    bitstring_to_pbm(data, width, height, filename)\n",
    "else:\n",
    "    print('file already exists')"
   ]
  },
  {
   "cell_type": "code",
   "execution_count": 789,
   "id": "9b754154-4691-46a9-8bad-4613da10ab3b",
   "metadata": {},
   "outputs": [],
   "source": [
    "#print PBM images\n",
    "def read_pbm_file(filename):\n",
    "    with open(filename, 'r') as f:\n",
    "        l = f.readlines()\n",
    "    bits = []\n",
    "    for i in range(2, len(l)):\n",
    "        lstr = l[i].replace('\\n', '').replace(' ', '')\n",
    "        bits.append([int(b) for b in lstr])\n",
    "\n",
    "    bits = np.array(bits)\n",
    "    return bits"
   ]
  },
  {
   "cell_type": "code",
   "execution_count": 811,
   "id": "642160d4-50ea-4fea-8397-268105613b04",
   "metadata": {},
   "outputs": [
    {
     "data": {
      "image/png": "[encoded data removed]",
      "text/plain": [
       "<Figure size 640x480 with 1 Axes>"
      ]
     },
     "metadata": {},
     "output_type": "display_data"
    }
   ],
   "source": [
    "filename = 'ASCII_pbms/ASCII_54.pbm'\n",
    "image_data = read_pbm(filename)\n",
    "\n",
    "# Display the image using imshow\n",
    "plt.imshow(image_data, cmap='gray_r')\n",
    "ax = plt.gca()\n",
    "\n",
    "# Set border properties\n",
    "for spine in ax.spines.values():\n",
    "    spine.set_edgecolor('grey')  # Set border color\n",
    "    spine.set_linewidth(2)      # Set border thickness\n",
    "\n",
    "# Remove the ticks\n",
    "ax.set_xticks([])\n",
    "ax.set_yticks([])\n",
    "\n",
    "plt.show()"
   ]
  },
  {
   "cell_type": "code",
   "execution_count": 34,
   "id": "49a84196",
   "metadata": {},
   "outputs": [],
   "source": [
    "\n",
    "#creation of handwritten text dataset\n",
    "import pandas as pd\n",
    "\n",
    "splits = {'train': 'data/train.parquet', 'validation': 'data/validation.parquet', 'test': 'data/test.parquet'}\n",
    "df_train = pd.read_parquet(\"hf://datasets/Teklia/IAM-line/\" + splits[\"train\"])\n",
    "df_val = pd.read_parquet(\"hf://datasets/Teklia/IAM-line/\" + splits[\"validation\"])\n",
    "df_test = pd.read_parquet(\"hf://datasets/Teklia/IAM-line/\" + splits[\"test\"])\n",
    "\n",
    "#define types\n",
    "df_train['type'] = 'train'\n",
    "df_val['type'] = 'validation'\n",
    "df_test['type'] = 'test'\n",
    "\n",
    "\n",
    "#concat, isolate image bytestrings, save\n",
    "df = pd.concat([df_train, df_val, df_test])\n",
    "df['bytes'] = df.image.apply(lambda x: x['bytes'])\n",
    "df[['text', 'bytes', 'type']].to_parquet('df.parquet.gzip', compression='gzip') "
   ]
  },
  {
   "cell_type": "code",
   "execution_count": 35,
   "id": "66f10bb5-a3e0-4a26-a87f-08b761e66e0c",
   "metadata": {},
   "outputs": [
    {
     "data": {
      "text/html": [
       "<div>\n",
       "<style scoped>\n",
       "    .dataframe tbody tr th:only-of-type {\n",
       "        vertical-align: middle;\n",
       "    }\n",
       "\n",
       "    .dataframe tbody tr th {\n",
       "        vertical-align: top;\n",
       "    }\n",
       "\n",
       "    .dataframe thead th {\n",
       "        text-align: right;\n",
       "    }\n",
       "</style>\n",
       "<table border=\"1\" class=\"dataframe\">\n",
       "  <thead>\n",
       "    <tr style=\"text-align: right;\">\n",
       "      <th></th>\n",
       "      <th>text</th>\n",
       "      <th>image</th>\n",
       "      <th>type</th>\n",
       "      <th>bytes</th>\n",
       "    </tr>\n",
       "  </thead>\n",
       "  <tbody>\n",
       "    <tr>\n",
       "      <th>0</th>\n",
       "      <td>put down a resolution on the subject</td>\n",
       "      <td>{'bytes': b'\\xff\\xd8\\xff\\xe0\\x00\\x10JFIF\\x00\\x...</td>\n",
       "      <td>train</td>\n",
       "      <td>b'\\xff\\xd8\\xff\\xe0\\x00\\x10JFIF\\x00\\x01\\x01\\x00...</td>\n",
       "    </tr>\n",
       "    <tr>\n",
       "      <th>1</th>\n",
       "      <td>and he is to be backed by Mr. Will</td>\n",
       "      <td>{'bytes': b'\\xff\\xd8\\xff\\xe0\\x00\\x10JFIF\\x00\\x...</td>\n",
       "      <td>train</td>\n",
       "      <td>b'\\xff\\xd8\\xff\\xe0\\x00\\x10JFIF\\x00\\x01\\x01\\x00...</td>\n",
       "    </tr>\n",
       "    <tr>\n",
       "      <th>2</th>\n",
       "      <td>nominating any more Labour life Peers</td>\n",
       "      <td>{'bytes': b'\\xff\\xd8\\xff\\xe0\\x00\\x10JFIF\\x00\\x...</td>\n",
       "      <td>train</td>\n",
       "      <td>b'\\xff\\xd8\\xff\\xe0\\x00\\x10JFIF\\x00\\x01\\x01\\x00...</td>\n",
       "    </tr>\n",
       "    <tr>\n",
       "      <th>3</th>\n",
       "      <td>M Ps tomorrow. Mr. Michael Foot has</td>\n",
       "      <td>{'bytes': b'\\xff\\xd8\\xff\\xe0\\x00\\x10JFIF\\x00\\x...</td>\n",
       "      <td>train</td>\n",
       "      <td>b'\\xff\\xd8\\xff\\xe0\\x00\\x10JFIF\\x00\\x01\\x01\\x00...</td>\n",
       "    </tr>\n",
       "    <tr>\n",
       "      <th>4</th>\n",
       "      <td>Griffiths, M P for Manchester Exchange .</td>\n",
       "      <td>{'bytes': b'\\xff\\xd8\\xff\\xe0\\x00\\x10JFIF\\x00\\x...</td>\n",
       "      <td>train</td>\n",
       "      <td>b'\\xff\\xd8\\xff\\xe0\\x00\\x10JFIF\\x00\\x01\\x01\\x00...</td>\n",
       "    </tr>\n",
       "    <tr>\n",
       "      <th>...</th>\n",
       "      <td>...</td>\n",
       "      <td>...</td>\n",
       "      <td>...</td>\n",
       "      <td>...</td>\n",
       "    </tr>\n",
       "    <tr>\n",
       "      <th>2910</th>\n",
       "      <td>just dusty-grey but muddy , slimy even .</td>\n",
       "      <td>{'bytes': b'\\xff\\xd8\\xff\\xe0\\x00\\x10JFIF\\x00\\x...</td>\n",
       "      <td>test</td>\n",
       "      <td>b'\\xff\\xd8\\xff\\xe0\\x00\\x10JFIF\\x00\\x01\\x01\\x00...</td>\n",
       "    </tr>\n",
       "    <tr>\n",
       "      <th>2911</th>\n",
       "      <td>the fake friend of the family , like the</td>\n",
       "      <td>{'bytes': b'\\xff\\xd8\\xff\\xe0\\x00\\x10JFIF\\x00\\x...</td>\n",
       "      <td>test</td>\n",
       "      <td>b'\\xff\\xd8\\xff\\xe0\\x00\\x10JFIF\\x00\\x01\\x01\\x00...</td>\n",
       "    </tr>\n",
       "    <tr>\n",
       "      <th>2912</th>\n",
       "      <td>client's eyes , the dust of fake security , of</td>\n",
       "      <td>{'bytes': b'\\xff\\xd8\\xff\\xe0\\x00\\x10JFIF\\x00\\x...</td>\n",
       "      <td>test</td>\n",
       "      <td>b'\\xff\\xd8\\xff\\xe0\\x00\\x10JFIF\\x00\\x01\\x01\\x00...</td>\n",
       "    </tr>\n",
       "    <tr>\n",
       "      <th>2913</th>\n",
       "      <td>the result being somehow as ineffective , not</td>\n",
       "      <td>{'bytes': b'\\xff\\xd8\\xff\\xe0\\x00\\x10JFIF\\x00\\x...</td>\n",
       "      <td>test</td>\n",
       "      <td>b'\\xff\\xd8\\xff\\xe0\\x00\\x10JFIF\\x00\\x01\\x01\\x00...</td>\n",
       "    </tr>\n",
       "    <tr>\n",
       "      <th>2914</th>\n",
       "      <td>His voice was like his black and pin-stripe ,</td>\n",
       "      <td>{'bytes': b'\\xff\\xd8\\xff\\xe0\\x00\\x10JFIF\\x00\\x...</td>\n",
       "      <td>test</td>\n",
       "      <td>b'\\xff\\xd8\\xff\\xe0\\x00\\x10JFIF\\x00\\x01\\x01\\x00...</td>\n",
       "    </tr>\n",
       "  </tbody>\n",
       "</table>\n",
       "<p>10373 rows × 4 columns</p>\n",
       "</div>"
      ],
      "text/plain": [
       "                                                text  \\\n",
       "0               put down a resolution on the subject   \n",
       "1                 and he is to be backed by Mr. Will   \n",
       "2              nominating any more Labour life Peers   \n",
       "3                M Ps tomorrow. Mr. Michael Foot has   \n",
       "4           Griffiths, M P for Manchester Exchange .   \n",
       "...                                              ...   \n",
       "2910        just dusty-grey but muddy , slimy even .   \n",
       "2911        the fake friend of the family , like the   \n",
       "2912  client's eyes , the dust of fake security , of   \n",
       "2913   the result being somehow as ineffective , not   \n",
       "2914   His voice was like his black and pin-stripe ,   \n",
       "\n",
       "                                                  image   type  \\\n",
       "0     {'bytes': b'\\xff\\xd8\\xff\\xe0\\x00\\x10JFIF\\x00\\x...  train   \n",
       "1     {'bytes': b'\\xff\\xd8\\xff\\xe0\\x00\\x10JFIF\\x00\\x...  train   \n",
       "2     {'bytes': b'\\xff\\xd8\\xff\\xe0\\x00\\x10JFIF\\x00\\x...  train   \n",
       "3     {'bytes': b'\\xff\\xd8\\xff\\xe0\\x00\\x10JFIF\\x00\\x...  train   \n",
       "4     {'bytes': b'\\xff\\xd8\\xff\\xe0\\x00\\x10JFIF\\x00\\x...  train   \n",
       "...                                                 ...    ...   \n",
       "2910  {'bytes': b'\\xff\\xd8\\xff\\xe0\\x00\\x10JFIF\\x00\\x...   test   \n",
       "2911  {'bytes': b'\\xff\\xd8\\xff\\xe0\\x00\\x10JFIF\\x00\\x...   test   \n",
       "2912  {'bytes': b'\\xff\\xd8\\xff\\xe0\\x00\\x10JFIF\\x00\\x...   test   \n",
       "2913  {'bytes': b'\\xff\\xd8\\xff\\xe0\\x00\\x10JFIF\\x00\\x...   test   \n",
       "2914  {'bytes': b'\\xff\\xd8\\xff\\xe0\\x00\\x10JFIF\\x00\\x...   test   \n",
       "\n",
       "                                                  bytes  \n",
       "0     b'\\xff\\xd8\\xff\\xe0\\x00\\x10JFIF\\x00\\x01\\x01\\x00...  \n",
       "1     b'\\xff\\xd8\\xff\\xe0\\x00\\x10JFIF\\x00\\x01\\x01\\x00...  \n",
       "2     b'\\xff\\xd8\\xff\\xe0\\x00\\x10JFIF\\x00\\x01\\x01\\x00...  \n",
       "3     b'\\xff\\xd8\\xff\\xe0\\x00\\x10JFIF\\x00\\x01\\x01\\x00...  \n",
       "4     b'\\xff\\xd8\\xff\\xe0\\x00\\x10JFIF\\x00\\x01\\x01\\x00...  \n",
       "...                                                 ...  \n",
       "2910  b'\\xff\\xd8\\xff\\xe0\\x00\\x10JFIF\\x00\\x01\\x01\\x00...  \n",
       "2911  b'\\xff\\xd8\\xff\\xe0\\x00\\x10JFIF\\x00\\x01\\x01\\x00...  \n",
       "2912  b'\\xff\\xd8\\xff\\xe0\\x00\\x10JFIF\\x00\\x01\\x01\\x00...  \n",
       "2913  b'\\xff\\xd8\\xff\\xe0\\x00\\x10JFIF\\x00\\x01\\x01\\x00...  \n",
       "2914  b'\\xff\\xd8\\xff\\xe0\\x00\\x10JFIF\\x00\\x01\\x01\\x00...  \n",
       "\n",
       "[10373 rows x 4 columns]"
      ]
     },
     "execution_count": 35,
     "metadata": {},
     "output_type": "execute_result"
    }
   ],
   "source": [
    "df"
   ]
  },
  {
   "cell_type": "code",
   "execution_count": null,
   "id": "6c558406-3bb8-46bc-9c19-435a63e13aa3",
   "metadata": {},
   "outputs": [],
   "source": []
  },
  {
   "cell_type": "code",
   "execution_count": null,
   "id": "e2e17521-ead8-4f3f-a78a-818811e720e7",
   "metadata": {},
   "outputs": [],
   "source": []
  },
  {
   "cell_type": "code",
   "execution_count": null,
   "id": "84781d65-d860-4919-a820-81152e2e829f",
   "metadata": {},
   "outputs": [],
   "source": []
  }
 ],
 "metadata": {
  "kernelspec": {
   "display_name": "Python 3 (ipykernel)",
   "language": "python",
   "name": "python3"
  },
  "language_info": {
   "codemirror_mode": {
    "name": "ipython",
    "version": 3
   },
   "file_extension": ".py",
   "mimetype": "text/x-python",
   "name": "python",
   "nbconvert_exporter": "python",
   "pygments_lexer": "ipython3",
   "version": "3.10.12"
  }
 },
 "nbformat": 4,
 "nbformat_minor": 5
}
