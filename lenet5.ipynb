{
 "cells": [
  {
   "cell_type": "code",
   "execution_count": 227,
   "id": "ef1db504-aad4-41f1-b87c-7372f41cd18a",
   "metadata": {},
   "outputs": [],
   "source": [
    "import matplotlib.pyplot as plt\n",
    "import os\n",
    "import torch\n",
    "import torch.nn.functional as torchF\n",
    "import pandas as pd\n",
    "import idx2numpy\n",
    "import numpy as np"
   ]
  },
  {
   "cell_type": "code",
   "execution_count": 8,
   "id": "a993907d-8b55-4f2a-b54f-ef0429bd8ac7",
   "metadata": {},
   "outputs": [],
   "source": [
    "#creating 7x12 bitmapped images to train LeNet against\n",
    "from bitstring import BitArray\n",
    "\n",
    "def bitstring_to_pbm(bitstring_data, width, height, filename):\n",
    "    \"\"\"\n",
    "    Converts a bitstring to a PBM image file.\n",
    "\n",
    "    Args:\n",
    "        bitstring_data: A bitstring object containing the image data.\n",
    "        width: The width of the image in pixels.\n",
    "        height: The height of the image in pixels.\n",
    "        filename: The name of the PBM file to create.\n",
    "    \"\"\"\n",
    "    if len(bitstring_data) != width * height:\n",
    "        raise ValueError(\"Bitstring length does not match image dimensions.\")\n",
    "\n",
    "    with open(filename, 'w') as f:\n",
    "        f.write(\"P1\\n\")  # PBM format header (ASCII)\n",
    "        f.write(f\"{width} {height}\\n\")  # Image dimensions\n",
    "\n",
    "        # Write pixel data (1 for black, 0 for white)\n",
    "        for i in range(height):\n",
    "            for j in range(width):\n",
    "                f.write(str(int(bitstring_data[i * width + j])) + \" \")\n",
    "            f.write(\"\\n\")"
   ]
  },
  {
   "cell_type": "code",
   "execution_count": 786,
   "id": "04adcaf3-b76a-4826-9615-272add294228",
   "metadata": {},
   "outputs": [],
   "source": [
    "#need ascii 32 to 126\n",
    "filename='ASCII_pbms/ASCII_126.pbm'\n",
    "data = '''\n",
    "0000000\n",
    "0000000\n",
    "0000000\n",
    "0000000\n",
    "0000000\n",
    "0001001\n",
    "0110110\n",
    "0000000\n",
    "0000000\n",
    "0000000\n",
    "0000000\n",
    "0000000\n",
    "'''\n",
    "\n",
    "width = 7\n",
    "height = 12\n",
    "image_data = np.array(list(data.replace('\\n', ''))).reshape(height, width).astype(np.int8)"
   ]
  },
  {
   "cell_type": "code",
   "execution_count": 787,
   "id": "93e417f1-8461-423d-8180-c82d5872f4e2",
   "metadata": {},
   "outputs": [
    {
     "data": {
      "image/png": "[encoded data removed]",
      "text/plain": [
       "<Figure size 640x480 with 1 Axes>"
      ]
     },
     "metadata": {},
     "output_type": "display_data"
    }
   ],
   "source": [
    "# Display the image using imshow\n",
    "plt.imshow(image_data, cmap='gray_r')\n",
    "ax = plt.gca()\n",
    "\n",
    "# Set border properties\n",
    "for spine in ax.spines.values():\n",
    "    spine.set_edgecolor('grey')  # Set border color\n",
    "    spine.set_linewidth(2)      # Set border thickness\n",
    "\n",
    "# Remove the ticks\n",
    "ax.set_xticks([])\n",
    "ax.set_yticks([])\n",
    "\n",
    "plt.show()"
   ]
  },
  {
   "cell_type": "code",
   "execution_count": 788,
   "id": "5660b53d-a4ae-481e-874e-7be3e7e8e4e8",
   "metadata": {},
   "outputs": [
    {
     "name": "stdout",
     "output_type": "stream",
     "text": [
      "creating file ASCII_pbms/ASCII_126.pbm\n"
     ]
    }
   ],
   "source": [
    "#save image\n",
    "\n",
    "data = BitArray(bin=data)\n",
    "\n",
    "#check for file\n",
    "if filename.split('/')[1] not in os.listdir('ASCII_pbms'):\n",
    "    print('creating file', filename)\n",
    "    bitstring_to_pbm(data, width, height, filename)\n",
    "else:\n",
    "    print('file already exists')"
   ]
  },
  {
   "cell_type": "code",
   "execution_count": 443,
   "id": "9b754154-4691-46a9-8bad-4613da10ab3b",
   "metadata": {},
   "outputs": [],
   "source": [
    "#print PBM images\n",
    "def read_pbm_file(filename):\n",
    "    with open(filename, 'r') as f:\n",
    "        l = f.readlines()\n",
    "    bits = []\n",
    "    for i in range(2, len(l)):\n",
    "        lstr = l[i].replace('\\n', '').replace(' ', '')\n",
    "        bits.append([int(b) for b in lstr])\n",
    "\n",
    "    bits = np.array(bits)\n",
    "    return bits"
   ]
  },
  {
   "cell_type": "code",
   "execution_count": 811,
   "id": "642160d4-50ea-4fea-8397-268105613b04",
   "metadata": {},
   "outputs": [
    {
     "data": {
      "image/png": "[encoded data removed]",
      "text/plain": [
       "<Figure size 640x480 with 1 Axes>"
      ]
     },
     "metadata": {},
     "output_type": "display_data"
    }
   ],
   "source": [
    "filename = 'ASCII_pbms/ASCII_54.pbm'\n",
    "image_data = read_pbm(filename)\n",
    "\n",
    "# Display the image using imshow\n",
    "plt.imshow(image_data, cmap='gray_r')\n",
    "ax = plt.gca()\n",
    "\n",
    "# Set border properties\n",
    "for spine in ax.spines.values():\n",
    "    spine.set_edgecolor('grey')  # Set border color\n",
    "    spine.set_linewidth(2)      # Set border thickness\n",
    "\n",
    "# Remove the ticks\n",
    "ax.set_xticks([])\n",
    "ax.set_yticks([])\n",
    "\n",
    "plt.show()"
   ]
  },
  {
   "cell_type": "markdown",
   "id": "0d2c4ddb-c06e-407a-af62-793619b94a3c",
   "metadata": {},
   "source": [
    "## Training MNIST Against 7x12 Bitmapped ASCII Printable Chars\n",
    "\n",
    "In the LeNet paper, loss function is a Euclidean RBF comparison of output layer against an \"idealized\" version of the inputs (7x12 bitmapped ASCII). I couldn't find a dataset for these online, so I recreated them. The section below recreates the single-char classification model from the first half of the LeNet paper"
   ]
  },
  {
   "cell_type": "code",
   "execution_count": 4,
   "id": "87b65af4-2243-4b12-8efd-47cca6bafaee",
   "metadata": {},
   "outputs": [],
   "source": [
    "#dataset prep\n",
    "ascii_map = open('emnist/emnist-byclass-mapping.txt', 'r').readlines()\n",
    "ascii_map = dict([(int(l.rstrip().split(' ')[0]), int(l.rstrip().split(' ')[1])) for l in ascii_map])\n",
    "\n",
    "col_names = ['class'] + ['pix'+str(i) for i in range(28*28)]\n",
    "df_train = pd.read_csv('emnist/emnist-byclass-train.csv', names=col_names)\n",
    "df_train['ascii#'] = df_train['class'].map(ascii_map)\n",
    "df_test = pd.read_csv('emnist/emnist-byclass-test.csv', names=col_names)\n",
    "df_test['ascii#'] = df_test['class'].map(ascii_map)"
   ]
  },
  {
   "cell_type": "code",
   "execution_count": 5,
   "id": "be8d2aff-4795-4fd7-8f7d-81eba089e9aa",
   "metadata": {},
   "outputs": [
    {
     "data": {
      "text/plain": [
       "((697932, 786), (116323, 786))"
      ]
     },
     "execution_count": 5,
     "metadata": {},
     "output_type": "execute_result"
    }
   ],
   "source": [
    "df_train.shape, df_test.shape"
   ]
  },
  {
   "cell_type": "code",
   "execution_count": 24,
   "id": "42d92a4b-b60d-429f-9748-b41b460bf221",
   "metadata": {},
   "outputs": [
    {
     "name": "stdout",
     "output_type": "stream",
     "text": [
      "79\n"
     ]
    },
    {
     "data": {
      "image/png": "[encoded data removed]",
      "text/plain": [
       "<Figure size 640x480 with 1 Axes>"
      ]
     },
     "metadata": {},
     "output_type": "display_data"
    }
   ],
   "source": [
    "def print_img(df, idx):\n",
    "    a = df_test.iloc[idx, 1:-1].to_numpy().reshape(28, 28).T\n",
    "    print(df_test.iloc[idx, -1])\n",
    "    plt.imshow(a, cmap='gray_r')\n",
    "\n",
    "print_img(df_train, 46)"
   ]
  },
  {
   "cell_type": "code",
   "execution_count": 702,
   "id": "abc454e9-798d-40dd-a30c-dfe58898ed5c",
   "metadata": {},
   "outputs": [],
   "source": [
    "#load full printable ascii bitmap set into \"parameter\" tensor for model eval\n",
    "bm_l = []\n",
    "bm_dict = {}\n",
    "for i, num in enumerate(sorted(pd.concat([df_test['ascii#'], df_train['ascii#']]).unique().tolist())):\n",
    "    fname = f'ASCII_pbms/ASCII_{num}.pbm'\n",
    "    arr = read_pbm_file(fname)\n",
    "    bm_l.append(arr)\n",
    "    bm_dict[num] = i\n",
    "\n",
    "bm_param = torch.Tensor(np.array(bm_l)).reshape(62, 84)"
   ]
  },
  {
   "cell_type": "code",
   "execution_count": 838,
   "id": "c02f3bc4-6fec-4ba6-b75a-099672c9c5b8",
   "metadata": {},
   "outputs": [],
   "source": [
    "#hyperparams\n",
    "F = 5 #size of square conv kernel\n",
    "S = 1 #stride of conv kernel\n",
    "B = 64 #batch dimension\n",
    "SS = 2 #subsampling window size\n",
    "act_list = {}\n",
    "\n",
    "#feedforward\n",
    "#retrieve sample batch, convert to numpy\n",
    "x_batch = df_train.sample(B).iloc[:, 1:].to_numpy()\n",
    "x, y = x_batch[:, :-1], x_batch[:, -1]\n",
    "\n",
    "#reshape to square matrix and zero pad 2-pixels on each side: (28x28) --> (32x32)\n",
    "x = x.reshape(B, 28, 28)\n",
    "x = torch.transpose(torch.Tensor(x), 1, 2)\n",
    "x = torchF.pad(x, pad=(2, 2, 2, 2), value=0.0)\n",
    "\n",
    "#normalize\n",
    "x = x / 255.0\n",
    "act_list['xin'] = x\n",
    "\n",
    "#convolution1\n",
    "W1 = torch.randn((6, 1, 1, F, F)) / (F*F)\n",
    "b1 = torch.randn((6, 1, 1))\n",
    "x_conv1 = x.unfold(1, F, S).unfold(2, F, S).unsqueeze(1)\n",
    "x = (x_conv1 * W1).sum(dim=(-2, -1)) + b1\n",
    "#insert normalization here\n",
    "act_list['conv1'] = x\n",
    "x = x.sigmoid()\n",
    "\n",
    "#subsampling2\n",
    "w2 = torch.randn((6, 1, 1))\n",
    "b2 = torch.randn((6, 1, 1))\n",
    "x = x.unfold(2, SS, SS).unfold(3, SS, SS).sum(dim=(-2, -1))\n",
    "x /= float(SS*SS)\n",
    "x = x * w2 + b2\n",
    "act_list['ss2'] = x\n",
    "x = x.sigmoid()\n",
    "\n",
    "#conv3, uses special sparse connections\n",
    "#define sparse convolutional connections\n",
    "W3_sparse_conv_idx = sum([[(i+x) % 6 for x in range(3)] for i in range(6)], [])\n",
    "W3_sparse_conv_idx += sum([[(i+x) % 6 for x in range(4)] for i in range(6)], [])\n",
    "W3_sparse_conv_idx += [0, 1, 3, 4, 1, 2, 4, 5, 0, 2, 3, 5] + list(range(6))\n",
    "\n",
    "W3 = torch.randn((60, 1, 1, F, F)) / (F*F*60)\n",
    "b3 = torch.randn((16, 1, 1))\n",
    "\n",
    "#applying sparse conv index, unfold into convs\n",
    "x_conv3 = x[:, W3_sparse_conv_idx, :, :].unfold(2, F, S).unfold(3, F, S)\n",
    "x = (x_conv3 * W3).sum(dim=(-2, -1))\n",
    "\n",
    "#sum together 60 convs into 16 feature maps\n",
    "W3_sparse_summed = [x[:, 3*i:3*(i+1), :, :].sum(dim=1, keepdim=True) for i in range(6)] \n",
    "W3_sparse_summed += [x[:, 18+4*i:18+4*(i+1), :, :].sum(dim=1, keepdim=True) for i in range(9)]\n",
    "W3_sparse_summed += [x[:, 54:60, :, :].sum(dim=1, keepdim=True)]\n",
    "\n",
    "x = torch.cat(W3_sparse_summed, dim=1)\n",
    "x += b3\n",
    "act_list['conv3'] = x\n",
    "x = x.sigmoid()\n",
    "\n",
    "\n",
    "#subsamp4\n",
    "w4 = torch.randn((16, 1, 1))\n",
    "b4 = torch.randn((16, 1, 1))\n",
    "x = x.unfold(2, SS, SS).unfold(3, SS, SS).sum(dim=(-2, -1))\n",
    "x /= float(SS*SS)\n",
    "x = x * w4 + b4\n",
    "act_list['ss4'] = x\n",
    "\n",
    "\n",
    "#conv5\n",
    "W5 = torch.randn((120, 16, 5, 5)) / (F*F*16)\n",
    "b5 = torch.randn(120)\n",
    "x = (x.unsqueeze(1) * W5).sum(dim=(-3, -2, -1)) + b5\n",
    "act_list['conv5'] = x\n",
    "x = x.sigmoid()\n",
    "\n",
    "#F6, fully connected\n",
    "W6 = torch.randn((120, 84)) / 120**0.5\n",
    "b6 = torch.randn(84)\n",
    "x = x @ W6 + b6\n",
    "act_list['f6'] = x\n",
    "x = torchF.tanh(x) #tanh in paper instead of sigmoid like other layers\n",
    "\n",
    "#O7, output layer\n",
    "#x = (x.unsqueeze(-1) - bm_param.T).square().sum(dim=1)\n",
    "#x /= 84.0\n",
    "#act_list['out7'] = x.reshape(-1)"
   ]
  },
  {
   "cell_type": "code",
   "execution_count": 855,
   "id": "cb7f60f5-7077-4d4e-9222-4385bf1ad899",
   "metadata": {},
   "outputs": [
    {
     "data": {
      "text/plain": [
       "False"
      ]
     },
     "execution_count": 855,
     "metadata": {},
     "output_type": "execute_result"
    }
   ],
   "source": [
    "t = act_list['xin']\n",
    "torch.allclose(t.reshape(64, -1)[0], t.reshape(64, -1)[1])"
   ]
  },
  {
   "cell_type": "code",
   "execution_count": 857,
   "id": "d0f8c62f-c04f-49c0-b6ab-13cf0d1911ce",
   "metadata": {},
   "outputs": [
    {
     "data": {
      "text/plain": [
       "torch.Size([65536])"
      ]
     },
     "execution_count": 857,
     "metadata": {},
     "output_type": "execute_result"
    }
   ],
   "source": [
    "act_list['xin'].shape"
   ]
  },
  {
   "cell_type": "code",
   "execution_count": 842,
   "id": "1df019a9-eca1-4089-80cd-0e0b92a9b599",
   "metadata": {},
   "outputs": [
    {
     "data": {
      "text/plain": [
       "(tensor([ True, False,  True,  True,  True, False, False,  True, False,  True,\n",
       "         False,  True, False,  True,  True, False,  True,  True, False,  True,\n",
       "         False,  True,  True, False,  True, False, False, False,  True, False,\n",
       "          True,  True, False,  True,  True, False,  True, False, False,  True,\n",
       "         False, False,  True,  True,  True, False, False,  True, False, False,\n",
       "          True,  True,  True, False,  True,  True,  True,  True, False, False,\n",
       "         False,  True,  True, False,  True, False,  True,  True,  True,  True,\n",
       "         False, False,  True, False, False,  True, False, False, False, False,\n",
       "          True,  True, False, False]),\n",
       " tensor([ True, False,  True,  True, False,  True, False,  True, False, False,\n",
       "         False,  True, False,  True,  True, False,  True,  True,  True,  True,\n",
       "         False,  True, False, False, False,  True,  True, False, False, False,\n",
       "          True,  True, False,  True,  True,  True,  True,  True, False,  True,\n",
       "         False, False,  True, False,  True, False,  True, False, False,  True,\n",
       "         False,  True,  True,  True,  True, False, False,  True, False, False,\n",
       "         False,  True,  True, False,  True, False,  True, False,  True, False,\n",
       "         False, False,  True, False, False,  True,  True, False,  True,  True,\n",
       "          True,  True, False,  True]),\n",
       " tensor(5.7503),\n",
       " tensor(5.7503))"
      ]
     },
     "execution_count": 842,
     "metadata": {},
     "output_type": "execute_result"
    }
   ],
   "source": [
    "x[0].eq(x[1]), x[1] == x[2], x[0].sum(), x[1].sum()"
   ]
  },
  {
   "cell_type": "code",
   "execution_count": 850,
   "id": "3dc97336-cc9d-40f8-8beb-55c2d1794f2d",
   "metadata": {},
   "outputs": [
    {
     "data": {
      "text/plain": [
       "(tensor([ True, False,  True,  True,  True, False, False,  True, False,  True,\n",
       "         False,  True, False,  True,  True, False,  True,  True, False,  True,\n",
       "         False,  True,  True, False,  True, False, False, False,  True, False,\n",
       "          True,  True, False,  True,  True, False,  True, False, False,  True,\n",
       "         False, False,  True,  True,  True, False, False,  True, False, False,\n",
       "          True,  True,  True, False,  True,  True,  True,  True, False, False,\n",
       "         False,  True,  True, False,  True, False,  True,  True,  True,  True,\n",
       "         False, False,  True, False, False,  True, False, False, False, False,\n",
       "          True,  True, False, False]),\n",
       " True,\n",
       " tensor([-0.9754,  0.9469, -0.9689,  0.9254,  0.8541,  0.1200,  0.3771,  0.8005,\n",
       "         -0.8164,  0.5315, -0.0728,  0.9547,  0.0694, -0.9005, -0.0315, -0.3645,\n",
       "          0.9020, -0.7717,  0.0706,  0.7580, -0.2448, -0.1325, -0.7806,  0.1328,\n",
       "          0.9913,  0.7916, -0.6754, -0.5297, -0.3686,  0.1730, -0.8620, -0.9887,\n",
       "          0.4364,  0.8151, -0.5948,  0.1932,  0.9286,  0.7065,  0.1131,  0.9820,\n",
       "          0.4796, -0.1807, -0.7677, -0.9483,  0.7801, -0.4121,  0.6034, -0.6915,\n",
       "         -0.0623, -0.3558, -0.2656,  0.6903,  0.9867,  0.6516, -0.7712,  0.6306,\n",
       "         -0.2634,  0.6198,  0.3205, -0.7254, -0.2594,  0.9345,  0.7291, -0.1224,\n",
       "         -0.9126,  0.5284, -0.8117, -0.7573, -0.7991,  0.8923, -0.5533,  0.2974,\n",
       "         -0.6219, -0.7560,  0.6531,  0.9103, -0.6828,  0.9440,  0.5131, -0.7851,\n",
       "          0.8510,  0.9014,  0.3023,  0.5418]),\n",
       " tensor([-0.9754,  0.9469, -0.9689,  0.9254,  0.8541,  0.1200,  0.3771,  0.8005,\n",
       "         -0.8164,  0.5315, -0.0728,  0.9547,  0.0694, -0.9005, -0.0315, -0.3645,\n",
       "          0.9020, -0.7717,  0.0706,  0.7580, -0.2448, -0.1325, -0.7806,  0.1328,\n",
       "          0.9913,  0.7916, -0.6754, -0.5297, -0.3686,  0.1730, -0.8620, -0.9887,\n",
       "          0.4364,  0.8151, -0.5948,  0.1932,  0.9286,  0.7065,  0.1131,  0.9820,\n",
       "          0.4796, -0.1807, -0.7677, -0.9483,  0.7801, -0.4121,  0.6034, -0.6915,\n",
       "         -0.0623, -0.3558, -0.2656,  0.6903,  0.9867,  0.6516, -0.7712,  0.6306,\n",
       "         -0.2634,  0.6198,  0.3205, -0.7254, -0.2594,  0.9345,  0.7291, -0.1224,\n",
       "         -0.9126,  0.5284, -0.8117, -0.7573, -0.7991,  0.8923, -0.5533,  0.2974,\n",
       "         -0.6219, -0.7560,  0.6531,  0.9103, -0.6828,  0.9440,  0.5131, -0.7851,\n",
       "          0.8510,  0.9014,  0.3023,  0.5418]))"
      ]
     },
     "execution_count": 850,
     "metadata": {},
     "output_type": "execute_result"
    }
   ],
   "source": [
    "x[0] == x[1], torch.allclose(x[0], x[1]), x[0], x[1]"
   ]
  },
  {
   "cell_type": "code",
   "execution_count": null,
   "id": "49013fb4-96e2-4d1b-8a23-ac43c24acfd1",
   "metadata": {},
   "outputs": [],
   "source": []
  },
  {
   "cell_type": "code",
   "execution_count": 778,
   "id": "0905f875-6f58-45f6-a5dd-6c787aea29b0",
   "metadata": {},
   "outputs": [],
   "source": [
    "#backpropagation\n",
    "\n",
    "#loss function\n",
    "#get index of y_pred value\n",
    "y_idx = np.vectorize(lambda x: bm_dict[x])(y)\n",
    "loss = (x[np.arange(x.shape[0]), y_idx] + (x*-1).exp().sum(axis=1).log()).mean()\n",
    "\n",
    "#backprop/gradient update"
   ]
  },
  {
   "cell_type": "code",
   "execution_count": 753,
   "id": "b360e614-20bf-49c7-af1c-e2c0594ef033",
   "metadata": {},
   "outputs": [
    {
     "data": {
      "text/plain": [
       "tensor([[ 0.8823,  0.8823,  0.8823,  ..., -1.0051, -1.0051, -1.0051],\n",
       "        [ 0.8823,  0.8823,  0.8823,  ..., -1.0051, -1.0051, -1.0051],\n",
       "        [ 0.8823,  0.8823,  0.8823,  ..., -1.0051, -1.0051, -1.0051],\n",
       "        ...,\n",
       "        [ 0.8823,  0.8823,  0.8823,  ..., -1.0051, -1.0051, -1.0051],\n",
       "        [ 0.8823,  0.8823,  0.8823,  ..., -1.0051, -1.0051, -1.0051],\n",
       "        [ 0.8823,  0.8823,  0.8823,  ..., -1.0051, -1.0051, -1.0051]])"
      ]
     },
     "execution_count": 753,
     "metadata": {},
     "output_type": "execute_result"
    }
   ],
   "source": [
    "act_list['ss4'].reshape(64, -1)"
   ]
  },
  {
   "cell_type": "code",
   "execution_count": 750,
   "id": "272c7d74-451f-4bbe-a46c-dff8bff0d5fa",
   "metadata": {},
   "outputs": [
    {
     "data": {
      "text/plain": [
       "tensor([[0.5856, 0.4662, 0.5920,  ..., 0.4981, 0.5790, 0.4513],\n",
       "        [0.5856, 0.4662, 0.5920,  ..., 0.4981, 0.5790, 0.4513],\n",
       "        [0.5856, 0.4662, 0.5920,  ..., 0.4981, 0.5790, 0.4513],\n",
       "        ...,\n",
       "        [0.5856, 0.4662, 0.5920,  ..., 0.4981, 0.5790, 0.4513],\n",
       "        [0.5856, 0.4662, 0.5920,  ..., 0.4981, 0.5790, 0.4513],\n",
       "        [0.5856, 0.4662, 0.5920,  ..., 0.4981, 0.5790, 0.4513]])"
      ]
     },
     "execution_count": 750,
     "metadata": {},
     "output_type": "execute_result"
    }
   ],
   "source": [
    "act_list['out7'].reshape(64, -1)"
   ]
  },
  {
   "cell_type": "code",
   "execution_count": null,
   "id": "5a66882d-4b0b-4805-b2d3-3f628a54b014",
   "metadata": {},
   "outputs": [],
   "source": []
  },
  {
   "cell_type": "code",
   "execution_count": 858,
   "id": "514821c0-bccc-4c3a-9556-7f199f7e278f",
   "metadata": {},
   "outputs": [
    {
     "name": "stdout",
     "output_type": "stream",
     "text": [
      "xin: 0.12847626209259033, 0.08649460971355438\n",
      "conv1: 0.3331969976425171, 0.6354191899299622\n",
      "ss2: -0.4145127236843109, 0.3285970687866211\n",
      "conv3: 0.1057855635881424, 0.8280284404754639\n",
      "ss4: -0.4971632659435272, 0.687779426574707\n",
      "conv5: 0.07395564764738083, 0.915604293346405\n",
      "f6: 0.13050825893878937, 1.2301437854766846\n"
     ]
    },
    {
     "data": {
      "image/png": "[encoded data removed]",
      "text/plain": [
       "<Figure size 640x480 with 1 Axes>"
      ]
     },
     "metadata": {},
     "output_type": "display_data"
    }
   ],
   "source": [
    "#visualize activations and gradients\n",
    "# Plotting multiple histograms\n",
    "for k in act_list.keys():\n",
    "    plt.hist(act_list[k].reshape(-1), bins=30, alpha=0.7, label=f'act_list_{k}', histtype='step')\n",
    "    print(f'{k}: {act_list[k].mean()}, {act_list[k].var()}')\n",
    "    \n",
    "# Adding labels and title\n",
    "plt.title('Activation distributions')\n",
    "plt.legend(loc='upper right')\n",
    "\n",
    "# Displaying the plot\n",
    "plt.show()"
   ]
  },
  {
   "cell_type": "code",
   "execution_count": null,
   "id": "f0885adb-c84e-4225-8894-b8323ad58025",
   "metadata": {},
   "outputs": [],
   "source": []
  },
  {
   "cell_type": "code",
   "execution_count": null,
   "id": "bd80c476-e3d1-4806-b0a3-84c98f404607",
   "metadata": {},
   "outputs": [],
   "source": []
  },
  {
   "cell_type": "markdown",
   "id": "07add2e5-1439-4f67-8977-f226d033d7e2",
   "metadata": {},
   "source": [
    "## Classification of entire sections of Handwriting\n",
    "\n",
    "after creating the simpler single-char predictor, LeNet specifies a graph structure for OCR on full sections of handwritten text. The creation of dataset and recreation of that model is below"
   ]
  },
  {
   "cell_type": "code",
   "execution_count": 34,
   "id": "49a84196",
   "metadata": {},
   "outputs": [],
   "source": [
    "\n",
    "#creation of handwritten text dataset\n",
    "splits = {'train': 'data/train.parquet', 'validation': 'data/validation.parquet', 'test': 'data/test.parquet'}\n",
    "df_train = pd.read_parquet(\"hf://datasets/Teklia/IAM-line/\" + splits[\"train\"])\n",
    "df_val = pd.read_parquet(\"hf://datasets/Teklia/IAM-line/\" + splits[\"validation\"])\n",
    "df_test = pd.read_parquet(\"hf://datasets/Teklia/IAM-line/\" + splits[\"test\"])\n",
    "\n",
    "#define types\n",
    "df_train['type'] = 'train'\n",
    "df_val['type'] = 'validation'\n",
    "df_test['type'] = 'test'\n",
    "\n",
    "\n",
    "#concat, isolate image bytestrings, save\n",
    "df = pd.concat([df_train, df_val, df_test])\n",
    "df['bytes'] = df.image.apply(lambda x: x['bytes'])\n",
    "df[['text', 'bytes', 'type']].to_parquet('df.parquet.gzip', compression='gzip') "
   ]
  },
  {
   "cell_type": "code",
   "execution_count": 35,
   "id": "66f10bb5-a3e0-4a26-a87f-08b761e66e0c",
   "metadata": {},
   "outputs": [
    {
     "data": {
      "text/html": [
       "<div>\n",
       "<style scoped>\n",
       "    .dataframe tbody tr th:only-of-type {\n",
       "        vertical-align: middle;\n",
       "    }\n",
       "\n",
       "    .dataframe tbody tr th {\n",
       "        vertical-align: top;\n",
       "    }\n",
       "\n",
       "    .dataframe thead th {\n",
       "        text-align: right;\n",
       "    }\n",
       "</style>\n",
       "<table border=\"1\" class=\"dataframe\">\n",
       "  <thead>\n",
       "    <tr style=\"text-align: right;\">\n",
       "      <th></th>\n",
       "      <th>text</th>\n",
       "      <th>image</th>\n",
       "      <th>type</th>\n",
       "      <th>bytes</th>\n",
       "    </tr>\n",
       "  </thead>\n",
       "  <tbody>\n",
       "    <tr>\n",
       "      <th>0</th>\n",
       "      <td>put down a resolution on the subject</td>\n",
       "      <td>{'bytes': b'\\xff\\xd8\\xff\\xe0\\x00\\x10JFIF\\x00\\x...</td>\n",
       "      <td>train</td>\n",
       "      <td>b'\\xff\\xd8\\xff\\xe0\\x00\\x10JFIF\\x00\\x01\\x01\\x00...</td>\n",
       "    </tr>\n",
       "    <tr>\n",
       "      <th>1</th>\n",
       "      <td>and he is to be backed by Mr. Will</td>\n",
       "      <td>{'bytes': b'\\xff\\xd8\\xff\\xe0\\x00\\x10JFIF\\x00\\x...</td>\n",
       "      <td>train</td>\n",
       "      <td>b'\\xff\\xd8\\xff\\xe0\\x00\\x10JFIF\\x00\\x01\\x01\\x00...</td>\n",
       "    </tr>\n",
       "    <tr>\n",
       "      <th>2</th>\n",
       "      <td>nominating any more Labour life Peers</td>\n",
       "      <td>{'bytes': b'\\xff\\xd8\\xff\\xe0\\x00\\x10JFIF\\x00\\x...</td>\n",
       "      <td>train</td>\n",
       "      <td>b'\\xff\\xd8\\xff\\xe0\\x00\\x10JFIF\\x00\\x01\\x01\\x00...</td>\n",
       "    </tr>\n",
       "    <tr>\n",
       "      <th>3</th>\n",
       "      <td>M Ps tomorrow. Mr. Michael Foot has</td>\n",
       "      <td>{'bytes': b'\\xff\\xd8\\xff\\xe0\\x00\\x10JFIF\\x00\\x...</td>\n",
       "      <td>train</td>\n",
       "      <td>b'\\xff\\xd8\\xff\\xe0\\x00\\x10JFIF\\x00\\x01\\x01\\x00...</td>\n",
       "    </tr>\n",
       "    <tr>\n",
       "      <th>4</th>\n",
       "      <td>Griffiths, M P for Manchester Exchange .</td>\n",
       "      <td>{'bytes': b'\\xff\\xd8\\xff\\xe0\\x00\\x10JFIF\\x00\\x...</td>\n",
       "      <td>train</td>\n",
       "      <td>b'\\xff\\xd8\\xff\\xe0\\x00\\x10JFIF\\x00\\x01\\x01\\x00...</td>\n",
       "    </tr>\n",
       "    <tr>\n",
       "      <th>...</th>\n",
       "      <td>...</td>\n",
       "      <td>...</td>\n",
       "      <td>...</td>\n",
       "      <td>...</td>\n",
       "    </tr>\n",
       "    <tr>\n",
       "      <th>2910</th>\n",
       "      <td>just dusty-grey but muddy , slimy even .</td>\n",
       "      <td>{'bytes': b'\\xff\\xd8\\xff\\xe0\\x00\\x10JFIF\\x00\\x...</td>\n",
       "      <td>test</td>\n",
       "      <td>b'\\xff\\xd8\\xff\\xe0\\x00\\x10JFIF\\x00\\x01\\x01\\x00...</td>\n",
       "    </tr>\n",
       "    <tr>\n",
       "      <th>2911</th>\n",
       "      <td>the fake friend of the family , like the</td>\n",
       "      <td>{'bytes': b'\\xff\\xd8\\xff\\xe0\\x00\\x10JFIF\\x00\\x...</td>\n",
       "      <td>test</td>\n",
       "      <td>b'\\xff\\xd8\\xff\\xe0\\x00\\x10JFIF\\x00\\x01\\x01\\x00...</td>\n",
       "    </tr>\n",
       "    <tr>\n",
       "      <th>2912</th>\n",
       "      <td>client's eyes , the dust of fake security , of</td>\n",
       "      <td>{'bytes': b'\\xff\\xd8\\xff\\xe0\\x00\\x10JFIF\\x00\\x...</td>\n",
       "      <td>test</td>\n",
       "      <td>b'\\xff\\xd8\\xff\\xe0\\x00\\x10JFIF\\x00\\x01\\x01\\x00...</td>\n",
       "    </tr>\n",
       "    <tr>\n",
       "      <th>2913</th>\n",
       "      <td>the result being somehow as ineffective , not</td>\n",
       "      <td>{'bytes': b'\\xff\\xd8\\xff\\xe0\\x00\\x10JFIF\\x00\\x...</td>\n",
       "      <td>test</td>\n",
       "      <td>b'\\xff\\xd8\\xff\\xe0\\x00\\x10JFIF\\x00\\x01\\x01\\x00...</td>\n",
       "    </tr>\n",
       "    <tr>\n",
       "      <th>2914</th>\n",
       "      <td>His voice was like his black and pin-stripe ,</td>\n",
       "      <td>{'bytes': b'\\xff\\xd8\\xff\\xe0\\x00\\x10JFIF\\x00\\x...</td>\n",
       "      <td>test</td>\n",
       "      <td>b'\\xff\\xd8\\xff\\xe0\\x00\\x10JFIF\\x00\\x01\\x01\\x00...</td>\n",
       "    </tr>\n",
       "  </tbody>\n",
       "</table>\n",
       "<p>10373 rows × 4 columns</p>\n",
       "</div>"
      ],
      "text/plain": [
       "                                                text  \\\n",
       "0               put down a resolution on the subject   \n",
       "1                 and he is to be backed by Mr. Will   \n",
       "2              nominating any more Labour life Peers   \n",
       "3                M Ps tomorrow. Mr. Michael Foot has   \n",
       "4           Griffiths, M P for Manchester Exchange .   \n",
       "...                                              ...   \n",
       "2910        just dusty-grey but muddy , slimy even .   \n",
       "2911        the fake friend of the family , like the   \n",
       "2912  client's eyes , the dust of fake security , of   \n",
       "2913   the result being somehow as ineffective , not   \n",
       "2914   His voice was like his black and pin-stripe ,   \n",
       "\n",
       "                                                  image   type  \\\n",
       "0     {'bytes': b'\\xff\\xd8\\xff\\xe0\\x00\\x10JFIF\\x00\\x...  train   \n",
       "1     {'bytes': b'\\xff\\xd8\\xff\\xe0\\x00\\x10JFIF\\x00\\x...  train   \n",
       "2     {'bytes': b'\\xff\\xd8\\xff\\xe0\\x00\\x10JFIF\\x00\\x...  train   \n",
       "3     {'bytes': b'\\xff\\xd8\\xff\\xe0\\x00\\x10JFIF\\x00\\x...  train   \n",
       "4     {'bytes': b'\\xff\\xd8\\xff\\xe0\\x00\\x10JFIF\\x00\\x...  train   \n",
       "...                                                 ...    ...   \n",
       "2910  {'bytes': b'\\xff\\xd8\\xff\\xe0\\x00\\x10JFIF\\x00\\x...   test   \n",
       "2911  {'bytes': b'\\xff\\xd8\\xff\\xe0\\x00\\x10JFIF\\x00\\x...   test   \n",
       "2912  {'bytes': b'\\xff\\xd8\\xff\\xe0\\x00\\x10JFIF\\x00\\x...   test   \n",
       "2913  {'bytes': b'\\xff\\xd8\\xff\\xe0\\x00\\x10JFIF\\x00\\x...   test   \n",
       "2914  {'bytes': b'\\xff\\xd8\\xff\\xe0\\x00\\x10JFIF\\x00\\x...   test   \n",
       "\n",
       "                                                  bytes  \n",
       "0     b'\\xff\\xd8\\xff\\xe0\\x00\\x10JFIF\\x00\\x01\\x01\\x00...  \n",
       "1     b'\\xff\\xd8\\xff\\xe0\\x00\\x10JFIF\\x00\\x01\\x01\\x00...  \n",
       "2     b'\\xff\\xd8\\xff\\xe0\\x00\\x10JFIF\\x00\\x01\\x01\\x00...  \n",
       "3     b'\\xff\\xd8\\xff\\xe0\\x00\\x10JFIF\\x00\\x01\\x01\\x00...  \n",
       "4     b'\\xff\\xd8\\xff\\xe0\\x00\\x10JFIF\\x00\\x01\\x01\\x00...  \n",
       "...                                                 ...  \n",
       "2910  b'\\xff\\xd8\\xff\\xe0\\x00\\x10JFIF\\x00\\x01\\x01\\x00...  \n",
       "2911  b'\\xff\\xd8\\xff\\xe0\\x00\\x10JFIF\\x00\\x01\\x01\\x00...  \n",
       "2912  b'\\xff\\xd8\\xff\\xe0\\x00\\x10JFIF\\x00\\x01\\x01\\x00...  \n",
       "2913  b'\\xff\\xd8\\xff\\xe0\\x00\\x10JFIF\\x00\\x01\\x01\\x00...  \n",
       "2914  b'\\xff\\xd8\\xff\\xe0\\x00\\x10JFIF\\x00\\x01\\x01\\x00...  \n",
       "\n",
       "[10373 rows x 4 columns]"
      ]
     },
     "execution_count": 35,
     "metadata": {},
     "output_type": "execute_result"
    }
   ],
   "source": [
    "df"
   ]
  },
  {
   "cell_type": "code",
   "execution_count": null,
   "id": "6c558406-3bb8-46bc-9c19-435a63e13aa3",
   "metadata": {},
   "outputs": [],
   "source": []
  },
  {
   "cell_type": "code",
   "execution_count": null,
   "id": "e2e17521-ead8-4f3f-a78a-818811e720e7",
   "metadata": {},
   "outputs": [],
   "source": []
  },
  {
   "cell_type": "code",
   "execution_count": null,
   "id": "84781d65-d860-4919-a820-81152e2e829f",
   "metadata": {},
   "outputs": [],
   "source": []
  }
 ],
 "metadata": {
  "kernelspec": {
   "display_name": "Python 3 (ipykernel)",
   "language": "python",
   "name": "python3"
  },
  "language_info": {
   "codemirror_mode": {
    "name": "ipython",
    "version": 3
   },
   "file_extension": ".py",
   "mimetype": "text/x-python",
   "name": "python",
   "nbconvert_exporter": "python",
   "pygments_lexer": "ipython3",
   "version": "3.10.12"
  }
 },
 "nbformat": 4,
 "nbformat_minor": 5
}
