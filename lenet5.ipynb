{
 "cells": [
  {
   "cell_type": "code",
   "execution_count": 227,
   "id": "ef1db504-aad4-41f1-b87c-7372f41cd18a",
   "metadata": {},
   "outputs": [],
   "source": [
    "import matplotlib.pyplot as plt\n",
    "import os\n",
    "import torch\n",
    "import torch.nn.functional as torchF\n",
    "import pandas as pd\n",
    "import idx2numpy\n",
    "import numpy as np"
   ]
  },
  {
   "cell_type": "code",
   "execution_count": 8,
   "id": "a993907d-8b55-4f2a-b54f-ef0429bd8ac7",
   "metadata": {},
   "outputs": [],
   "source": [
    "#creating 7x12 bitmapped images to train LeNet against\n",
    "from bitstring import BitArray\n",
    "\n",
    "def bitstring_to_pbm(bitstring_data, width, height, filename):\n",
    "    \"\"\"\n",
    "    Converts a bitstring to a PBM image file.\n",
    "\n",
    "    Args:\n",
    "        bitstring_data: A bitstring object containing the image data.\n",
    "        width: The width of the image in pixels.\n",
    "        height: The height of the image in pixels.\n",
    "        filename: The name of the PBM file to create.\n",
    "    \"\"\"\n",
    "    if len(bitstring_data) != width * height:\n",
    "        raise ValueError(\"Bitstring length does not match image dimensions.\")\n",
    "\n",
    "    with open(filename, 'w') as f:\n",
    "        f.write(\"P1\\n\")  # PBM format header (ASCII)\n",
    "        f.write(f\"{width} {height}\\n\")  # Image dimensions\n",
    "\n",
    "        # Write pixel data (1 for black, 0 for white)\n",
    "        for i in range(height):\n",
    "            for j in range(width):\n",
    "                f.write(str(int(bitstring_data[i * width + j])) + \" \")\n",
    "            f.write(\"\\n\")"
   ]
  },
  {
   "cell_type": "code",
   "execution_count": 786,
   "id": "04adcaf3-b76a-4826-9615-272add294228",
   "metadata": {},
   "outputs": [],
   "source": [
    "#need ascii 32 to 126\n",
    "filename='ASCII_pbms/ASCII_126.pbm'\n",
    "data = '''\n",
    "0000000\n",
    "0000000\n",
    "0000000\n",
    "0000000\n",
    "0000000\n",
    "0001001\n",
    "0110110\n",
    "0000000\n",
    "0000000\n",
    "0000000\n",
    "0000000\n",
    "0000000\n",
    "'''\n",
    "\n",
    "width = 7\n",
    "height = 12\n",
    "image_data = np.array(list(data.replace('\\n', ''))).reshape(height, width).astype(np.int8)"
   ]
  },
  {
   "cell_type": "code",
   "execution_count": 787,
   "id": "93e417f1-8461-423d-8180-c82d5872f4e2",
   "metadata": {},
   "outputs": [
    {
     "data": {
      "image/png": "[encoded data removed]",
      "text/plain": [
       "<Figure size 640x480 with 1 Axes>"
      ]
     },
     "metadata": {},
     "output_type": "display_data"
    }
   ],
   "source": [
    "# Display the image using imshow\n",
    "plt.imshow(image_data, cmap='gray_r')\n",
    "ax = plt.gca()\n",
    "\n",
    "# Set border properties\n",
    "for spine in ax.spines.values():\n",
    "    spine.set_edgecolor('grey')  # Set border color\n",
    "    spine.set_linewidth(2)      # Set border thickness\n",
    "\n",
    "# Remove the ticks\n",
    "ax.set_xticks([])\n",
    "ax.set_yticks([])\n",
    "\n",
    "plt.show()"
   ]
  },
  {
   "cell_type": "code",
   "execution_count": 788,
   "id": "5660b53d-a4ae-481e-874e-7be3e7e8e4e8",
   "metadata": {},
   "outputs": [
    {
     "name": "stdout",
     "output_type": "stream",
     "text": [
      "creating file ASCII_pbms/ASCII_126.pbm\n"
     ]
    }
   ],
   "source": [
    "#save image\n",
    "\n",
    "data = BitArray(bin=data)\n",
    "\n",
    "#check for file\n",
    "if filename.split('/')[1] not in os.listdir('ASCII_pbms'):\n",
    "    print('creating file', filename)\n",
    "    bitstring_to_pbm(data, width, height, filename)\n",
    "else:\n",
    "    print('file already exists')"
   ]
  },
  {
   "cell_type": "code",
   "execution_count": 443,
   "id": "9b754154-4691-46a9-8bad-4613da10ab3b",
   "metadata": {},
   "outputs": [],
   "source": [
    "#print PBM images\n",
    "def read_pbm_file(filename):\n",
    "    with open(filename, 'r') as f:\n",
    "        l = f.readlines()\n",
    "    bits = []\n",
    "    for i in range(2, len(l)):\n",
    "        lstr = l[i].replace('\\n', '').replace(' ', '')\n",
    "        bits.append([int(b) for b in lstr])\n",
    "\n",
    "    bits = np.array(bits)\n",
    "    return bits"
   ]
  },
  {
   "cell_type": "code",
   "execution_count": 811,
   "id": "642160d4-50ea-4fea-8397-268105613b04",
   "metadata": {},
   "outputs": [
    {
     "data": {
      "image/png": "[encoded data removed]",
      "text/plain": [
       "<Figure size 640x480 with 1 Axes>"
      ]
     },
     "metadata": {},
     "output_type": "display_data"
    }
   ],
   "source": [
    "filename = 'ASCII_pbms/ASCII_54.pbm'\n",
    "image_data = read_pbm(filename)\n",
    "\n",
    "# Display the image using imshow\n",
    "plt.imshow(image_data, cmap='gray_r')\n",
    "ax = plt.gca()\n",
    "\n",
    "# Set border properties\n",
    "for spine in ax.spines.values():\n",
    "    spine.set_edgecolor('grey')  # Set border color\n",
    "    spine.set_linewidth(2)      # Set border thickness\n",
    "\n",
    "# Remove the ticks\n",
    "ax.set_xticks([])\n",
    "ax.set_yticks([])\n",
    "\n",
    "plt.show()"
   ]
  },
  {
   "cell_type": "markdown",
   "id": "0d2c4ddb-c06e-407a-af62-793619b94a3c",
   "metadata": {},
   "source": [
    "## Training MNIST Against 7x12 Bitmapped ASCII Printable Chars\n",
    "\n",
    "In the LeNet paper, loss function is a Euclidean RBF comparison of output layer against an \"idealized\" version of the inputs (7x12 bitmapped ASCII). I couldn't find a dataset for these online, so I recreated them. The section below recreates the single-char classification model from the first half of the LeNet paper"
   ]
  },
  {
   "cell_type": "code",
   "execution_count": 4,
   "id": "87b65af4-2243-4b12-8efd-47cca6bafaee",
   "metadata": {},
   "outputs": [],
   "source": [
    "#dataset prep\n",
    "ascii_map = open('emnist/emnist-byclass-mapping.txt', 'r').readlines()\n",
    "ascii_map = dict([(int(l.rstrip().split(' ')[0]), int(l.rstrip().split(' ')[1])) for l in ascii_map])\n",
    "\n",
    "col_names = ['class'] + ['pix'+str(i) for i in range(28*28)]\n",
    "df_train = pd.read_csv('emnist/emnist-byclass-train.csv', names=col_names)\n",
    "df_train['ascii#'] = df_train['class'].map(ascii_map)\n",
    "df_test = pd.read_csv('emnist/emnist-byclass-test.csv', names=col_names)\n",
    "df_test['ascii#'] = df_test['class'].map(ascii_map)"
   ]
  },
  {
   "cell_type": "code",
   "execution_count": 5,
   "id": "be8d2aff-4795-4fd7-8f7d-81eba089e9aa",
   "metadata": {},
   "outputs": [
    {
     "data": {
      "text/plain": [
       "((697932, 786), (116323, 786))"
      ]
     },
     "execution_count": 5,
     "metadata": {},
     "output_type": "execute_result"
    }
   ],
   "source": [
    "df_train.shape, df_test.shape"
   ]
  },
  {
   "cell_type": "code",
   "execution_count": 24,
   "id": "42d92a4b-b60d-429f-9748-b41b460bf221",
   "metadata": {},
   "outputs": [
    {
     "name": "stdout",
     "output_type": "stream",
     "text": [
      "79\n"
     ]
    },
    {
     "data": {
      "image/png": "[encoded data removed]",
      "text/plain": [
       "<Figure size 640x480 with 1 Axes>"
      ]
     },
     "metadata": {},
     "output_type": "display_data"
    }
   ],
   "source": [
    "def print_img(df, idx):\n",
    "    a = df_test.iloc[idx, 1:-1].to_numpy().reshape(28, 28).T\n",
    "    print(df_test.iloc[idx, -1])\n",
    "    plt.imshow(a, cmap='gray_r')\n",
    "\n",
    "print_img(df_train, 46)"
   ]
  },
  {
   "cell_type": "code",
   "execution_count": 456,
   "id": "abc454e9-798d-40dd-a30c-dfe58898ed5c",
   "metadata": {},
   "outputs": [],
   "source": [
    "#load full printable ascii bitmap set into \"parameter\" tensor for model eval\n",
    "bm_l = []\n",
    "for i in sorted(df_test['ascii#'].unique().tolist()):\n",
    "    fname = f'ASCII_pbms/ASCII_{i}.pbm'\n",
    "    arr = read_pbm_file(fname)\n",
    "    bm_l.append(arr)\n",
    "\n",
    "bm_param = torch.Tensor(np.array(bm_l)).reshape(62, 84)"
   ]
  },
  {
   "cell_type": "code",
   "execution_count": 432,
   "id": "c02f3bc4-6fec-4ba6-b75a-099672c9c5b8",
   "metadata": {},
   "outputs": [
    {
     "name": "stdout",
     "output_type": "stream",
     "text": [
      "torch.Size([2, 120])\n",
      "torch.Size([2, 84])\n"
     ]
    }
   ],
   "source": [
    "#hyperparams\n",
    "F = 5 #size of square conv kernel\n",
    "S = 1 #stride of conv kernel\n",
    "B = 2 #batch dimension\n",
    "SS = 2 #subsampling window size\n",
    "\n",
    "#feedforward\n",
    "#retrieve sample batch, convert to numpy\n",
    "x = df_train.sample(B).iloc[:, 1:-1].to_numpy()\n",
    "\n",
    "#reshape to square matrix and zero pad 2-pixels on each side: (28x28) --> (32x32)\n",
    "x = x.reshape(B, 28, 28)\n",
    "x = torch.Tensor(x)\n",
    "x = torchF.pad(x, pad=(2, 2, 2, 2), value=0.0)\n",
    "\n",
    "#normalize\n",
    "x = x / 255.0\n",
    "\n",
    "#convolution1\n",
    "W1 = torch.randn((6, 1, 1, F, F))\n",
    "b1 = torch.randn((6, 1, 1))\n",
    "x_conv1 = x.unfold(1, F, S).unfold(2, F, S).unsqueeze(1)\n",
    "x = (x_conv1 * W1).sum(dim=(-2, -1)) + b1\n",
    "#insert normalization here\n",
    "x = x.sigmoid()\n",
    "\n",
    "#subsampling1\n",
    "w2 = torch.randn((6, 1, 1))\n",
    "b2 = torch.randn((6, 1, 1))\n",
    "x = x.unfold(2, SS, SS).unfold(3, SS, SS).sum(dim=(-2, -1))\n",
    "x = x * w2 + b2\n",
    "#insert normalization here\n",
    "\n",
    "#conv3, uses special sparse connections\n",
    "#define sparse convolutional connections\n",
    "W3_sparse_conv_idx = sum([[(i+x) % 6 for x in range(3)] for i in range(6)], [])\n",
    "W3_sparse_conv_idx += sum([[(i+x) % 6 for x in range(4)] for i in range(6)], [])\n",
    "W3_sparse_conv_idx += [0, 1, 3, 4, 1, 2, 4, 5, 0, 2, 3, 5] + list(range(6))\n",
    "\n",
    "W3 = torch.randn((60, 1, 1, F, F))\n",
    "b3 = torch.randn((16, 1, 1))\n",
    "\n",
    "#applying sparse conv index, unfold into convs\n",
    "x_conv3 = x[:, W3_sparse_conv_idx, :, :].unfold(2, F, S).unfold(3, F, S)\n",
    "x = (x_conv3 * W3).sum(dim=(-2, -1))\n",
    "\n",
    "#sum together 60 convs into 16 feature maps\n",
    "W3_sparse_sum_idx = [x[:, 3*i:3*(i+1), :, :].sum(dim=1, keepdim=True) for i in range(6)] \n",
    "W3_sparse_sum_idx += [x[:, 18+4*i:18+4*(i+1), :, :].sum(dim=1, keepdim=True) for i in range(9)]\n",
    "W3_sparse_sum_idx += [x[:, 54:60, :, :].sum(dim=1, keepdim=True)]\n",
    "\n",
    "x = torch.cat(l, dim=1)\n",
    "x += b3\n",
    "#insert normalization here\n",
    "x = x.sigmoid()\n",
    "\n",
    "#subsamp4\n",
    "w4 = torch.randn((16, 1, 1))\n",
    "b4 = torch.randn((16, 1, 1))\n",
    "x = x.unfold(2, SS, SS).unfold(3, SS, SS).sum(dim=(-2, -1))\n",
    "x = x * w4 + b4\n",
    "#insert normalization here\n",
    "\n",
    "#conv5\n",
    "W5 = torch.randn((120, 16, 5, 5))\n",
    "b5 = torch.randn(120)\n",
    "#assert 1 == 2\n",
    "x = (x.unsqueeze(1) * W5_conv).sum(dim=(-3, -2, -1)) + b5\n",
    "print(x.shape)\n",
    "#insert normalization here\n",
    "x = x.sigmoid()\n",
    "\n",
    "#F6, fully connected\n",
    "W6 = torch.randn((120, 84))\n",
    "b6 = torch.randn(84)\n",
    "x = x @ W6 + b6\n",
    "print(x.shape)\n",
    "x = torchF.tanh(x) #tanh in paper instead of sigmoid like other layers\n",
    "\n",
    "#O7, output layer\n",
    "x = (x.unsqueeze(-1) - bm_param.T).square().sum(dim=1)\n"
   ]
  },
  {
   "cell_type": "code",
   "execution_count": null,
   "id": "0905f875-6f58-45f6-a5dd-6c787aea29b0",
   "metadata": {},
   "outputs": [],
   "source": [
    "#backpropagation\n",
    "\n",
    "#loss function\n",
    "\n",
    "#backprop/gradient update"
   ]
  },
  {
   "cell_type": "code",
   "execution_count": null,
   "id": "f0885adb-c84e-4225-8894-b8323ad58025",
   "metadata": {},
   "outputs": [],
   "source": []
  },
  {
   "cell_type": "code",
   "execution_count": null,
   "id": "bd80c476-e3d1-4806-b0a3-84c98f404607",
   "metadata": {},
   "outputs": [],
   "source": []
  },
  {
   "cell_type": "markdown",
   "id": "07add2e5-1439-4f67-8977-f226d033d7e2",
   "metadata": {},
   "source": [
    "## Classification of entire sections of Handwriting\n",
    "\n",
    "after creating the simpler single-char predictor, LeNet specifies a graph structure for OCR on full sections of handwritten text. The creation of dataset and recreation of that model is below"
   ]
  },
  {
   "cell_type": "code",
   "execution_count": 34,
   "id": "49a84196",
   "metadata": {},
   "outputs": [],
   "source": [
    "\n",
    "#creation of handwritten text dataset\n",
    "splits = {'train': 'data/train.parquet', 'validation': 'data/validation.parquet', 'test': 'data/test.parquet'}\n",
    "df_train = pd.read_parquet(\"hf://datasets/Teklia/IAM-line/\" + splits[\"train\"])\n",
    "df_val = pd.read_parquet(\"hf://datasets/Teklia/IAM-line/\" + splits[\"validation\"])\n",
    "df_test = pd.read_parquet(\"hf://datasets/Teklia/IAM-line/\" + splits[\"test\"])\n",
    "\n",
    "#define types\n",
    "df_train['type'] = 'train'\n",
    "df_val['type'] = 'validation'\n",
    "df_test['type'] = 'test'\n",
    "\n",
    "\n",
    "#concat, isolate image bytestrings, save\n",
    "df = pd.concat([df_train, df_val, df_test])\n",
    "df['bytes'] = df.image.apply(lambda x: x['bytes'])\n",
    "df[['text', 'bytes', 'type']].to_parquet('df.parquet.gzip', compression='gzip') "
   ]
  },
  {
   "cell_type": "code",
   "execution_count": 35,
   "id": "66f10bb5-a3e0-4a26-a87f-08b761e66e0c",
   "metadata": {},
   "outputs": [
    {
     "data": {
      "text/html": [
       "<div>\n",
       "<style scoped>\n",
       "    .dataframe tbody tr th:only-of-type {\n",
       "        vertical-align: middle;\n",
       "    }\n",
       "\n",
       "    .dataframe tbody tr th {\n",
       "        vertical-align: top;\n",
       "    }\n",
       "\n",
       "    .dataframe thead th {\n",
       "        text-align: right;\n",
       "    }\n",
       "</style>\n",
       "<table border=\"1\" class=\"dataframe\">\n",
       "  <thead>\n",
       "    <tr style=\"text-align: right;\">\n",
       "      <th></th>\n",
       "      <th>text</th>\n",
       "      <th>image</th>\n",
       "      <th>type</th>\n",
       "      <th>bytes</th>\n",
       "    </tr>\n",
       "  </thead>\n",
       "  <tbody>\n",
       "    <tr>\n",
       "      <th>0</th>\n",
       "      <td>put down a resolution on the subject</td>\n",
       "      <td>{'bytes': b'\\xff\\xd8\\xff\\xe0\\x00\\x10JFIF\\x00\\x...</td>\n",
       "      <td>train</td>\n",
       "      <td>b'\\xff\\xd8\\xff\\xe0\\x00\\x10JFIF\\x00\\x01\\x01\\x00...</td>\n",
       "    </tr>\n",
       "    <tr>\n",
       "      <th>1</th>\n",
       "      <td>and he is to be backed by Mr. Will</td>\n",
       "      <td>{'bytes': b'\\xff\\xd8\\xff\\xe0\\x00\\x10JFIF\\x00\\x...</td>\n",
       "      <td>train</td>\n",
       "      <td>b'\\xff\\xd8\\xff\\xe0\\x00\\x10JFIF\\x00\\x01\\x01\\x00...</td>\n",
       "    </tr>\n",
       "    <tr>\n",
       "      <th>2</th>\n",
       "      <td>nominating any more Labour life Peers</td>\n",
       "      <td>{'bytes': b'\\xff\\xd8\\xff\\xe0\\x00\\x10JFIF\\x00\\x...</td>\n",
       "      <td>train</td>\n",
       "      <td>b'\\xff\\xd8\\xff\\xe0\\x00\\x10JFIF\\x00\\x01\\x01\\x00...</td>\n",
       "    </tr>\n",
       "    <tr>\n",
       "      <th>3</th>\n",
       "      <td>M Ps tomorrow. Mr. Michael Foot has</td>\n",
       "      <td>{'bytes': b'\\xff\\xd8\\xff\\xe0\\x00\\x10JFIF\\x00\\x...</td>\n",
       "      <td>train</td>\n",
       "      <td>b'\\xff\\xd8\\xff\\xe0\\x00\\x10JFIF\\x00\\x01\\x01\\x00...</td>\n",
       "    </tr>\n",
       "    <tr>\n",
       "      <th>4</th>\n",
       "      <td>Griffiths, M P for Manchester Exchange .</td>\n",
       "      <td>{'bytes': b'\\xff\\xd8\\xff\\xe0\\x00\\x10JFIF\\x00\\x...</td>\n",
       "      <td>train</td>\n",
       "      <td>b'\\xff\\xd8\\xff\\xe0\\x00\\x10JFIF\\x00\\x01\\x01\\x00...</td>\n",
       "    </tr>\n",
       "    <tr>\n",
       "      <th>...</th>\n",
       "      <td>...</td>\n",
       "      <td>...</td>\n",
       "      <td>...</td>\n",
       "      <td>...</td>\n",
       "    </tr>\n",
       "    <tr>\n",
       "      <th>2910</th>\n",
       "      <td>just dusty-grey but muddy , slimy even .</td>\n",
       "      <td>{'bytes': b'\\xff\\xd8\\xff\\xe0\\x00\\x10JFIF\\x00\\x...</td>\n",
       "      <td>test</td>\n",
       "      <td>b'\\xff\\xd8\\xff\\xe0\\x00\\x10JFIF\\x00\\x01\\x01\\x00...</td>\n",
       "    </tr>\n",
       "    <tr>\n",
       "      <th>2911</th>\n",
       "      <td>the fake friend of the family , like the</td>\n",
       "      <td>{'bytes': b'\\xff\\xd8\\xff\\xe0\\x00\\x10JFIF\\x00\\x...</td>\n",
       "      <td>test</td>\n",
       "      <td>b'\\xff\\xd8\\xff\\xe0\\x00\\x10JFIF\\x00\\x01\\x01\\x00...</td>\n",
       "    </tr>\n",
       "    <tr>\n",
       "      <th>2912</th>\n",
       "      <td>client's eyes , the dust of fake security , of</td>\n",
       "      <td>{'bytes': b'\\xff\\xd8\\xff\\xe0\\x00\\x10JFIF\\x00\\x...</td>\n",
       "      <td>test</td>\n",
       "      <td>b'\\xff\\xd8\\xff\\xe0\\x00\\x10JFIF\\x00\\x01\\x01\\x00...</td>\n",
       "    </tr>\n",
       "    <tr>\n",
       "      <th>2913</th>\n",
       "      <td>the result being somehow as ineffective , not</td>\n",
       "      <td>{'bytes': b'\\xff\\xd8\\xff\\xe0\\x00\\x10JFIF\\x00\\x...</td>\n",
       "      <td>test</td>\n",
       "      <td>b'\\xff\\xd8\\xff\\xe0\\x00\\x10JFIF\\x00\\x01\\x01\\x00...</td>\n",
       "    </tr>\n",
       "    <tr>\n",
       "      <th>2914</th>\n",
       "      <td>His voice was like his black and pin-stripe ,</td>\n",
       "      <td>{'bytes': b'\\xff\\xd8\\xff\\xe0\\x00\\x10JFIF\\x00\\x...</td>\n",
       "      <td>test</td>\n",
       "      <td>b'\\xff\\xd8\\xff\\xe0\\x00\\x10JFIF\\x00\\x01\\x01\\x00...</td>\n",
       "    </tr>\n",
       "  </tbody>\n",
       "</table>\n",
       "<p>10373 rows × 4 columns</p>\n",
       "</div>"
      ],
      "text/plain": [
       "                                                text  \\\n",
       "0               put down a resolution on the subject   \n",
       "1                 and he is to be backed by Mr. Will   \n",
       "2              nominating any more Labour life Peers   \n",
       "3                M Ps tomorrow. Mr. Michael Foot has   \n",
       "4           Griffiths, M P for Manchester Exchange .   \n",
       "...                                              ...   \n",
       "2910        just dusty-grey but muddy , slimy even .   \n",
       "2911        the fake friend of the family , like the   \n",
       "2912  client's eyes , the dust of fake security , of   \n",
       "2913   the result being somehow as ineffective , not   \n",
       "2914   His voice was like his black and pin-stripe ,   \n",
       "\n",
       "                                                  image   type  \\\n",
       "0     {'bytes': b'\\xff\\xd8\\xff\\xe0\\x00\\x10JFIF\\x00\\x...  train   \n",
       "1     {'bytes': b'\\xff\\xd8\\xff\\xe0\\x00\\x10JFIF\\x00\\x...  train   \n",
       "2     {'bytes': b'\\xff\\xd8\\xff\\xe0\\x00\\x10JFIF\\x00\\x...  train   \n",
       "3     {'bytes': b'\\xff\\xd8\\xff\\xe0\\x00\\x10JFIF\\x00\\x...  train   \n",
       "4     {'bytes': b'\\xff\\xd8\\xff\\xe0\\x00\\x10JFIF\\x00\\x...  train   \n",
       "...                                                 ...    ...   \n",
       "2910  {'bytes': b'\\xff\\xd8\\xff\\xe0\\x00\\x10JFIF\\x00\\x...   test   \n",
       "2911  {'bytes': b'\\xff\\xd8\\xff\\xe0\\x00\\x10JFIF\\x00\\x...   test   \n",
       "2912  {'bytes': b'\\xff\\xd8\\xff\\xe0\\x00\\x10JFIF\\x00\\x...   test   \n",
       "2913  {'bytes': b'\\xff\\xd8\\xff\\xe0\\x00\\x10JFIF\\x00\\x...   test   \n",
       "2914  {'bytes': b'\\xff\\xd8\\xff\\xe0\\x00\\x10JFIF\\x00\\x...   test   \n",
       "\n",
       "                                                  bytes  \n",
       "0     b'\\xff\\xd8\\xff\\xe0\\x00\\x10JFIF\\x00\\x01\\x01\\x00...  \n",
       "1     b'\\xff\\xd8\\xff\\xe0\\x00\\x10JFIF\\x00\\x01\\x01\\x00...  \n",
       "2     b'\\xff\\xd8\\xff\\xe0\\x00\\x10JFIF\\x00\\x01\\x01\\x00...  \n",
       "3     b'\\xff\\xd8\\xff\\xe0\\x00\\x10JFIF\\x00\\x01\\x01\\x00...  \n",
       "4     b'\\xff\\xd8\\xff\\xe0\\x00\\x10JFIF\\x00\\x01\\x01\\x00...  \n",
       "...                                                 ...  \n",
       "2910  b'\\xff\\xd8\\xff\\xe0\\x00\\x10JFIF\\x00\\x01\\x01\\x00...  \n",
       "2911  b'\\xff\\xd8\\xff\\xe0\\x00\\x10JFIF\\x00\\x01\\x01\\x00...  \n",
       "2912  b'\\xff\\xd8\\xff\\xe0\\x00\\x10JFIF\\x00\\x01\\x01\\x00...  \n",
       "2913  b'\\xff\\xd8\\xff\\xe0\\x00\\x10JFIF\\x00\\x01\\x01\\x00...  \n",
       "2914  b'\\xff\\xd8\\xff\\xe0\\x00\\x10JFIF\\x00\\x01\\x01\\x00...  \n",
       "\n",
       "[10373 rows x 4 columns]"
      ]
     },
     "execution_count": 35,
     "metadata": {},
     "output_type": "execute_result"
    }
   ],
   "source": [
    "df"
   ]
  },
  {
   "cell_type": "code",
   "execution_count": null,
   "id": "6c558406-3bb8-46bc-9c19-435a63e13aa3",
   "metadata": {},
   "outputs": [],
   "source": []
  },
  {
   "cell_type": "code",
   "execution_count": null,
   "id": "e2e17521-ead8-4f3f-a78a-818811e720e7",
   "metadata": {},
   "outputs": [],
   "source": []
  },
  {
   "cell_type": "code",
   "execution_count": null,
   "id": "84781d65-d860-4919-a820-81152e2e829f",
   "metadata": {},
   "outputs": [],
   "source": []
  }
 ],
 "metadata": {
  "kernelspec": {
   "display_name": "Python 3 (ipykernel)",
   "language": "python",
   "name": "python3"
  },
  "language_info": {
   "codemirror_mode": {
    "name": "ipython",
    "version": 3
   },
   "file_extension": ".py",
   "mimetype": "text/x-python",
   "name": "python",
   "nbconvert_exporter": "python",
   "pygments_lexer": "ipython3",
   "version": "3.10.12"
  }
 },
 "nbformat": 4,
 "nbformat_minor": 5
}
