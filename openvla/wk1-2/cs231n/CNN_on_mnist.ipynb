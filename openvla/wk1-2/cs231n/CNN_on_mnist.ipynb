{
 "cells": [
  {
   "cell_type": "code",
   "execution_count": 18,
   "id": "eff5b7da-b337-4a8f-bfd7-2e50659ec0a2",
   "metadata": {},
   "outputs": [],
   "source": [
    "import torch\n",
    "import torch.nn.functional as F\n",
    "import numpy as np\n",
    "import gzip\n",
    "import matplotlib.pyplot as plt\n",
    "from mlxtend.data import loadlocal_mnist"
   ]
  },
  {
   "cell_type": "code",
   "execution_count": 2,
   "id": "20fa7816-8e55-439c-b07d-63faf4e7b72f",
   "metadata": {},
   "outputs": [],
   "source": [
    "X, y = loadlocal_mnist(\n",
    "    images_path='mnist/train-images.idx3-ubyte', \n",
    "    labels_path='mnist/train-labels.idx1-ubyte')"
   ]
  },
  {
   "cell_type": "code",
   "execution_count": 3,
   "id": "1091dcca-8e92-4c85-b7ee-9d9cee2c9937",
   "metadata": {},
   "outputs": [
    {
     "data": {
      "text/plain": [
       "(<matplotlib.image.AxesImage at 0x78a76db36420>, np.uint8(2))"
      ]
     },
     "execution_count": 3,
     "metadata": {},
     "output_type": "execute_result"
    },
    {
     "data": {
      "image/png": "[encoded data removed]",
      "text/plain": [
       "<Figure size 640x480 with 1 Axes>"
      ]
     },
     "metadata": {},
     "output_type": "display_data"
    }
   ],
   "source": [
    "idx = 25\n",
    "plt.imshow(X[idx, :].reshape(28, 28), cmap='grey'), y[idx]"
   ]
  },
  {
   "cell_type": "code",
   "execution_count": 4,
   "id": "2f47d9e4-a399-4908-a692-14a5292753d9",
   "metadata": {},
   "outputs": [
    {
     "data": {
      "text/plain": [
       "(tensor([[[[ 0.,  1.,  2.,  3.,  4.,  5.,  6.,  7.],\n",
       "           [ 8.,  9., 10., 11., 12., 13., 14., 15.],\n",
       "           [16., 17., 18., 19., 20., 21., 22., 23.],\n",
       "           [24., 25., 26., 27., 28., 29., 30., 31.],\n",
       "           [32., 33., 34., 35., 36., 37., 38., 39.],\n",
       "           [40., 41., 42., 43., 44., 45., 46., 47.],\n",
       "           [48., 49., 50., 51., 52., 53., 54., 55.],\n",
       "           [56., 57., 58., 59., 60., 61., 62., 63.]]]]),\n",
       " torch.Size([1, 1, 8, 8]))"
      ]
     },
     "execution_count": 4,
     "metadata": {},
     "output_type": "execute_result"
    }
   ],
   "source": [
    "#expanding conv into matmul\n",
    "\n",
    "t = torch.arange(64, dtype=torch.float32).reshape((1, 1, 8, 8))\n",
    "t, t.shape"
   ]
  },
  {
   "cell_type": "code",
   "execution_count": 5,
   "id": "b2b1eb19-06b4-4825-a3a9-c5c66286bb7d",
   "metadata": {},
   "outputs": [],
   "source": [
    "unfold = torch.nn.Unfold(kernel_size=(2, 2), stride=2)\n",
    "tu = unfold(t).unsqueeze(dim=0)"
   ]
  },
  {
   "cell_type": "code",
   "execution_count": 6,
   "id": "8d0b084f-9503-4eee-b97b-eb05ffd6a468",
   "metadata": {},
   "outputs": [
    {
     "data": {
      "text/plain": [
       "torch.Size([1, 1, 4, 16])"
      ]
     },
     "execution_count": 6,
     "metadata": {},
     "output_type": "execute_result"
    }
   ],
   "source": [
    "tu.shape"
   ]
  },
  {
   "cell_type": "code",
   "execution_count": 7,
   "id": "86747a58-54e7-4cd6-8350-719f8ef14745",
   "metadata": {},
   "outputs": [],
   "source": [
    "c = torch.randn(size=(5, 4))"
   ]
  },
  {
   "cell_type": "code",
   "execution_count": 8,
   "id": "c775ad19-9a6b-4211-adfd-6415db483b8c",
   "metadata": {},
   "outputs": [],
   "source": [
    "out = torch.matmul(c, tu)"
   ]
  },
  {
   "cell_type": "code",
   "execution_count": 9,
   "id": "499c738e-a7fe-4ce0-92f3-01bb56d4369c",
   "metadata": {},
   "outputs": [
    {
     "data": {
      "text/plain": [
       "torch.Size([1, 1, 5, 16])"
      ]
     },
     "execution_count": 9,
     "metadata": {},
     "output_type": "execute_result"
    }
   ],
   "source": [
    "out.shape"
   ]
  },
  {
   "cell_type": "code",
   "execution_count": null,
   "id": "8295433c-e7e2-4273-97d1-209b53032e50",
   "metadata": {},
   "outputs": [],
   "source": []
  },
  {
   "cell_type": "code",
   "execution_count": 10,
   "id": "940b81d3-3de2-49ee-a0b3-61eaaedb568d",
   "metadata": {},
   "outputs": [],
   "source": [
    "#forward pass conv and max pool\n",
    "\n",
    "def conv(X, conv, b=None):\n",
    "    k = conv.shape[-1] #k^2 conv kernel\n",
    "    C_out = conv.shape[0]\n",
    "    Xu = F.unfold(X, kernel_size=(k, k)).unsqueeze(dim=1)\n",
    "    out = torch.matmul(conv.view(C_out, -1))\n",
    "    if b:\n",
    "        out += b\n",
    "    return out\n",
    "\n",
    "def max_pool():\n",
    "    pass"
   ]
  },
  {
   "cell_type": "code",
   "execution_count": 65,
   "id": "23707dea-65c2-485b-ad28-f4f11d33856e",
   "metadata": {},
   "outputs": [],
   "source": [
    "x_in = torch.tensor(X[0:10], dtype=torch.float32).view(-1, 1, 28, 28)"
   ]
  },
  {
   "cell_type": "code",
   "execution_count": 12,
   "id": "51bfb879-1fd3-4b42-94b0-f7f500192ec8",
   "metadata": {},
   "outputs": [
    {
     "data": {
      "text/plain": [
       "torch.Size([10, 1, 28, 28])"
      ]
     },
     "execution_count": 12,
     "metadata": {},
     "output_type": "execute_result"
    }
   ],
   "source": [
    "x_in.shape"
   ]
  },
  {
   "cell_type": "code",
   "execution_count": 29,
   "id": "96dedfd3-a5cc-4e27-b790-a10d182b3e10",
   "metadata": {},
   "outputs": [],
   "source": [
    "tu = F.unfold(x_in, kernel_size=(3, 3)).unsqueeze(dim=1)"
   ]
  },
  {
   "cell_type": "code",
   "execution_count": 33,
   "id": "3380145b-a79f-4988-aa36-c7c23eabee0c",
   "metadata": {},
   "outputs": [
    {
     "data": {
      "text/plain": [
       "torch.Size([10, 1, 9, 676])"
      ]
     },
     "execution_count": 33,
     "metadata": {},
     "output_type": "execute_result"
    }
   ],
   "source": [
    "tu.shape #shape B x C * K^2 * L\n",
    "#note L is a perfect square if conv kernel is square"
   ]
  },
  {
   "cell_type": "code",
   "execution_count": 28,
   "id": "ea76482c-f82e-4743-96a1-5451ce9a58e2",
   "metadata": {},
   "outputs": [
    {
     "data": {
      "text/plain": [
       "(torch.Size([5, 1, 3, 3]), torch.Size([5, 9]))"
      ]
     },
     "execution_count": 28,
     "metadata": {},
     "output_type": "execute_result"
    }
   ],
   "source": [
    "#define conv kernels\n",
    "convs = torch.randn(size=(5, 1, 3, 3))\n",
    "convs.shape, convs.view(5, -1).shape"
   ]
  },
  {
   "cell_type": "code",
   "execution_count": 37,
   "id": "530ec5cb-a384-4ce9-98a8-7c42bac2ec3a",
   "metadata": {},
   "outputs": [],
   "source": [
    "out = torch.matmul(convs.view(5, -1), tu)"
   ]
  },
  {
   "cell_type": "code",
   "execution_count": 64,
   "id": "72ec9497-9019-4345-a372-98e431e5af77",
   "metadata": {},
   "outputs": [
    {
     "data": {
      "text/plain": [
       "torch.Size([10, 1, 5, 676])"
      ]
     },
     "execution_count": 64,
     "metadata": {},
     "output_type": "execute_result"
    }
   ],
   "source": [
    "out.shape"
   ]
  },
  {
   "cell_type": "code",
   "execution_count": 107,
   "id": "562eb924-1270-46fa-a09e-9981961192e3",
   "metadata": {},
   "outputs": [],
   "source": [
    "#performing max pooling\n",
    "\n",
    "#set stride = kernel size to have fully separated kernels\n",
    "pool = out.view(10, 5, 26, 26).unfold(2, 2, 2).unfold(3, 2, 2)\n",
    "max_pool = pool.amax(dim=(-2, -1))"
   ]
  },
  {
   "cell_type": "markdown",
   "id": "b03a3b9c-0301-410b-84a6-0d3129fa19b5",
   "metadata": {},
   "source": [
    "Expected shapes:\n",
    "input: N x C_in x W x H\n",
    "- N: batch size\n",
    "- C_in: channels (eg 3 for RGB image, or 5 if the previous conv layer had 5 filters)\n",
    "- W, H: image width and height\n",
    "\n",
    "unfolded input: N x C*K^2 x L\n",
    "- N: batch size, same as above\n",
    "- C_in: same as above\n",
    "- K: conv kernel size (assumes square conv kernel), so conv kernel has K^2 elems\n",
    "- L: number of  \"windows\", determined based on image and kernel sizes\n",
    "\n",
    "conv matrix: C_out, C_in, K, K\n",
    "- C_out: # of kernel filters\n",
    "- C_in: same as above\n",
    "- K: conv kernel size, same as above\n",
    "\n",
    "conv output: N x C_out x W_out x H_out\n",
    "- N: above\n",
    "- C_out: above\n",
    "- W_out: new image width, determined by image width and kernel size\n",
    "- H_out: new image height, determined by image height and kernel size\n",
    "\n",
    "max pooling: N x C_out x W_out / subsampling ratio x H_out / subsampling ratio\n",
    "- subsampling ratio: size of input field used to subsample from, common methods are max and mean"
   ]
  }
 ],
 "metadata": {
  "kernelspec": {
   "display_name": "Python 3 (ipykernel)",
   "language": "python",
   "name": "python3"
  },
  "language_info": {
   "codemirror_mode": {
    "name": "ipython",
    "version": 3
   },
   "file_extension": ".py",
   "mimetype": "text/x-python",
   "name": "python",
   "nbconvert_exporter": "python",
   "pygments_lexer": "ipython3",
   "version": "3.12.3"
  }
 },
 "nbformat": 4,
 "nbformat_minor": 5
}
