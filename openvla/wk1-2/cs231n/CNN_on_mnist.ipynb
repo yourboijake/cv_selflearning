{
 "cells": [
  {
   "cell_type": "code",
   "execution_count": 1,
   "id": "eff5b7da-b337-4a8f-bfd7-2e50659ec0a2",
   "metadata": {},
   "outputs": [],
   "source": [
    "import torch\n",
    "import torch.nn.functional as F\n",
    "import numpy as np\n",
    "import gzip\n",
    "import matplotlib.pyplot as plt\n",
    "from mlxtend.data import loadlocal_mnist"
   ]
  },
  {
   "cell_type": "code",
   "execution_count": 2,
   "id": "20fa7816-8e55-439c-b07d-63faf4e7b72f",
   "metadata": {},
   "outputs": [],
   "source": [
    "X, y = loadlocal_mnist(\n",
    "    images_path='mnist/train-images.idx3-ubyte', \n",
    "    labels_path='mnist/train-labels.idx1-ubyte')"
   ]
  },
  {
   "cell_type": "code",
   "execution_count": 3,
   "id": "1091dcca-8e92-4c85-b7ee-9d9cee2c9937",
   "metadata": {},
   "outputs": [
    {
     "data": {
      "text/plain": [
       "(<matplotlib.image.AxesImage at 0x7703705e0470>, np.uint8(2))"
      ]
     },
     "execution_count": 3,
     "metadata": {},
     "output_type": "execute_result"
    },
    {
     "data": {
      "image/png": "[encoded data removed]",
      "text/plain": [
       "<Figure size 640x480 with 1 Axes>"
      ]
     },
     "metadata": {},
     "output_type": "display_data"
    }
   ],
   "source": [
    "idx = 25\n",
    "plt.imshow(X[idx, :].reshape(28, 28), cmap='grey'), y[idx]"
   ]
  },
  {
   "cell_type": "code",
   "execution_count": 4,
   "id": "3432e2b6-af59-488c-8874-c0d313edd488",
   "metadata": {},
   "outputs": [],
   "source": [
    "#data pre-processing\n",
    "Xtr, ytr = torch.tensor(X).to(torch.float32), torch.tensor(y)\n",
    "Xtr /= Xtr.mean()"
   ]
  },
  {
   "cell_type": "code",
   "execution_count": 5,
   "id": "940b81d3-3de2-49ee-a0b3-61eaaedb568d",
   "metadata": {},
   "outputs": [],
   "source": [
    "#forward pass conv and max pool\n",
    "def conv(X, conv, b=None):\n",
    "    N = X.shape[0] #batch size\n",
    "    k = conv.shape[-1] #k^2 conv kernel\n",
    "    C_out = conv.shape[0]\n",
    "    Xu = F.unfold(X, kernel_size=(k, k)).unsqueeze(dim=1)\n",
    "    out = torch.matmul(conv.view(C_out, -1), Xu)\n",
    "    out = out.squeeze(dim=1)\n",
    "    last_dim = int(np.sqrt(out.shape[-1]))\n",
    "    out = out.view(N, C_out, last_dim, last_dim) #reshapes to square image, could use fold, or just operate on unfolded shape\n",
    "\n",
    "    if b != None:\n",
    "        out += b.view(1, b.shape[0], 1, 1)\n",
    "    return out\n",
    "\n",
    "def max_pool(X, w=2):\n",
    "    pool = X.unfold(2, w, w).unfold(3, w, w)\n",
    "    max_pool = pool.amax(dim=(-2, -1))\n",
    "    return max_pool"
   ]
  },
  {
   "cell_type": "code",
   "execution_count": 6,
   "id": "683cd989-af5f-4b0f-8575-5051d715d8bb",
   "metadata": {},
   "outputs": [],
   "source": [
    "#hyperparams: learning rate, dropout %, weight of L2 regularization\n",
    "lr = 0.005\n",
    "dropout_p = 0.5\n",
    "l2_reg_lambda = 0.0001\n",
    "\n",
    "#init params\n",
    "N = 32 #batch size\n",
    "C_in = 1 # num color channels\n",
    "W, H = 28, 28 #image width and height\n",
    "C_out1 = 6 #number of conv kernels in first conv layer\n",
    "K1 = 5 #size of conv kernels in first conv layer: KxK\n",
    "C_out2 = 16\n",
    "K2 = 3\n",
    "C_out3 = 120\n",
    "K3 = 5\n",
    "N_CLASSES = 10\n",
    "\n",
    "def init_params():\n",
    "    C1 = torch.randn(size=(C_out1, C_in, K1, K1)) / K1\n",
    "    b1 = torch.zeros(size=(C_out1,))\n",
    "    ga1, bet1 = torch.randn(size=(1, C_out1, 1, 1)), torch.randn(size=(1, C_out1, 1, 1))\n",
    "    C2 = torch.randn(size=(C_out2, C_out1, K2, K2)) / K2\n",
    "    b2 = torch.zeros(size=(C_out2,))\n",
    "    ga2, bet2 = torch.randn(size=(1, C_out2, 1, 1)), torch.randn(size=(1, C_out2, 1, 1))\n",
    "    C3 = torch.randn(size=(C_out3, C_out2, K3, K3)) / K3\n",
    "    b3 = torch.zeros(size=(C_out3,))\n",
    "    ga3, bet3 = torch.randn(size=(1, C_out3, 1, 1)), torch.randn(size=(1, C_out3, 1, 1))\n",
    "    FC = torch.randn(size=(C_out3, N_CLASSES)) / np.sqrt(C_out3)\n",
    "    \n",
    "    #require gradients for params and init optimizer\n",
    "    params = [C1, b1, ga1, bet1, C2, b2, ga2, bet2, C3, b3, ga3, bet3, FC]\n",
    "    for p in params:\n",
    "        p.requires_grad = True\n",
    "    return params\n",
    "\n",
    "params = init_params()\n",
    "C1, b1, ga1, bet1, C2, b2, ga2, bet2, C3, b3, ga3, bet3, FC = params\n",
    "optimizer = torch.optim.Adam(params, lr=lr)"
   ]
  },
  {
   "cell_type": "code",
   "execution_count": 7,
   "id": "ee70be40-8697-4ebf-8222-cde5be0dfb2f",
   "metadata": {},
   "outputs": [],
   "source": [
    "def forward(X_batch, dropout=True):\n",
    "    #first conv layer + max pooling\n",
    "    Xtr_C1 = conv(X_batch, C1, b1)\n",
    "    mu = Xtr_C1.mean(dim=(0, 2, 3)).view(1, C_out1, 1, 1)\n",
    "    sig = Xtr_C1.var(dim=(0, 2, 3)).view(1, C_out1, 1, 1) + 1e-5\n",
    "    Xtr_C1_bnorm = ga1 * ((Xtr_C1 - mu) / sig) + bet1\n",
    "    Xtr_C1_bnorm = torch.tanh(Xtr_C1_bnorm)\n",
    "    Xtr_MP1 = max_pool(Xtr_C1_bnorm)\n",
    "\n",
    "    #apply dropout\n",
    "    if dropout:\n",
    "        mask = torch.rand_like(Xtr_MP1)\n",
    "        Xtr_MP1 = Xtr_MP1 * (mask >= dropout_p) * 1/(1 - dropout_p)\n",
    "    \n",
    "    #second conv layer + max pooling\n",
    "    Xtr_C2 = conv(Xtr_MP1, C2, b2)\n",
    "    mu = Xtr_C2.mean(dim=(0, 2, 3)).view(1, C_out2, 1, 1)\n",
    "    sig = Xtr_C2.var(dim=(0, 2, 3)).view(1, C_out2, 1, 1) + 1e-5\n",
    "    Xtr_C2_bnorm = ga2 * ((Xtr_C2 - mu) / sig) + bet2\n",
    "    Xtr_C2_bnorm = torch.tanh(Xtr_C2_bnorm)\n",
    "    Xtr_MP2 = max_pool(Xtr_C2_bnorm)\n",
    "\n",
    "    if dropout:\n",
    "        mask = torch.rand_like(Xtr_MP2)\n",
    "        Xtr_MP2 = Xtr_MP2 * (mask >= dropout_p) * 1/(1 - dropout_p)\n",
    "    \n",
    "    #third conv layer, no max pooling\n",
    "    Xtr_C3 = conv(Xtr_MP2, C3, b3)\n",
    "    mu = Xtr_C3.mean(dim=(0, 2, 3)).view(1, C_out3, 1, 1)\n",
    "    sig = Xtr_C3.var(dim=(0, 2, 3)).view(1, C_out3, 1, 1) + 1e-5\n",
    "    Xtr_C3_bnorm = ga3 * ((Xtr_C3 - mu) / sig) + bet3\n",
    "    Xtr_C3_bnorm = torch.tanh(Xtr_C3_bnorm)\n",
    "\n",
    "    if dropout:\n",
    "        mask = torch.rand_like(Xtr_C3)\n",
    "        Xtr_C3_bnorm = Xtr_C3_bnorm * (mask >= dropout_p) * 1/(1 - dropout_p)\n",
    "    \n",
    "    #fully connected layer\n",
    "    out = Xtr_C3_bnorm.view(Xtr_C3_bnorm.shape[0], C_out3) @ FC\n",
    "\n",
    "    return out"
   ]
  },
  {
   "cell_type": "code",
   "execution_count": 8,
   "id": "796701e4-e08e-4ece-b91e-6e61039a9847",
   "metadata": {},
   "outputs": [],
   "source": [
    "N_ITERS = 10\n",
    "losses = []\n",
    "for _ in range(N_ITERS):\n",
    "    #sample from training dataset\n",
    "    sample_idxs = torch.randperm(Xtr.shape[0])[:N]\n",
    "    Xtr_batch = Xtr[sample_idxs, :].view(N, C_in, W, H)\n",
    "    ytr_batch = ytr[sample_idxs]\n",
    "\n",
    "    out = forward(Xtr_batch)\n",
    "\n",
    "    #backprop\n",
    "    optimizer.zero_grad()\n",
    "    loss = F.cross_entropy(out, ytr_batch) + sum([(p**2).sum() for p in params]) * l2_reg_lambda #CEL + L2 Reg\n",
    "    loss.backward()\n",
    "    optimizer.step()\n",
    "\n",
    "    losses.append(loss.item())"
   ]
  },
  {
   "cell_type": "code",
   "execution_count": 9,
   "id": "6688ed41-c5f3-4280-918a-fdfa8835b067",
   "metadata": {},
   "outputs": [
    {
     "data": {
      "text/plain": [
       "[<matplotlib.lines.Line2D at 0x770368a3c7d0>]"
      ]
     },
     "execution_count": 9,
     "metadata": {},
     "output_type": "execute_result"
    },
    {
     "data": {
      "image/png": "[encoded data removed]",
      "text/plain": [
       "<Figure size 640x480 with 1 Axes>"
      ]
     },
     "metadata": {},
     "output_type": "display_data"
    }
   ],
   "source": [
    "plt.plot(list(range(len(losses))), losses)"
   ]
  },
  {
   "cell_type": "code",
   "execution_count": 10,
   "id": "4e515c83-bb3d-4a51-80f4-56b1d139329d",
   "metadata": {},
   "outputs": [
    {
     "name": "stdout",
     "output_type": "stream",
     "text": [
      "running hyperparam sample:  0\n",
      "running hyperparam sample:  1\n"
     ]
    }
   ],
   "source": [
    "#hyperparameter tuning\n",
    "N_HYPER_SAMPLES = 3\n",
    "tests = {}\n",
    "for i in range(N_HYPER_SAMPLES):\n",
    "    print('running hyperparam sample: ', i)\n",
    "    lr = 10 ** np.random.uniform(-4, -1)\n",
    "    dropout_p = np.random.uniform(0.2, 0.8)\n",
    "    l2_reg_lambda = 10 ** np.random.uniform(-5, -2)\n",
    "    test_dict = {\n",
    "        'lr': lr,\n",
    "        'dropout_p': dropout_p,\n",
    "        'l2_reg_lambda': l2_reg_lambda\n",
    "    }\n",
    "    params = init_params()\n",
    "    C1, b1, ga1, bet1, C2, b2, ga2, bet2, C3, b3, ga3, bet3, FC = params\n",
    "    optimizer = torch.optim.Adam(params, lr=lr)\n",
    "\n",
    "    #run losses\n",
    "    N_ITERS = 100\n",
    "    losses = []\n",
    "    for _ in range(N_ITERS):\n",
    "        #sample from training dataset\n",
    "        sample_idxs = torch.randperm(Xtr.shape[0])[:N]\n",
    "        Xtr_batch = Xtr[sample_idxs, :].view(N, C_in, W, H)\n",
    "        ytr_batch = ytr[sample_idxs]\n",
    "    \n",
    "        out = forward(Xtr_batch)\n",
    "    \n",
    "        #backprop\n",
    "        optimizer.zero_grad()\n",
    "        loss = F.cross_entropy(out, ytr_batch) + sum([(p**2).sum() for p in params]) * l2_reg_lambda #CEL + L2 Reg\n",
    "        loss.backward()\n",
    "        optimizer.step()\n",
    "    \n",
    "        losses.append(loss.item())\n",
    "\n",
    "    test_dict['losses'] = losses\n",
    "    train_out = forward(Xtr.view(Xtr.shape[0], C_in, W, H))\n",
    "    test_dict['train_set_loss'] = F.cross_entropy(train_out, ytr)\n",
    "    tests['iter-'+str(i)] = test_dict"
   ]
  },
  {
   "cell_type": "code",
   "execution_count": 14,
   "id": "1b318f27-03d5-46c9-942b-c1b12c5f5a3f",
   "metadata": {},
   "outputs": [
    {
     "data": {
      "text/plain": [
       "(tensor(2.5991, grad_fn=<NllLossBackward0>),\n",
       " tensor(2.3513, grad_fn=<NllLossBackward0>))"
      ]
     },
     "execution_count": 14,
     "metadata": {},
     "output_type": "execute_result"
    }
   ],
   "source": [
    "tests['iter-0']['train_set_loss'], tests['iter-1']['train_set_loss']"
   ]
  },
  {
   "cell_type": "markdown",
   "id": "b03a3b9c-0301-410b-84a6-0d3129fa19b5",
   "metadata": {},
   "source": [
    "### Expected shapes:\n",
    "input: N x C_in x W x H\n",
    "- N: batch size\n",
    "- C_in: channels (eg 3 for RGB image, or 5 if the previous conv layer had 5 filters)\n",
    "- W, H: image width and height\n",
    "\n",
    "unfolded input: N x C*K^2 x L\n",
    "- N: batch size, same as above\n",
    "- C_in: same as above\n",
    "- K: conv kernel size (assumes square conv kernel), so conv kernel has K^2 elems\n",
    "- L: number of  \"windows\", determined based on image and kernel sizes\n",
    "\n",
    "conv matrix: C_out, C_in, K, K\n",
    "- C_out: # of kernel filters\n",
    "- C_in: same as above\n",
    "- K: conv kernel size, same as above\n",
    "\n",
    "bias: 1 for each conv kernel (C_out), shape (C_out, )\n",
    "\n",
    "conv output: N x C_out x W_out x H_out\n",
    "- N: above\n",
    "- C_out: above\n",
    "- W_out: new image width, determined by image width and kernel size\n",
    "- H_out: new image height, determined by image height and kernel size\n",
    "\n",
    "max pooling: N x C_out x W_out / subsampling ratio x H_out / subsampling ratio\n",
    "- subsampling ratio: size of input field used to subsample from, common methods are max and mean\n",
    "\n",
    "\n",
    "### Hyperparam tuning\n",
    "\n",
    "list of hyper params + ranges:\n",
    "- learning rate: 10^-4 to 10^-1 (log scale)\n",
    "- dropout %: 0.1 - 0.7"
   ]
  },
  {
   "cell_type": "markdown",
   "id": "65728db7-75b3-4a1a-87cc-6ebee51683f7",
   "metadata": {},
   "source": []
  },
  {
   "cell_type": "code",
   "execution_count": null,
   "id": "9f6ba68d-6f5e-4aa0-828b-b811b57e137c",
   "metadata": {},
   "outputs": [],
   "source": []
  }
 ],
 "metadata": {
  "kernelspec": {
   "display_name": "Python 3 (ipykernel)",
   "language": "python",
   "name": "python3"
  },
  "language_info": {
   "codemirror_mode": {
    "name": "ipython",
    "version": 3
   },
   "file_extension": ".py",
   "mimetype": "text/x-python",
   "name": "python",
   "nbconvert_exporter": "python",
   "pygments_lexer": "ipython3",
   "version": "3.12.3"
  }
 },
 "nbformat": 4,
 "nbformat_minor": 5
}
