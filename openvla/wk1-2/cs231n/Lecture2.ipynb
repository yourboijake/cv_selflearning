{
 "cells": [
  {
   "cell_type": "markdown",
   "id": "1c730368-5eb3-4c15-980d-f36214e75b94",
   "metadata": {},
   "source": [
    "#### Sources\n",
    "- https://cs231n.github.io/classification/\n",
    "- https://www.youtube.com/watch?v=t2IwlUtbCFE&list=PL16j5WbGpaM0_Tj8CRmurZ8Kk1gEBc7fg&index=2\n",
    "- https://www.cs.toronto.edu/~kriz/cifar.html"
   ]
  },
  {
   "cell_type": "code",
   "execution_count": 54,
   "id": "43940291-03bf-4ab9-90c9-29e796605afa",
   "metadata": {},
   "outputs": [],
   "source": [
    "import numpy as np\n",
    "import pickle\n",
    "import matplotlib.pyplot as plt"
   ]
  },
  {
   "cell_type": "code",
   "execution_count": 3,
   "id": "213c45a9-8612-42b0-bc1f-5c6b45fa443a",
   "metadata": {},
   "outputs": [],
   "source": [
    "def unpickle(file):\n",
    "    with open(file, 'rb') as fo:\n",
    "        dict = pickle.load(fo, encoding='bytes')\n",
    "    return dict"
   ]
  },
  {
   "cell_type": "code",
   "execution_count": 44,
   "id": "965a86c9-2990-420e-889e-0a7fe6726050",
   "metadata": {},
   "outputs": [],
   "source": [
    "cifar_data_1 = unpickle('cifar-10-python/data_batch_1')\n",
    "cifar_data_2 = unpickle('cifar-10-python/data_batch_2')\n",
    "cifar_data_3 = unpickle('cifar-10-python/data_batch_3')\n",
    "cifar_data_4 = unpickle('cifar-10-python/data_batch_4')\n",
    "cifar_data_5 = unpickle('cifar-10-python/data_batch_5')"
   ]
  },
  {
   "cell_type": "code",
   "execution_count": 306,
   "id": "3e452634-e837-4c4d-aee9-e59c367bc243",
   "metadata": {},
   "outputs": [],
   "source": [
    "Xtr = np.concatenate([cifar_data_1[b'data'], cifar_data_2[b'data'], cifar_data_3[b'data'], cifar_data_4[b'data']])\n",
    "ytr = np.concatenate([cifar_data_1[b'labels'], cifar_data_2[b'labels'], cifar_data_3[b'labels'], cifar_data_4[b'labels']])\n",
    "Xtst = cifar_data_5[b'data']\n",
    "ytst = cifar_data_5[b'labels']\n",
    "\n",
    "Xtr_norm = Xtr - Xtr.mean(axis=0)\n",
    "Xtst_norm = Xtst - Xtst.mean(axis=0)"
   ]
  },
  {
   "cell_type": "code",
   "execution_count": 50,
   "id": "4f8b0729-e382-4ebe-acbc-5a9cad49f315",
   "metadata": {},
   "outputs": [],
   "source": [
    "def eval(ypred, ytst):\n",
    "    return np.sum(np.equal(ypred, ytst)) / ypred.shape[0]"
   ]
  },
  {
   "cell_type": "markdown",
   "id": "b4447c3d-cc38-42fe-9fbb-a53cc101e7a7",
   "metadata": {},
   "source": [
    "### Nearest Neighbor Classification using L1 Distance\n",
    "\n",
    "distance metric: d(I1, I2) = $\\Sigma$|I$_{1}$$^{p}$ - I$_{2}$$^{p}$|"
   ]
  },
  {
   "cell_type": "code",
   "execution_count": 71,
   "id": "017a2af8-ce70-4235-ba54-7255246fe875",
   "metadata": {},
   "outputs": [],
   "source": [
    "class L1NN(object):\n",
    "    def __init__(self):\n",
    "        pass\n",
    "\n",
    "    def train(self, X, y):\n",
    "        self.Xtr = X\n",
    "        self.ytr = np.array(y)\n",
    "\n",
    "    def predict(self, X):\n",
    "        num_test = X.shape[0]\n",
    "        Ypred = np.zeros(num_test, dtype = self.ytr.dtype)\n",
    "\n",
    "        for i in range(num_test):\n",
    "            distances = np.sum(np.abs(self.Xtr - X[i, :]), axis=1)\n",
    "            min_index = np.argmin(distances) \n",
    "            Ypred[i] = self.ytr[min_index]\n",
    "\n",
    "        return Ypred"
   ]
  },
  {
   "cell_type": "code",
   "execution_count": 76,
   "id": "4b927637-de3d-4345-ac60-4115431860c7",
   "metadata": {},
   "outputs": [],
   "source": [
    "class L2NN(object):\n",
    "    def __init__(self):\n",
    "        pass\n",
    "\n",
    "    def train(self, X, y):\n",
    "        self.Xtr = X\n",
    "        self.ytr = np.array(y)\n",
    "\n",
    "    def predict(self, X):\n",
    "        num_test = X.shape[0]\n",
    "        Ypred = np.zeros(num_test, dtype = self.ytr.dtype)\n",
    "\n",
    "        for i in range(num_test):\n",
    "            distances = np.sum(np.square(self.Xtr - X[i, :]), axis=1)\n",
    "            min_index = np.argmin(distances) \n",
    "            Ypred[i] = self.ytr[min_index]\n",
    "\n",
    "        return Ypred"
   ]
  },
  {
   "cell_type": "code",
   "execution_count": 99,
   "id": "b7e8a2dc-ab71-4638-a16f-d4755c3f8c2b",
   "metadata": {},
   "outputs": [],
   "source": [
    "l1nn = L1NN()\n",
    "l2nn = L2NN()"
   ]
  },
  {
   "cell_type": "code",
   "execution_count": 100,
   "id": "fd280396-58ca-46b6-8337-6d451bda735e",
   "metadata": {},
   "outputs": [],
   "source": [
    "l1nn.train(Xtr, ytr)\n",
    "l2nn.train(Xtr, ytr)"
   ]
  },
  {
   "cell_type": "code",
   "execution_count": 339,
   "id": "6bfb819d-3c80-47b3-bdfd-9be747044a4d",
   "metadata": {},
   "outputs": [
    {
     "ename": "KeyboardInterrupt",
     "evalue": "",
     "output_type": "error",
     "traceback": [
      "\u001b[31m---------------------------------------------------------------------------\u001b[39m",
      "\u001b[31mKeyboardInterrupt\u001b[39m                         Traceback (most recent call last)",
      "\u001b[36mCell\u001b[39m\u001b[36m \u001b[39m\u001b[32mIn[339]\u001b[39m\u001b[32m, line 5\u001b[39m\n\u001b[32m      3\u001b[39m Xtst_sample = Xtst[sample_idxs, :]\n\u001b[32m      4\u001b[39m ytst_sample = np.array(ytst)[sample_idxs]\n\u001b[32m----> \u001b[39m\u001b[32m5\u001b[39m l1nn_ypred_sample = \u001b[43ml1nn\u001b[49m\u001b[43m.\u001b[49m\u001b[43mpredict\u001b[49m\u001b[43m(\u001b[49m\u001b[43mXtst_sample\u001b[49m\u001b[43m)\u001b[49m\n\u001b[32m      6\u001b[39m l2nn_ypred_sample = l2nn.predict(Xtst_sample)\n\u001b[32m      8\u001b[39m \u001b[38;5;66;03m#print('l1nn accuracy:', eval(l1nn_ypred_sample, ytst_sample))\u001b[39;00m\n\u001b[32m      9\u001b[39m \u001b[38;5;66;03m#print('l2nn accuracy:', eval(l2nn_ypred_sample, ytst_sample))\u001b[39;00m\n",
      "\u001b[36mCell\u001b[39m\u001b[36m \u001b[39m\u001b[32mIn[71]\u001b[39m\u001b[32m, line 14\u001b[39m, in \u001b[36mL1NN.predict\u001b[39m\u001b[34m(self, X)\u001b[39m\n\u001b[32m     11\u001b[39m Ypred = np.zeros(num_test, dtype = \u001b[38;5;28mself\u001b[39m.ytr.dtype)\n\u001b[32m     13\u001b[39m \u001b[38;5;28;01mfor\u001b[39;00m i \u001b[38;5;129;01min\u001b[39;00m \u001b[38;5;28mrange\u001b[39m(num_test):\n\u001b[32m---> \u001b[39m\u001b[32m14\u001b[39m     distances = \u001b[43mnp\u001b[49m\u001b[43m.\u001b[49m\u001b[43msum\u001b[49m\u001b[43m(\u001b[49m\u001b[43mnp\u001b[49m\u001b[43m.\u001b[49m\u001b[43mabs\u001b[49m\u001b[43m(\u001b[49m\u001b[38;5;28;43mself\u001b[39;49m\u001b[43m.\u001b[49m\u001b[43mXtr\u001b[49m\u001b[43m \u001b[49m\u001b[43m-\u001b[49m\u001b[43m \u001b[49m\u001b[43mX\u001b[49m\u001b[43m[\u001b[49m\u001b[43mi\u001b[49m\u001b[43m,\u001b[49m\u001b[43m \u001b[49m\u001b[43m:\u001b[49m\u001b[43m]\u001b[49m\u001b[43m)\u001b[49m\u001b[43m,\u001b[49m\u001b[43m \u001b[49m\u001b[43maxis\u001b[49m\u001b[43m=\u001b[49m\u001b[32;43m1\u001b[39;49m\u001b[43m)\u001b[49m\n\u001b[32m     15\u001b[39m     min_index = np.argmin(distances) \n\u001b[32m     16\u001b[39m     Ypred[i] = \u001b[38;5;28mself\u001b[39m.ytr[min_index]\n",
      "\u001b[36mFile \u001b[39m\u001b[32m~/Desktop/programming/learning/ml/venv/lib/python3.12/site-packages/numpy/_core/fromnumeric.py:2466\u001b[39m, in \u001b[36msum\u001b[39m\u001b[34m(a, axis, dtype, out, keepdims, initial, where)\u001b[39m\n\u001b[32m   2463\u001b[39m         \u001b[38;5;28;01mreturn\u001b[39;00m out\n\u001b[32m   2464\u001b[39m     \u001b[38;5;28;01mreturn\u001b[39;00m res\n\u001b[32m-> \u001b[39m\u001b[32m2466\u001b[39m \u001b[38;5;28;01mreturn\u001b[39;00m \u001b[43m_wrapreduction\u001b[49m\u001b[43m(\u001b[49m\n\u001b[32m   2467\u001b[39m \u001b[43m    \u001b[49m\u001b[43ma\u001b[49m\u001b[43m,\u001b[49m\u001b[43m \u001b[49m\u001b[43mnp\u001b[49m\u001b[43m.\u001b[49m\u001b[43madd\u001b[49m\u001b[43m,\u001b[49m\u001b[43m \u001b[49m\u001b[33;43m'\u001b[39;49m\u001b[33;43msum\u001b[39;49m\u001b[33;43m'\u001b[39;49m\u001b[43m,\u001b[49m\u001b[43m \u001b[49m\u001b[43maxis\u001b[49m\u001b[43m,\u001b[49m\u001b[43m \u001b[49m\u001b[43mdtype\u001b[49m\u001b[43m,\u001b[49m\u001b[43m \u001b[49m\u001b[43mout\u001b[49m\u001b[43m,\u001b[49m\n\u001b[32m   2468\u001b[39m \u001b[43m    \u001b[49m\u001b[43mkeepdims\u001b[49m\u001b[43m=\u001b[49m\u001b[43mkeepdims\u001b[49m\u001b[43m,\u001b[49m\u001b[43m \u001b[49m\u001b[43minitial\u001b[49m\u001b[43m=\u001b[49m\u001b[43minitial\u001b[49m\u001b[43m,\u001b[49m\u001b[43m \u001b[49m\u001b[43mwhere\u001b[49m\u001b[43m=\u001b[49m\u001b[43mwhere\u001b[49m\n\u001b[32m   2469\u001b[39m \u001b[43m\u001b[49m\u001b[43m)\u001b[49m\n",
      "\u001b[36mFile \u001b[39m\u001b[32m~/Desktop/programming/learning/ml/venv/lib/python3.12/site-packages/numpy/_core/fromnumeric.py:86\u001b[39m, in \u001b[36m_wrapreduction\u001b[39m\u001b[34m(obj, ufunc, method, axis, dtype, out, **kwargs)\u001b[39m\n\u001b[32m     83\u001b[39m         \u001b[38;5;28;01melse\u001b[39;00m:\n\u001b[32m     84\u001b[39m             \u001b[38;5;28;01mreturn\u001b[39;00m reduction(axis=axis, out=out, **passkwargs)\n\u001b[32m---> \u001b[39m\u001b[32m86\u001b[39m \u001b[38;5;28;01mreturn\u001b[39;00m \u001b[43mufunc\u001b[49m\u001b[43m.\u001b[49m\u001b[43mreduce\u001b[49m\u001b[43m(\u001b[49m\u001b[43mobj\u001b[49m\u001b[43m,\u001b[49m\u001b[43m \u001b[49m\u001b[43maxis\u001b[49m\u001b[43m,\u001b[49m\u001b[43m \u001b[49m\u001b[43mdtype\u001b[49m\u001b[43m,\u001b[49m\u001b[43m \u001b[49m\u001b[43mout\u001b[49m\u001b[43m,\u001b[49m\u001b[43m \u001b[49m\u001b[43m*\u001b[49m\u001b[43m*\u001b[49m\u001b[43mpasskwargs\u001b[49m\u001b[43m)\u001b[49m\n",
      "\u001b[31mKeyboardInterrupt\u001b[39m: "
     ]
    }
   ],
   "source": [
    "#l1nn accuracy\n",
    "sample_idxs = np.random.choice(np.arange(Xtst.shape[0]), size=100)\n",
    "Xtst_sample = Xtst[sample_idxs, :]\n",
    "ytst_sample = np.array(ytst)[sample_idxs]\n",
    "l1nn_ypred_sample = l1nn.predict(Xtst_sample)\n",
    "l2nn_ypred_sample = l2nn.predict(Xtst_sample)\n",
    "\n",
    "#print('l1nn accuracy:', eval(l1nn_ypred_sample, ytst_sample))\n",
    "#print('l2nn accuracy:', eval(l2nn_ypred_sample, ytst_sample))"
   ]
  },
  {
   "cell_type": "markdown",
   "id": "31bcb982-cca7-4374-8931-db6222f2e328",
   "metadata": {},
   "source": [
    "#### K Nearest Neighbors"
   ]
  },
  {
   "cell_type": "code",
   "execution_count": 168,
   "id": "2350f830-9adf-4d7c-a327-ecf8249fb9b2",
   "metadata": {},
   "outputs": [],
   "source": [
    "class KNN(object):\n",
    "    def __init__(self):\n",
    "        pass\n",
    "\n",
    "    def train(self, X, y):\n",
    "        self.Xtr = X\n",
    "        self.ytr = np.array(y)\n",
    "\n",
    "    def predict(self, X, k):\n",
    "        num_test = X.shape[0]\n",
    "        Ypred = np.zeros(num_test, dtype = self.ytr.dtype)\n",
    "\n",
    "        for i in range(num_test):\n",
    "            knn_idxs = np.argpartition(np.sum(np.abs(self.Xtr - X[i, :]), axis=1), kth=k)[:k]\n",
    "            knn_labels = self.ytr[knn_idxs]\n",
    "            values, counts = np.unique(knn_labels, return_counts=True)\n",
    "            Ypred[i] = values[np.argmax(counts)]\n",
    "\n",
    "        return Ypred"
   ]
  },
  {
   "cell_type": "code",
   "execution_count": 169,
   "id": "83f02fb6-8541-4553-8ebb-26ba2aba9833",
   "metadata": {},
   "outputs": [],
   "source": [
    "knn = KNN()"
   ]
  },
  {
   "cell_type": "code",
   "execution_count": 170,
   "id": "c7a0e1d7-02a8-4279-869f-22da715a445b",
   "metadata": {},
   "outputs": [],
   "source": [
    "knn.train(Xtr, ytr)"
   ]
  },
  {
   "cell_type": "code",
   "execution_count": 182,
   "id": "b4e87de5-8cef-4184-823f-3d298c155a6d",
   "metadata": {},
   "outputs": [],
   "source": [
    "sample_idxs = np.random.choice(np.arange(Xtst.shape[0]), size=100)\n",
    "Xtst_sample = Xtst[sample_idxs, :]\n",
    "ytst_sample = np.array(ytst)[sample_idxs]\n",
    "#l1nn_ypred_sample = l1nn.predict(Xtst_sample)\n",
    "#l2nn_ypred_sample = l2nn.predict(Xtst_sample)\n",
    "#l2nn_ypred_sample = knn.predict(Xtst_sample)\n",
    "\n",
    "#print('l1nn accuracy:', eval(l1nn_ypred_sample, ytst_sample))\n",
    "#print('l2nn accuracy:', eval(l2nn_ypred_sample, ytst_sample))\n",
    "#print('knn accuracy:', eval(knn_ypred_sample, ytst_sample))"
   ]
  },
  {
   "cell_type": "code",
   "execution_count": 184,
   "id": "a502459e-7420-414f-94c0-426e31129c9b",
   "metadata": {},
   "outputs": [
    {
     "name": "stdout",
     "output_type": "stream",
     "text": [
      "accuracy at k = 1: 0.23\n",
      "accuracy at k = 3: 0.21\n",
      "accuracy at k = 5: 0.26\n",
      "accuracy at k = 10: 0.21\n",
      "accuracy at k = 20: 0.23\n",
      "accuracy at k = 50: 0.23\n"
     ]
    }
   ],
   "source": [
    "#k-fold hyperparam tuning on knn\n",
    "accuracies = []\n",
    "k_options = [1, 3, 5, 10, 20, 50]\n",
    "for k in k_options:\n",
    "    knn_ypred_sample = knn.predict(Xtst_sample, k)\n",
    "    acc = eval(knn_ypred_sample, ytst_sample)\n",
    "    print(f'accuracy at k = {k}:', acc)\n",
    "    accuracies.append(acc)"
   ]
  },
  {
   "cell_type": "code",
   "execution_count": 185,
   "id": "4ddbcf15-17c5-4776-9b1b-f34cd48002e6",
   "metadata": {},
   "outputs": [
    {
     "data": {
      "text/plain": [
       "[np.float64(0.23),\n",
       " np.float64(0.21),\n",
       " np.float64(0.26),\n",
       " np.float64(0.21),\n",
       " np.float64(0.23),\n",
       " np.float64(0.23)]"
      ]
     },
     "execution_count": 185,
     "metadata": {},
     "output_type": "execute_result"
    }
   ],
   "source": [
    "accuracies"
   ]
  },
  {
   "cell_type": "code",
   "execution_count": 186,
   "id": "3606601b-2329-4d53-a4ca-bed281bac41b",
   "metadata": {},
   "outputs": [
    {
     "data": {
      "text/plain": [
       "<matplotlib.collections.PathCollection at 0x7efb7da8a450>"
      ]
     },
     "execution_count": 186,
     "metadata": {},
     "output_type": "execute_result"
    },
    {
     "data": {
      "image/png": "[encoded data removed]",
      "text/plain": [
       "<Figure size 640x480 with 1 Axes>"
      ]
     },
     "metadata": {},
     "output_type": "display_data"
    }
   ],
   "source": [
    "plt.scatter(k_options, accuracies)"
   ]
  },
  {
   "cell_type": "markdown",
   "id": "b2c4d3b3-94a7-42b2-bf5b-10749e07e7b6",
   "metadata": {},
   "source": [
    "## Linear Classification"
   ]
  },
  {
   "cell_type": "code",
   "execution_count": 334,
   "id": "9f121bae-1ac3-4839-9764-bb86d8a4e6be",
   "metadata": {},
   "outputs": [],
   "source": [
    "#implement linear classifier\n",
    "class LinearClassifier:\n",
    "    def __init__(self, D, K):\n",
    "        self.W = np.random.normal(size=(D, K))\n",
    "        self.b = np.random.normal(K)\n",
    "\n",
    "    def forward(self, X):\n",
    "        return X @ self.W  + self.b\n",
    "   \n",
    "    def loss(self, y_pred, y_true, delta, lmbda):\n",
    "        '''\n",
    "        y_pred = matrix of shape (N x K)\n",
    "        y_true = vector of dim N\n",
    "        delta = scalar\n",
    "        lmbda = scalar\n",
    "        '''\n",
    "        yt_pred = y_pred[np.arange(len(y_true)), y_true]\n",
    "        \n",
    "        #use loss mask to remove the correct y trues from loss calculation\n",
    "        yt_loss_mask = np.ones(y_pred.shape)\n",
    "        yt_loss_mask[np.arange(yt_loss_mask.shape[0]), y_true] = 0\n",
    "\n",
    "        dist = (y_pred.T - yt_pred + delta).T * yt_loss_mask\n",
    "        l2_reg = lmbda * np.sum(self.W ** 2)\n",
    "        loss = np.sum(np.clip(dist, a_min=0, a_max=np.inf)) + l2_reg\n",
    "\n",
    "        return loss, dist"
   ]
  },
  {
   "cell_type": "code",
   "execution_count": 335,
   "id": "1c49e761-507b-41b2-97dc-472b32d9739e",
   "metadata": {},
   "outputs": [],
   "source": [
    "#implement multi-class SVM loss with L2 regularization\n",
    "lc = LinearClassifier(3072, 10)"
   ]
  },
  {
   "cell_type": "code",
   "execution_count": 336,
   "id": "788c1b1d-b493-411e-b8c7-b9c5c4b25e6a",
   "metadata": {},
   "outputs": [],
   "source": [
    "y_pred = lc.forward(Xtr_norm)"
   ]
  },
  {
   "cell_type": "code",
   "execution_count": 338,
   "id": "7323b532-ba78-4d3e-92ae-ff78f13d448e",
   "metadata": {},
   "outputs": [
    {
     "data": {
      "text/plain": [
       "np.float64(3076.854318885039)"
      ]
     },
     "execution_count": 338,
     "metadata": {},
     "output_type": "execute_result"
    }
   ],
   "source": [
    "lc.loss(y_pred, ytr, 10, 0.1)"
   ]
  },
  {
   "cell_type": "markdown",
   "id": "fd543d78-b4f1-44e2-a23e-50de02e1cdb2",
   "metadata": {},
   "source": [
    "#### Softmax Classifier\n",
    "\n",
    "loss function:\n",
    "L$_{i}$ = -f$_{yi}$ + log$\\Sigma$e$^{fj}$"
   ]
  },
  {
   "cell_type": "code",
   "execution_count": 388,
   "id": "e66bfa99-c3c3-4b0e-affe-6e60e1c3b4b8",
   "metadata": {},
   "outputs": [],
   "source": [
    "class SoftmaxClassifier:\n",
    "    def __init__(self, D, K):\n",
    "        self.W = np.random.normal(size=(D, K)) / D ** 0.5\n",
    "        self.b = np.random.normal(K)\n",
    "\n",
    "    def forward(self, X):\n",
    "        return X @ self.W  + self.b\n",
    "\n",
    "    def loss(self, y_pred, y_true, lmbda):\n",
    "        #compute softmax\n",
    "        y_pred -= np.max(y_pred, axis=0) #reduce by max(y_pred) for numerical stability\n",
    "        y_pred = np.exp(y_pred)\n",
    "        y_pred /= np.sum(y_pred, axis=0)\n",
    "\n",
    "        l2_reg = lmbda * np.sum(self.W ** 2)\n",
    "        loss = -np.mean(y_pred[np.arange(y_pred.shape[0]), y_true]) + l2_reg\n",
    "        return loss\n",
    "        "
   ]
  },
  {
   "cell_type": "code",
   "execution_count": 389,
   "id": "232c5b4d-3f8c-47a1-90be-275b6ae438b2",
   "metadata": {},
   "outputs": [],
   "source": [
    "sc = SoftmaxClassifier(3072, 10)"
   ]
  },
  {
   "cell_type": "code",
   "execution_count": 390,
   "id": "4d4f3f92-f6dc-4cf5-a5aa-145c304a9ec7",
   "metadata": {},
   "outputs": [],
   "source": [
    "y_pred = sc.forward(Xtr_norm)"
   ]
  },
  {
   "cell_type": "code",
   "execution_count": 391,
   "id": "88c53377-84f1-4e74-ac80-1fe44997bb00",
   "metadata": {},
   "outputs": [
    {
     "data": {
      "text/plain": [
       "np.float64(0.993988779960793)"
      ]
     },
     "execution_count": 391,
     "metadata": {},
     "output_type": "execute_result"
    }
   ],
   "source": [
    "sc.loss(y_pred, ytr, 0.1)"
   ]
  }
 ],
 "metadata": {
  "kernelspec": {
   "display_name": "Python 3 (ipykernel)",
   "language": "python",
   "name": "python3"
  },
  "language_info": {
   "codemirror_mode": {
    "name": "ipython",
    "version": 3
   },
   "file_extension": ".py",
   "mimetype": "text/x-python",
   "name": "python",
   "nbconvert_exporter": "python",
   "pygments_lexer": "ipython3",
   "version": "3.12.3"
  }
 },
 "nbformat": 4,
 "nbformat_minor": 5
}
