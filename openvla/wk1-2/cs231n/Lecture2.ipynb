{
 "cells": [
  {
   "cell_type": "markdown",
   "id": "1c730368-5eb3-4c15-980d-f36214e75b94",
   "metadata": {},
   "source": [
    "#### Sources\n",
    "- https://cs231n.github.io/classification/\n",
    "- https://www.youtube.com/watch?v=t2IwlUtbCFE&list=PL16j5WbGpaM0_Tj8CRmurZ8Kk1gEBc7fg&index=2\n",
    "- https://www.cs.toronto.edu/~kriz/cifar.html"
   ]
  },
  {
   "cell_type": "code",
   "execution_count": 54,
   "id": "43940291-03bf-4ab9-90c9-29e796605afa",
   "metadata": {},
   "outputs": [],
   "source": [
    "import numpy as np\n",
    "import pickle\n",
    "import matplotlib.pyplot as plt"
   ]
  },
  {
   "cell_type": "code",
   "execution_count": 3,
   "id": "213c45a9-8612-42b0-bc1f-5c6b45fa443a",
   "metadata": {},
   "outputs": [],
   "source": [
    "def unpickle(file):\n",
    "    with open(file, 'rb') as fo:\n",
    "        dict = pickle.load(fo, encoding='bytes')\n",
    "    return dict"
   ]
  },
  {
   "cell_type": "code",
   "execution_count": 44,
   "id": "965a86c9-2990-420e-889e-0a7fe6726050",
   "metadata": {},
   "outputs": [],
   "source": [
    "\n",
    "cifar_data_1 = unpickle('cifar-10-python/data_batch_1')\n",
    "cifar_data_2 = unpickle('cifar-10-python/data_batch_2')\n",
    "cifar_data_3 = unpickle('cifar-10-python/data_batch_3')\n",
    "cifar_data_4 = unpickle('cifar-10-python/data_batch_4')\n",
    "cifar_data_5 = unpickle('cifar-10-python/data_batch_5')"
   ]
  },
  {
   "cell_type": "code",
   "execution_count": 46,
   "id": "3e452634-e837-4c4d-aee9-e59c367bc243",
   "metadata": {},
   "outputs": [],
   "source": [
    "Xtr = np.concatenate([cifar_data_1[b'data'], cifar_data_2[b'data'], cifar_data_3[b'data'], cifar_data_4[b'data']])\n",
    "ytr = np.concatenate([cifar_data_1[b'labels'], cifar_data_2[b'labels'], cifar_data_3[b'labels'], cifar_data_4[b'labels']])\n",
    "Xtst = cifar_data_5[b'data']\n",
    "ytst = cifar_data_5[b'labels']"
   ]
  },
  {
   "cell_type": "code",
   "execution_count": 50,
   "id": "4f8b0729-e382-4ebe-acbc-5a9cad49f315",
   "metadata": {},
   "outputs": [],
   "source": [
    "def eval(ypred, ytst):\n",
    "    return np.sum(np.equal(ypred, ytst)) / ypred.shape[0]"
   ]
  },
  {
   "cell_type": "markdown",
   "id": "b4447c3d-cc38-42fe-9fbb-a53cc101e7a7",
   "metadata": {},
   "source": [
    "### Nearest Neighbor Classification using L1 Distance\n",
    "\n",
    "distance metric: d(I1, I2) = $\\Sigma$|I$_{1}$$^{p}$ - I$_{2}$$^{p}$|"
   ]
  },
  {
   "cell_type": "code",
   "execution_count": 71,
   "id": "017a2af8-ce70-4235-ba54-7255246fe875",
   "metadata": {},
   "outputs": [],
   "source": [
    "class L1NN(object):\n",
    "    def __init__(self):\n",
    "        pass\n",
    "\n",
    "    def train(self, X, y):\n",
    "        self.Xtr = X\n",
    "        self.ytr = np.array(y)\n",
    "\n",
    "    def predict(self, X):\n",
    "        num_test = X.shape[0]\n",
    "        Ypred = np.zeros(num_test, dtype = self.ytr.dtype)\n",
    "\n",
    "        for i in range(num_test):\n",
    "            distances = np.sum(np.abs(self.Xtr - X[i, :]), axis=1)\n",
    "            min_index = np.argmin(distances) \n",
    "            Ypred[i] = self.ytr[min_index]\n",
    "\n",
    "        return Ypred"
   ]
  },
  {
   "cell_type": "code",
   "execution_count": 76,
   "id": "4b927637-de3d-4345-ac60-4115431860c7",
   "metadata": {},
   "outputs": [],
   "source": [
    "class L2NN(object):\n",
    "    def __init__(self):\n",
    "        pass\n",
    "\n",
    "    def train(self, X, y):\n",
    "        self.Xtr = X\n",
    "        self.ytr = np.array(y)\n",
    "\n",
    "    def predict(self, X):\n",
    "        num_test = X.shape[0]\n",
    "        Ypred = np.zeros(num_test, dtype = self.ytr.dtype)\n",
    "\n",
    "        for i in range(num_test):\n",
    "            distances = np.sum(np.square(self.Xtr - X[i, :]), axis=1)\n",
    "            min_index = np.argmin(distances) \n",
    "            Ypred[i] = self.ytr[min_index]\n",
    "\n",
    "        return Ypred"
   ]
  },
  {
   "cell_type": "code",
   "execution_count": 99,
   "id": "b7e8a2dc-ab71-4638-a16f-d4755c3f8c2b",
   "metadata": {},
   "outputs": [],
   "source": [
    "l1nn = L1NN()\n",
    "l2nn = L2NN()"
   ]
  },
  {
   "cell_type": "code",
   "execution_count": 100,
   "id": "fd280396-58ca-46b6-8337-6d451bda735e",
   "metadata": {},
   "outputs": [],
   "source": [
    "l1nn.train(Xtr, ytr)\n",
    "l2nn.train(Xtr, ytr)"
   ]
  },
  {
   "cell_type": "code",
   "execution_count": 101,
   "id": "6bfb819d-3c80-47b3-bdfd-9be747044a4d",
   "metadata": {},
   "outputs": [
    {
     "name": "stdout",
     "output_type": "stream",
     "text": [
      "l1nn accuracy: 0.22\n",
      "l2nn accuracy: 0.2\n"
     ]
    }
   ],
   "source": [
    "#l1nn accuracy\n",
    "sample_idxs = np.random.choice(np.arange(Xtst.shape[0]), size=10000)\n",
    "Xtst_sample = Xtst[sample_idxs, :]\n",
    "ytst_sample = np.array(ytst)[sample_idxs]\n",
    "l1nn_ypred_sample = l1nn.predict(Xtst_sample)\n",
    "l2nn_ypred_sample = l2nn.predict(Xtst_sample)\n",
    "\n",
    "print('l1nn accuracy:', eval(l1nn_ypred_sample, ytst_sample))\n",
    "print('l2nn accuracy:', eval(l2nn_ypred_sample, ytst_sample))"
   ]
  },
  {
   "cell_type": "markdown",
   "id": "31bcb982-cca7-4374-8931-db6222f2e328",
   "metadata": {},
   "source": [
    "#### K Nearest Neighbors"
   ]
  },
  {
   "cell_type": "code",
   "execution_count": 168,
   "id": "2350f830-9adf-4d7c-a327-ecf8249fb9b2",
   "metadata": {},
   "outputs": [],
   "source": [
    "class KNN(object):\n",
    "    def __init__(self):\n",
    "        pass\n",
    "\n",
    "    def train(self, X, y):\n",
    "        self.Xtr = X\n",
    "        self.ytr = np.array(y)\n",
    "\n",
    "    def predict(self, X, k):\n",
    "        num_test = X.shape[0]\n",
    "        Ypred = np.zeros(num_test, dtype = self.ytr.dtype)\n",
    "\n",
    "        for i in range(num_test):\n",
    "            knn_idxs = np.argpartition(np.sum(np.abs(self.Xtr - X[i, :]), axis=1), kth=k)[:k]\n",
    "            knn_labels = self.ytr[knn_idxs]\n",
    "            values, counts = np.unique(knn_labels, return_counts=True)\n",
    "            Ypred[i] = values[np.argmax(counts)]\n",
    "\n",
    "        return Ypred"
   ]
  },
  {
   "cell_type": "code",
   "execution_count": 169,
   "id": "83f02fb6-8541-4553-8ebb-26ba2aba9833",
   "metadata": {},
   "outputs": [],
   "source": [
    "knn = KNN()"
   ]
  },
  {
   "cell_type": "code",
   "execution_count": 170,
   "id": "c7a0e1d7-02a8-4279-869f-22da715a445b",
   "metadata": {},
   "outputs": [],
   "source": [
    "knn.train(Xtr, ytr)"
   ]
  },
  {
   "cell_type": "code",
   "execution_count": 172,
   "id": "18e061e1-6c65-4d01-8122-7de9537b4738",
   "metadata": {},
   "outputs": [
    {
     "name": "stdout",
     "output_type": "stream",
     "text": [
      "l1nn accuracy: 0.23\n",
      "l2nn accuracy: 0.23\n",
      "knn accuracy: 0.21\n"
     ]
    }
   ],
   "source": [
    "#knn accuracy\n",
    "sample_idxs = np.random.choice(np.arange(Xtst.shape[0]), size=1000)\n",
    "Xtst_sample = Xtst[sample_idxs, :]\n",
    "ytst_sample = np.array(ytst)[sample_idxs]\n",
    "l1nn_ypred_sample = l1nn.predict(Xtst_sample)\n",
    "l2nn_ypred_sample = l1nn.predict(Xtst_sample)\n",
    "knn_ypred_sample = knn.predict(Xtst_sample, 5)\n",
    "\n",
    "print('l1nn accuracy:', eval(l1nn_ypred_sample, ytst_sample))\n",
    "print('l2nn accuracy:', eval(l2nn_ypred_sample, ytst_sample))\n",
    "print('knn accuracy:', eval(knn_ypred_sample, ytst_sample))"
   ]
  },
  {
   "cell_type": "code",
   "execution_count": 160,
   "id": "bd1aed7d-7d99-4123-b7d3-88af4a624fd8",
   "metadata": {},
   "outputs": [
    {
     "data": {
      "text/plain": [
       "array([5, 7, 7, 7, 5])"
      ]
     },
     "execution_count": 160,
     "metadata": {},
     "output_type": "execute_result"
    }
   ],
   "source": [
    "k_neighbor_labels = ytr[k_neighbor_idxs]\n",
    "k_neighbor_labels"
   ]
  },
  {
   "cell_type": "code",
   "execution_count": 163,
   "id": "d76f25a3-a95d-4175-b065-ca57619cdf8b",
   "metadata": {},
   "outputs": [],
   "source": [
    "values, counts = np.unique(k_neighbor_labels, return_counts=True)"
   ]
  },
  {
   "cell_type": "code",
   "execution_count": 167,
   "id": "478b1e8b-9531-4f4f-872e-509c72eefa7e",
   "metadata": {},
   "outputs": [
    {
     "data": {
      "text/plain": [
       "(array([5, 7]), array([2, 3]), np.int64(7))"
      ]
     },
     "execution_count": 167,
     "metadata": {},
     "output_type": "execute_result"
    }
   ],
   "source": [
    "values, counts, values[np.argmax(counts)]"
   ]
  }
 ],
 "metadata": {
  "kernelspec": {
   "display_name": "Python 3 (ipykernel)",
   "language": "python",
   "name": "python3"
  },
  "language_info": {
   "codemirror_mode": {
    "name": "ipython",
    "version": 3
   },
   "file_extension": ".py",
   "mimetype": "text/x-python",
   "name": "python",
   "nbconvert_exporter": "python",
   "pygments_lexer": "ipython3",
   "version": "3.12.3"
  }
 },
 "nbformat": 4,
 "nbformat_minor": 5
}
