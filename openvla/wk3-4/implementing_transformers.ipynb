{
 "cells": [
  {
   "cell_type": "code",
   "execution_count": 13,
   "id": "d7e17094-15ac-4291-8297-d754c9be089c",
   "metadata": {},
   "outputs": [],
   "source": [
    "import torch\n",
    "import torch.nn.functional as F\n",
    "import math"
   ]
  },
  {
   "cell_type": "markdown",
   "id": "a462224c-71ff-4689-92bb-6a3a4932508c",
   "metadata": {},
   "source": [
    "### Implementing Core attention mechanism\n",
    "\n",
    "Attention(Q, K, V) = softmax(QKt/sqrt(d_k))V"
   ]
  },
  {
   "cell_type": "code",
   "execution_count": 7,
   "id": "dc43170e-4535-4d06-bcea-c26ab7f7f1d6",
   "metadata": {},
   "outputs": [
    {
     "data": {
      "text/plain": [
       "(torch.Size([32, 10, 12288]),\n",
       " torch.Size([12288, 128]),\n",
       " torch.Size([12288, 128]))"
      ]
     },
     "execution_count": 7,
     "metadata": {},
     "output_type": "execute_result"
    }
   ],
   "source": [
    "batch_size = 32\n",
    "context_len = 10\n",
    "d_embed = 12288\n",
    "d_k = 128\n",
    "\n",
    "E = torch.randn(batch_size, context_len, d_embed) #tensor of embedded words\n",
    "Wq = torch.randn(d_embed, d_k) #query matrix\n",
    "Wk = torch.randn(d_embed, d_k) #key matrix\n",
    "Wv = torch.randn(d_embed, d_k) #value matrix\n",
    "\n",
    "E.shape, Wq.shape, Wk.shape"
   ]
  },
  {
   "cell_type": "code",
   "execution_count": 9,
   "id": "def829b4-c5a2-4ee9-9529-745faef7efd9",
   "metadata": {},
   "outputs": [
    {
     "data": {
      "text/plain": [
       "(torch.Size([32, 10, 128]), torch.Size([32, 10, 128]))"
      ]
     },
     "execution_count": 9,
     "metadata": {},
     "output_type": "execute_result"
    }
   ],
   "source": [
    "Q = E @ Wq\n",
    "K = E @ Wk\n",
    "\n",
    "Q.shape, K.shape"
   ]
  },
  {
   "cell_type": "code",
   "execution_count": 48,
   "id": "ad7e54b6-dfb3-42bf-8e03-4727f5324a60",
   "metadata": {},
   "outputs": [
    {
     "data": {
      "text/plain": [
       "(torch.Size([32, 128, 10]), torch.Size([32, 10, 10]))"
      ]
     },
     "execution_count": 48,
     "metadata": {},
     "output_type": "execute_result"
    }
   ],
   "source": [
    "#creating attention pattern\n",
    "AP = Q @ K.transpose(1, 2) #transpose along 1st and 2nd dim, leaving batch dim intact\n",
    "\n",
    "K.transpose(1, 2).shape, AP.shape"
   ]
  },
  {
   "cell_type": "code",
   "execution_count": 56,
   "id": "00c3e105-d7e2-4c14-9fda-4de60b2ccfb1",
   "metadata": {},
   "outputs": [],
   "source": [
    "#apply scale, mask, and softmax\n",
    "AP /= math.sqrt(d_k) #scale\n",
    "\n",
    "mask = torch.triu(torch.ones(AP.shape, dtype=torch.bool))\n",
    "AP = AP.masked_fill(~mask, -float('inf')) #mask with -inf\n",
    "\n",
    "AP = F.softmax(AP, dim=2)"
   ]
  },
  {
   "cell_type": "code",
   "execution_count": null,
   "id": "a00a03af-9d0a-4ccf-9ffe-32fb704bb776",
   "metadata": {},
   "outputs": [],
   "source": [
    "#matmul with value matrix\n",
    "V = E @ Wv"
   ]
  }
 ],
 "metadata": {
  "kernelspec": {
   "display_name": "Python 3 (ipykernel)",
   "language": "python",
   "name": "python3"
  },
  "language_info": {
   "codemirror_mode": {
    "name": "ipython",
    "version": 3
   },
   "file_extension": ".py",
   "mimetype": "text/x-python",
   "name": "python",
   "nbconvert_exporter": "python",
   "pygments_lexer": "ipython3",
   "version": "3.12.3"
  }
 },
 "nbformat": 4,
 "nbformat_minor": 5
}
