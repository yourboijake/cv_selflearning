{
 "cells": [
  {
   "cell_type": "code",
   "execution_count": 306,
   "id": "a515f29b",
   "metadata": {},
   "outputs": [],
   "source": [
    "import torch\n",
    "import torch.nn as nn\n",
    "import torch.nn.functional as F\n",
    "import torch.optim as optim\n",
    "import torchvision\n",
    "import torchvision.transforms as transforms\n",
    "from torch.utils.data import RandomSampler, Dataset, DataLoader"
   ]
  },
  {
   "cell_type": "code",
   "execution_count": 276,
   "id": "7d1af6ec",
   "metadata": {},
   "outputs": [],
   "source": [
    "#demo using CIFAR10\n",
    "#create dataset with pytorch datset and dataloaders\n",
    "tf = transforms.Compose([\n",
    "  torchvision.transforms.ToTensor(),\n",
    "  transforms.Normalize([0.5]*3, [0.25]*3)\n",
    "])\n",
    "TRAIN_BATCH_SIZE = 128\n",
    "\n",
    "trainset = torchvision.datasets.CIFAR10(\n",
    "    root='./data', \n",
    "    train=True,\n",
    "    download=True, \n",
    "    transform=tf,\n",
    ")\n",
    "trainloader = torch.utils.data.DataLoader(\n",
    "    trainset, \n",
    "    batch_size=TRAIN_BATCH_SIZE,\n",
    "    shuffle=True, \n",
    "    num_workers=2\n",
    ")\n",
    "\n",
    "testset = torchvision.datasets.CIFAR10(\n",
    "    root='./data', \n",
    "    train=False,\n",
    "    download=True, \n",
    "    transform=tf,\n",
    ")\n",
    "testloader = torch.utils.data.DataLoader(\n",
    "    testset, \n",
    "    batch_size=200,\n",
    "    shuffle=False, \n",
    "    num_workers=2\n",
    ")"
   ]
  },
  {
   "cell_type": "code",
   "execution_count": 277,
   "id": "2a7fe9a4",
   "metadata": {},
   "outputs": [
    {
     "data": {
      "text/plain": [
       "50000"
      ]
     },
     "execution_count": 277,
     "metadata": {},
     "output_type": "execute_result"
    }
   ],
   "source": [
    "trainset.__len__()"
   ]
  },
  {
   "cell_type": "code",
   "execution_count": 278,
   "id": "59578039",
   "metadata": {},
   "outputs": [],
   "source": [
    "img, label = trainset.__getitem__(0)"
   ]
  },
  {
   "cell_type": "markdown",
   "id": "d63d8832",
   "metadata": {},
   "source": [
    "### Setting up autoencoder"
   ]
  },
  {
   "cell_type": "code",
   "execution_count": 279,
   "id": "23af8444",
   "metadata": {},
   "outputs": [],
   "source": [
    "class ResidualBlock(nn.Module):\n",
    "  def __init__(self, in_channels, out_channels, kernel_size, downsample=False, stride=1):\n",
    "    super(ResidualBlock, self).__init__()\n",
    "    self.downsample = downsample\n",
    "    if self.downsample:\n",
    "      padding = 0\n",
    "      self.ds_pool = nn.AvgPool2d(kernel_size=kernel_size, stride=stride, padding=padding)\n",
    "    else:\n",
    "      padding = 1\n",
    "    self.conv = nn.Sequential(\n",
    "      nn.Conv2d(in_channels=in_channels, out_channels=out_channels, kernel_size=kernel_size, stride=stride, padding=padding),\n",
    "      nn.BatchNorm2d(num_features=out_channels),\n",
    "      nn.ReLU(),\n",
    "      nn.Conv2d(in_channels=out_channels, out_channels=out_channels, kernel_size=kernel_size, stride=stride, padding=padding),\n",
    "      nn.BatchNorm2d(num_features=out_channels)\n",
    "    )\n",
    "    self.relu = nn.ReLU()\n",
    "    self.conv1x1 = nn.Conv2d(in_channels=in_channels, out_channels=out_channels, kernel_size=1, stride=1, padding=0)\n",
    "\n",
    "  def forward(self, X):\n",
    "    X_conv = self.conv(X)\n",
    "    X = self.conv1x1(X)\n",
    "    if self.downsample:\n",
    "      X = self.ds_pool(X)\n",
    "      X = self.ds_pool(X)\n",
    "    X = X + X_conv\n",
    "    X = self.relu(X)\n",
    "    return X"
   ]
  },
  {
   "cell_type": "code",
   "execution_count": 280,
   "id": "ab08baab",
   "metadata": {},
   "outputs": [],
   "source": [
    "class UnResidualBlock(nn.Module):\n",
    "  def __init__(self, in_channels, out_channels, kernel_size, in_shape, upsample=False, stride=1):\n",
    "    super(UnResidualBlock, self).__init__()\n",
    "    self.upsample = upsample\n",
    "    if self.upsample:\n",
    "      padding = 0\n",
    "      size_increase1 = (in_shape - 1) * stride + kernel_size\n",
    "      size_increase2 = (size_increase1 - 1) * stride + kernel_size\n",
    "      self.up1 = nn.Upsample(size=size_increase1)\n",
    "      self.up2 = nn.Upsample(size=size_increase2)\n",
    "    else:\n",
    "      padding = 1\n",
    "    self.conv = nn.Sequential(\n",
    "      nn.ConvTranspose2d(in_channels=in_channels, out_channels=out_channels, kernel_size=kernel_size, stride=stride, padding=padding),\n",
    "      nn.BatchNorm2d(num_features=out_channels),\n",
    "      nn.ReLU(),\n",
    "      nn.ConvTranspose2d(in_channels=out_channels, out_channels=out_channels, kernel_size=kernel_size, stride=stride, padding=padding),\n",
    "      nn.BatchNorm2d(num_features=out_channels)\n",
    "    )\n",
    "    self.relu = nn.ReLU()\n",
    "    self.conv1x1 = nn.Conv2d(in_channels=in_channels, out_channels=out_channels, kernel_size=1, stride=1, padding=0)\n",
    "\n",
    "  def forward(self, X):\n",
    "    X_conv = self.conv(X)\n",
    "    X = self.conv1x1(X)\n",
    "    if self.upsample:\n",
    "      X = self.up1(X)\n",
    "      X = self.up2(X)\n",
    "    X = X + X_conv\n",
    "    X = self.relu(X)\n",
    "    return X"
   ]
  },
  {
   "cell_type": "code",
   "execution_count": 281,
   "id": "48ad2257",
   "metadata": {},
   "outputs": [],
   "source": [
    "class ResNet(nn.Module):\n",
    "  def __init__(self, dropout):\n",
    "    super(ResNet, self).__init__()\n",
    "    self.conv_init = nn.Sequential(\n",
    "      nn.Conv2d(in_channels=3, out_channels=4, kernel_size=3, stride=1, padding=0),\n",
    "      nn.BatchNorm2d(num_features=4),\n",
    "      nn.ReLU()\n",
    "    )\n",
    "    self.maxpool = nn.MaxPool2d(kernel_size=2, stride=1, padding=0)\n",
    "    self.resblocks = nn.Sequential(\n",
    "      ResidualBlock(in_channels=4, out_channels=8, kernel_size=4, downsample=True),\n",
    "      ResidualBlock(in_channels=8, out_channels=16, kernel_size=4, downsample=True),\n",
    "      ResidualBlock(in_channels=16, out_channels=32, kernel_size=4, downsample=True),\n",
    "      ResidualBlock(in_channels=32, out_channels=64, kernel_size=4, downsample=True),\n",
    "      ResidualBlock(in_channels=64, out_channels=128, kernel_size=2, downsample=True),\n",
    "      nn.Dropout(dropout),\n",
    "    )\n",
    "    self.final_layer = nn.Sequential(\n",
    "      nn.AvgPool2d(kernel_size=3, padding=0, stride=1),\n",
    "      nn.ReLU(),\n",
    "      nn.Flatten(),\n",
    "      nn.Linear(in_features=128, out_features=64, bias=False),\n",
    "    )\n",
    "  \n",
    "  def forward(self, X):\n",
    "    X = self.conv_init(X)\n",
    "    X = self.maxpool(X)\n",
    "    X = self.resblocks(X)\n",
    "    X = self.final_layer(X)\n",
    "    return X"
   ]
  },
  {
   "cell_type": "code",
   "execution_count": 282,
   "id": "33361c3b",
   "metadata": {},
   "outputs": [],
   "source": [
    "class UnResNet(nn.Module):\n",
    "  def __init__(self, dropout):\n",
    "    super(UnResNet, self).__init__()\n",
    "    self.unproject = nn.Sequential(\n",
    "      nn.Linear(in_features=64, out_features=128),\n",
    "      nn.Unflatten(dim=-1, unflattened_size=[128, 1, 1]),\n",
    "      nn.ReLU(),\n",
    "      nn.Upsample(size=3),\n",
    "    )\n",
    "    self.unresblocks = nn.Sequential(\n",
    "      nn.Dropout(dropout),\n",
    "      UnResidualBlock(in_channels=128, out_channels=64, kernel_size=2, in_shape=3, upsample=True),\n",
    "      UnResidualBlock(in_channels=64, out_channels=32, kernel_size=4, in_shape=5, upsample=True),\n",
    "      UnResidualBlock(in_channels=32, out_channels=16, kernel_size=4, in_shape=11, upsample=True),\n",
    "      UnResidualBlock(in_channels=16, out_channels=8, kernel_size=4, in_shape=17, upsample=True),\n",
    "      UnResidualBlock(in_channels=8, out_channels=4, kernel_size=4, in_shape=23, upsample=True), \n",
    "    )\n",
    "    self.rev_maxpool = nn.Upsample(size=30)\n",
    "    self.rev_conv_init = nn.Sequential(\n",
    "      nn.ReLU(),\n",
    "      nn.BatchNorm2d(num_features=4),\n",
    "      nn.ConvTranspose2d(in_channels=4, out_channels=3, kernel_size=3, stride=1, padding=0),       \n",
    "    )\n",
    "\n",
    "  def forward(self, X):\n",
    "    X = self.unproject(X)\n",
    "    X = self.unresblocks(X)\n",
    "    X = self.rev_maxpool(X)\n",
    "    X = self.rev_conv_init(X)\n",
    "    return X"
   ]
  },
  {
   "cell_type": "code",
   "execution_count": 283,
   "id": "ce3510eb",
   "metadata": {},
   "outputs": [],
   "source": [
    "class ResNetAutoEncoder(nn.Module):\n",
    "  def __init__(self, dropout=0.2):\n",
    "    super(ResNetAutoEncoder, self).__init__()\n",
    "    self.resnet = ResNet(dropout)\n",
    "    self.unresnet = UnResNet(dropout)\n",
    "  \n",
    "  def forward(self, X):\n",
    "    X_emb = self.resnet(X) #embed X\n",
    "    X_repr = self.unresnet(X_emb) #reproduce X\n",
    "    return X_emb, X_repr"
   ]
  },
  {
   "cell_type": "markdown",
   "id": "ce607f90",
   "metadata": {},
   "source": [
    "### Train "
   ]
  },
  {
   "cell_type": "code",
   "execution_count": 284,
   "id": "6d94feb1",
   "metadata": {},
   "outputs": [
    {
     "data": {
      "text/plain": [
       "384475"
      ]
     },
     "execution_count": 284,
     "metadata": {},
     "output_type": "execute_result"
    }
   ],
   "source": [
    "device = torch.device('xpu')\n",
    "rnae = ResNetAutoEncoder()\n",
    "rnae.to(device)\n",
    "sum([p.numel() for p in rnae.parameters()])"
   ]
  },
  {
   "cell_type": "code",
   "execution_count": 285,
   "id": "541439d7",
   "metadata": {},
   "outputs": [
    {
     "data": {
      "text/plain": [
       "(torch.Size([128, 3, 32, 32]),\n",
       " torch.Size([128, 64]),\n",
       " torch.Size([128, 3, 32, 32]))"
      ]
     },
     "execution_count": 285,
     "metadata": {},
     "output_type": "execute_result"
    }
   ],
   "source": [
    "batch, _ = next(iter(trainloader))\n",
    "batch = batch.to(device)\n",
    "batch_emb, batch_repr = rnae(batch)\n",
    "batch.shape, batch_emb.shape, batch_repr.shape"
   ]
  },
  {
   "cell_type": "code",
   "execution_count": 286,
   "id": "97059b1e",
   "metadata": {},
   "outputs": [],
   "source": [
    "criterion = nn.MSELoss()\n",
    "lr = 1e-3\n",
    "weight_decay = 1e-3\n",
    "optimizer = optim.Adam(params=rnae.parameters(), lr=lr, weight_decay=1e-3)"
   ]
  },
  {
   "cell_type": "code",
   "execution_count": 287,
   "id": "53101685",
   "metadata": {},
   "outputs": [
    {
     "name": "stdout",
     "output_type": "stream",
     "text": [
      "epoch 0, batch 0: loss = 1.6959984302520752\n",
      "epoch 0, batch 20: loss = 1.0732766389846802\n",
      "epoch 0, batch 40: loss = 0.9676579833030701\n",
      "epoch 1, batch 0: loss = 0.9171346426010132\n",
      "epoch 1, batch 20: loss = 0.7263725399971008\n",
      "epoch 1, batch 40: loss = 0.6314370632171631\n",
      "epoch 2, batch 0: loss = 0.6195635795593262\n",
      "epoch 2, batch 20: loss = 0.6120261549949646\n",
      "epoch 2, batch 40: loss = 0.5625297427177429\n",
      "epoch 3, batch 0: loss = 0.5495373606681824\n",
      "epoch 3, batch 20: loss = 0.5519148111343384\n",
      "epoch 3, batch 40: loss = 0.5232403874397278\n",
      "epoch 4, batch 0: loss = 0.5179159045219421\n",
      "epoch 4, batch 20: loss = 0.5146403908729553\n",
      "epoch 4, batch 40: loss = 0.49006471037864685\n",
      "epoch 5, batch 0: loss = 0.4950770139694214\n",
      "epoch 5, batch 20: loss = 0.49776214361190796\n",
      "epoch 5, batch 40: loss = 0.47451314330101013\n",
      "epoch 6, batch 0: loss = 0.48277923464775085\n",
      "epoch 6, batch 20: loss = 0.48264503479003906\n",
      "epoch 6, batch 40: loss = 0.464684396982193\n",
      "epoch 7, batch 0: loss = 0.4669356942176819\n",
      "epoch 7, batch 20: loss = 0.47007885575294495\n",
      "epoch 7, batch 40: loss = 0.4589700400829315\n",
      "epoch 8, batch 0: loss = 0.46624594926834106\n",
      "epoch 8, batch 20: loss = 0.45766204595565796\n",
      "epoch 8, batch 40: loss = 0.4411410689353943\n",
      "epoch 9, batch 0: loss = 0.44906771183013916\n",
      "epoch 9, batch 20: loss = 0.4503425657749176\n",
      "epoch 9, batch 40: loss = 0.4340217113494873\n"
     ]
    }
   ],
   "source": [
    "for epoch in range(10):\n",
    "  for idx, (inputs, _) in enumerate(testloader, 0):\n",
    "    inputs = inputs.to(device)\n",
    "    emb, repr = rnae(inputs)\n",
    "    optimizer.zero_grad()\n",
    "    loss = criterion(repr, inputs)\n",
    "    loss.backward()\n",
    "    optimizer.step()\n",
    "\n",
    "    if idx % 20 == 0:\n",
    "      print(f'epoch {epoch}, batch {idx}: loss = {loss.item()}')\n"
   ]
  },
  {
   "cell_type": "code",
   "execution_count": null,
   "id": "49ff4292",
   "metadata": {},
   "outputs": [],
   "source": []
  },
  {
   "cell_type": "markdown",
   "id": "7ed6a900",
   "metadata": {},
   "source": [
    "### Demonstrate embeddings with clustering"
   ]
  },
  {
   "cell_type": "code",
   "execution_count": 349,
   "id": "706d0779",
   "metadata": {},
   "outputs": [],
   "source": [
    "sampler = RandomSampler(trainset)\n",
    "sampling_dataloader = DataLoader(trainset, batch_size=100, sampler=sampler)"
   ]
  },
  {
   "cell_type": "code",
   "execution_count": 329,
   "id": "425afa99",
   "metadata": {},
   "outputs": [],
   "source": [
    "def compare_dot_products(model, sampling_dataloader):\n",
    "  x, y = next(iter(sampling_dataloader))\n",
    "  x, y = x.to(device), y.to(device)\n",
    "  x_emb, _ = model(x)\n",
    "\n",
    "  dot_prod = x_emb.squeeze(1) @ x_emb.squeeze(1).T\n",
    "  dot_prod = dot_prod.cpu()\n",
    "  #dot_prod = dot_prod / torch.max(dot_prod.abs(), dim=1)[0].unsqueeze(1)\n",
    "  y_cpu = y.cpu()\n",
    "  print('class    |  same class  |  diff class  |  ratio (same / diff)')\n",
    "  print('-------------------------------------------------------------')\n",
    "  for label in set(y_cpu.numpy()):\n",
    "    idxs = (y_cpu == label).nonzero().squeeze(1)\n",
    "    not_idxs = (y_cpu != label).nonzero().squeeze(1)\n",
    "    mean_dot_prod_sharedclass = dot_prod[idxs][:, idxs].mean()\n",
    "    mean_dot_prod_diffclass = dot_prod[idxs][:, not_idxs].mean()\n",
    "    ratio = mean_dot_prod_sharedclass / mean_dot_prod_diffclass\n",
    "    print(f'class {label}        {mean_dot_prod_sharedclass:.2f}           {mean_dot_prod_diffclass:.2f}          {ratio:.2f}')"
   ]
  },
  {
   "cell_type": "code",
   "execution_count": 330,
   "id": "0d7f1388",
   "metadata": {},
   "outputs": [
    {
     "name": "stdout",
     "output_type": "stream",
     "text": [
      "class    |  same class  |  diff class  |  ratio (same / diff)\n",
      "-------------------------------------------------------------\n",
      "class 0        1.39           0.50          2.81\n",
      "class 1        1.45           0.76          1.90\n",
      "class 2        0.47           0.51          0.92\n",
      "class 3        0.95           0.63          1.49\n",
      "class 4        0.56           0.41          1.35\n",
      "class 5        1.03           0.56          1.85\n",
      "class 6        0.84           0.56          1.52\n",
      "class 7        0.87           0.59          1.46\n",
      "class 8        1.69           0.62          2.75\n",
      "class 9        2.04           0.67          3.04\n"
     ]
    }
   ],
   "source": [
    "compare_dot_products(rnae, sampling_dataloader)"
   ]
  },
  {
   "cell_type": "code",
   "execution_count": 331,
   "id": "6d20bdab",
   "metadata": {},
   "outputs": [
    {
     "name": "stdout",
     "output_type": "stream",
     "text": [
      "class    |  same class  |  diff class  |  ratio (same / diff)\n",
      "-------------------------------------------------------------\n",
      "class 0        3.43           3.51          0.98\n",
      "class 1        5.31           4.20          1.26\n",
      "class 2        3.18           3.42          0.93\n",
      "class 3        3.25           3.42          0.95\n",
      "class 4        3.36           3.47          0.97\n",
      "class 5        3.62           3.63          1.00\n",
      "class 6        4.34           3.90          1.11\n",
      "class 7        3.82           3.71          1.03\n",
      "class 8        3.00           3.25          0.92\n",
      "class 9        4.90           4.06          1.21\n"
     ]
    }
   ],
   "source": [
    "untrained_rnae = ResNetAutoEncoder().to(device)\n",
    "compare_dot_products(untrained_rnae, sampling_dataloader)"
   ]
  },
  {
   "cell_type": "code",
   "execution_count": 350,
   "id": "92643bc0",
   "metadata": {},
   "outputs": [],
   "source": [
    "from sklearn.decomposition import PCA\n",
    "import matplotlib.pyplot as plt\n",
    "pca = PCA(n_components=2)\n",
    "\n",
    "x, y = next(iter(sampling_dataloader))\n",
    "x, y = x.to(device), y.to(device)\n",
    "x_emb, _ = rnae(x)"
   ]
  },
  {
   "cell_type": "code",
   "execution_count": 351,
   "id": "fdc79c35",
   "metadata": {},
   "outputs": [],
   "source": [
    "x_pca = pca.fit_transform(x_emb.cpu().detach().numpy())"
   ]
  },
  {
   "cell_type": "code",
   "execution_count": 352,
   "id": "357b0521",
   "metadata": {},
   "outputs": [
    {
     "data": {
      "text/plain": [
       "<matplotlib.collections.PathCollection at 0x7072300bd910>"
      ]
     },
     "execution_count": 352,
     "metadata": {},
     "output_type": "execute_result"
    },
    {
     "data": {
      "image/png": "[encoded data removed]",
      "text/plain": [
       "<Figure size 640x480 with 1 Axes>"
      ]
     },
     "metadata": {},
     "output_type": "display_data"
    }
   ],
   "source": [
    "plt.scatter(x=x_pca[:, 0], y=x_pca[:, 1], c=y.cpu())"
   ]
  }
 ],
 "metadata": {
  "kernelspec": {
   "display_name": ".venv",
   "language": "python",
   "name": "python3"
  },
  "language_info": {
   "codemirror_mode": {
    "name": "ipython",
    "version": 3
   },
   "file_extension": ".py",
   "mimetype": "text/x-python",
   "name": "python",
   "nbconvert_exporter": "python",
   "pygments_lexer": "ipython3",
   "version": "3.12.7"
  }
 },
 "nbformat": 4,
 "nbformat_minor": 5
}
