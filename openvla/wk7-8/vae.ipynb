{
 "cells": [
  {
   "cell_type": "code",
   "execution_count": 67,
   "id": "13ecfd3d",
   "metadata": {},
   "outputs": [],
   "source": [
    "import torch\n",
    "import torch.nn as nn\n",
    "import torch.nn.functional as F\n",
    "import os\n",
    "import matplotlib.pyplot as plt\n",
    "import numpy as np\n",
    "import architectures\n",
    "import importlib\n"
   ]
  },
  {
   "cell_type": "markdown",
   "id": "661a23c8",
   "metadata": {},
   "source": [
    "### Image generation with non-variational autoencoder"
   ]
  },
  {
   "cell_type": "code",
   "execution_count": 72,
   "id": "c3d8f0a5",
   "metadata": {},
   "outputs": [
    {
     "name": "stdout",
     "output_type": "stream",
     "text": [
      "rnae_20250802_053836.pt mrnae_20250802_083036.pt\n"
     ]
    },
    {
     "data": {
      "text/plain": [
       "<All keys matched successfully>"
      ]
     },
     "execution_count": 72,
     "metadata": {},
     "output_type": "execute_result"
    }
   ],
   "source": [
    "rnae_filepaths = sorted([f for f in os.listdir() if f[:4] == 'rnae'], reverse=True)\n",
    "rnae_fp = rnae_filepaths[0]\n",
    "mrnae_filepaths = sorted([f for f in os.listdir() if f[:5] == 'mrnae'], reverse=True)\n",
    "mrnae_fp = mrnae_filepaths[0]\n",
    "\n",
    "print(rnae_fp, mrnae_fp)\n",
    "mrnae = architectures.MnistResNetAutoEncoder()\n",
    "mrnae.load_state_dict(torch.load('mrnae_20250802_083036.pt'))"
   ]
  },
  {
   "cell_type": "code",
   "execution_count": 73,
   "id": "45d62354",
   "metadata": {},
   "outputs": [],
   "source": [
    "from torchvision import datasets, transforms\n",
    "\n",
    "mnist_transform = transforms.Compose([\n",
    "    transforms.ToTensor(),  # Convert PIL Image to PyTorch Tensor\n",
    "    transforms.Normalize((0.1307,), (0.3081,)) # Normalize pixel values\n",
    "])\n",
    "mnist_train_dataset = datasets.MNIST(root='./data', train=True, download=True, transform=mnist_transform)\n",
    "mnist_test_dataset = datasets.MNIST(root='./data', train=False, download=True, transform=mnist_transform)\n",
    "mnist_train_loader = torch.utils.data.DataLoader(mnist_train_dataset, batch_size=64, shuffle=True)\n",
    "mnist_test_loader = torch.utils.data.DataLoader(mnist_test_dataset, batch_size=1000, shuffle=False)"
   ]
  },
  {
   "cell_type": "code",
   "execution_count": 74,
   "id": "726df631",
   "metadata": {},
   "outputs": [],
   "source": [
    "embds = []\n",
    "for idx, batch in enumerate(mnist_test_loader):\n",
    "  embd, repr = mrnae(batch[0])\n",
    "  embds.append(embd)\n",
    "\n",
    "embd_all = torch.cat(embds)"
   ]
  },
  {
   "cell_type": "code",
   "execution_count": 75,
   "id": "ba50d829",
   "metadata": {},
   "outputs": [],
   "source": [
    "embd_mu = embd_all.mean(dim=0)\n",
    "embd_sig = embd_all.std(dim=0)"
   ]
  },
  {
   "cell_type": "code",
   "execution_count": 76,
   "id": "7de3c2ba",
   "metadata": {},
   "outputs": [
    {
     "data": {
      "image/png": "[encoded data removed]",
      "text/plain": [
       "<Figure size 640x480 with 8 Axes>"
      ]
     },
     "metadata": {},
     "output_type": "display_data"
    }
   ],
   "source": [
    "samples = [torch.normal(mean=embd_mu, std=embd_sig) for i in range(8)]\n",
    "imgs = [mrnae.decode(s.unsqueeze(0)).squeeze(0).squeeze(0).detach().numpy() for s in samples]\n",
    "\n",
    "fig, axes = plt.subplots(nrows=2, ncols=4)\n",
    "for i, ax in enumerate(axes.flatten()):\n",
    "    ax.imshow(imgs[i], cmap='gray')\n",
    "    ax.set_title(f'img {i + 1}')\n",
    "    ax.axis('off')\n",
    "\n",
    "plt.tight_layout()\n",
    "plt.show()"
   ]
  },
  {
   "cell_type": "markdown",
   "id": "8824f513",
   "metadata": {},
   "source": [
    "### Training a VAE"
   ]
  },
  {
   "cell_type": "code",
   "execution_count": 80,
   "id": "b8c89cda",
   "metadata": {},
   "outputs": [],
   "source": [
    "importlib.reload(architectures)\n",
    "\n",
    "mvae = architectures.MnistResNetVAE()\n",
    "\n",
    "# use pre-trained encoder and decoder, except for final linear projection into embedding space\n",
    "mvae.resnet = nn.Sequential(*list(mrnae.resnet.children())[:-1])\n",
    "mvae.unresnet = nn.Sequential(*list(mrnae.unresnet.children()))\n",
    "\n",
    "# don't update gradients for these\n",
    "for param in mvae.resnet.parameters():\n",
    "  param.requires_grad = False\n",
    "for param in mvae.unresnet.parameters():\n",
    "  param.requires_grad = False"
   ]
  },
  {
   "cell_type": "code",
   "execution_count": 81,
   "id": "37cc9022",
   "metadata": {},
   "outputs": [],
   "source": [
    "for idx, batch in enumerate(mnist_test_loader):\n",
    "  mvae(batch[0])"
   ]
  }
 ],
 "metadata": {
  "kernelspec": {
   "display_name": ".venv (3.12.7)",
   "language": "python",
   "name": "python3"
  },
  "language_info": {
   "codemirror_mode": {
    "name": "ipython",
    "version": 3
   },
   "file_extension": ".py",
   "mimetype": "text/x-python",
   "name": "python",
   "nbconvert_exporter": "python",
   "pygments_lexer": "ipython3",
   "version": "3.12.7"
  }
 },
 "nbformat": 4,
 "nbformat_minor": 5
}
