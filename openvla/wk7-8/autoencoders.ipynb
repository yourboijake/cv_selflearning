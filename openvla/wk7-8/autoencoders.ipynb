{
 "cells": [
  {
   "cell_type": "code",
   "execution_count": 2,
   "id": "a515f29b",
   "metadata": {},
   "outputs": [],
   "source": [
    "import torch\n",
    "import torch.nn as nn\n",
    "import torch.nn.functional as F\n",
    "import torch.optim as optim\n",
    "import torchvision\n",
    "import torchvision.transforms as transforms\n",
    "from torch.utils.data import RandomSampler, Dataset, DataLoader"
   ]
  },
  {
   "cell_type": "code",
   "execution_count": 3,
   "id": "7d1af6ec",
   "metadata": {},
   "outputs": [],
   "source": [
    "#demo using CIFAR10\n",
    "#create dataset with pytorch datset and dataloaders\n",
    "tf = transforms.Compose([\n",
    "  torchvision.transforms.ToTensor(),\n",
    "  transforms.Normalize([0.5]*3, [0.25]*3)\n",
    "])\n",
    "TRAIN_BATCH_SIZE = 128\n",
    "\n",
    "trainset = torchvision.datasets.CIFAR10(\n",
    "    root='./data', \n",
    "    train=True,\n",
    "    download=True, \n",
    "    transform=tf,\n",
    ")\n",
    "trainloader = torch.utils.data.DataLoader(\n",
    "    trainset, \n",
    "    batch_size=TRAIN_BATCH_SIZE,\n",
    "    shuffle=True, \n",
    "    num_workers=2\n",
    ")\n",
    "\n",
    "testset = torchvision.datasets.CIFAR10(\n",
    "    root='./data', \n",
    "    train=False,\n",
    "    download=True, \n",
    "    transform=tf,\n",
    ")\n",
    "testloader = torch.utils.data.DataLoader(\n",
    "    testset, \n",
    "    batch_size=200,\n",
    "    shuffle=False, \n",
    "    num_workers=2\n",
    ")"
   ]
  },
  {
   "cell_type": "code",
   "execution_count": 4,
   "id": "2a7fe9a4",
   "metadata": {},
   "outputs": [
    {
     "data": {
      "text/plain": [
       "50000"
      ]
     },
     "execution_count": 4,
     "metadata": {},
     "output_type": "execute_result"
    }
   ],
   "source": [
    "trainset.__len__()"
   ]
  },
  {
   "cell_type": "code",
   "execution_count": 5,
   "id": "59578039",
   "metadata": {},
   "outputs": [],
   "source": [
    "img, label = trainset.__getitem__(0)"
   ]
  },
  {
   "cell_type": "markdown",
   "id": "d63d8832",
   "metadata": {},
   "source": [
    "### Setting up autoencoder"
   ]
  },
  {
   "cell_type": "code",
   "execution_count": 4,
   "id": "23af8444",
   "metadata": {},
   "outputs": [],
   "source": [
    "class ResidualBlock(nn.Module):\n",
    "  def __init__(self, in_channels, out_channels, kernel_size, downsample=False, stride=1):\n",
    "    super(ResidualBlock, self).__init__()\n",
    "    self.downsample = downsample\n",
    "    if self.downsample:\n",
    "      padding = 0\n",
    "      self.ds_pool = nn.AvgPool2d(kernel_size=kernel_size, stride=stride, padding=padding)\n",
    "    else:\n",
    "      padding = 1\n",
    "    self.conv = nn.Sequential(\n",
    "      nn.Conv2d(in_channels=in_channels, out_channels=out_channels, kernel_size=kernel_size, stride=stride, padding=padding),\n",
    "      nn.BatchNorm2d(num_features=out_channels),\n",
    "      nn.ReLU(),\n",
    "      nn.Conv2d(in_channels=out_channels, out_channels=out_channels, kernel_size=kernel_size, stride=stride, padding=padding),\n",
    "      nn.BatchNorm2d(num_features=out_channels)\n",
    "    )\n",
    "    self.relu = nn.ReLU()\n",
    "    self.conv1x1 = nn.Conv2d(in_channels=in_channels, out_channels=out_channels, kernel_size=1, stride=1, padding=0)\n",
    "\n",
    "  def forward(self, X):\n",
    "    X_conv = self.conv(X)\n",
    "    X = self.conv1x1(X)\n",
    "    if self.downsample:\n",
    "      X = self.ds_pool(X)\n",
    "      X = self.ds_pool(X)\n",
    "    X = X + X_conv\n",
    "    X = self.relu(X)\n",
    "    return X"
   ]
  },
  {
   "cell_type": "code",
   "execution_count": 5,
   "id": "ab08baab",
   "metadata": {},
   "outputs": [],
   "source": [
    "class UnResidualBlock(nn.Module):\n",
    "  def __init__(self, in_channels, out_channels, kernel_size, in_shape, upsample=False, stride=1):\n",
    "    super(UnResidualBlock, self).__init__()\n",
    "    self.upsample = upsample\n",
    "    if self.upsample:\n",
    "      padding = 0\n",
    "      size_increase1 = (in_shape - 1) * stride + kernel_size\n",
    "      size_increase2 = (size_increase1 - 1) * stride + kernel_size\n",
    "      self.up1 = nn.Upsample(size=size_increase1)\n",
    "      self.up2 = nn.Upsample(size=size_increase2)\n",
    "    else:\n",
    "      padding = 1\n",
    "    self.conv = nn.Sequential(\n",
    "      nn.ConvTranspose2d(in_channels=in_channels, out_channels=out_channels, kernel_size=kernel_size, stride=stride, padding=padding),\n",
    "      nn.BatchNorm2d(num_features=out_channels),\n",
    "      nn.ReLU(),\n",
    "      nn.ConvTranspose2d(in_channels=out_channels, out_channels=out_channels, kernel_size=kernel_size, stride=stride, padding=padding),\n",
    "      nn.BatchNorm2d(num_features=out_channels)\n",
    "    )\n",
    "    self.relu = nn.ReLU()\n",
    "    self.conv1x1 = nn.Conv2d(in_channels=in_channels, out_channels=out_channels, kernel_size=1, stride=1, padding=0)\n",
    "\n",
    "  def forward(self, X):\n",
    "    X_conv = self.conv(X)\n",
    "    X = self.conv1x1(X)\n",
    "    if self.upsample:\n",
    "      X = self.up1(X)\n",
    "      X = self.up2(X)\n",
    "    X = X + X_conv\n",
    "    X = self.relu(X)\n",
    "    return X"
   ]
  },
  {
   "cell_type": "code",
   "execution_count": 6,
   "id": "48ad2257",
   "metadata": {},
   "outputs": [],
   "source": [
    "class ResNet(nn.Module):\n",
    "  def __init__(self, dropout):\n",
    "    super(ResNet, self).__init__()\n",
    "    self.conv_init = nn.Sequential(\n",
    "      nn.Conv2d(in_channels=3, out_channels=4, kernel_size=3, stride=1, padding=0),\n",
    "      nn.BatchNorm2d(num_features=4),\n",
    "      nn.ReLU()\n",
    "    )\n",
    "    self.maxpool = nn.MaxPool2d(kernel_size=2, stride=1, padding=0)\n",
    "    self.resblocks = nn.Sequential(\n",
    "      ResidualBlock(in_channels=4, out_channels=8, kernel_size=4, downsample=True),\n",
    "      ResidualBlock(in_channels=8, out_channels=16, kernel_size=4, downsample=True),\n",
    "      ResidualBlock(in_channels=16, out_channels=32, kernel_size=4, downsample=True),\n",
    "      ResidualBlock(in_channels=32, out_channels=64, kernel_size=4, downsample=True),\n",
    "      ResidualBlock(in_channels=64, out_channels=128, kernel_size=2, downsample=True),\n",
    "      nn.Dropout(dropout),\n",
    "    )\n",
    "    self.final_layer = nn.Sequential(\n",
    "      nn.AvgPool2d(kernel_size=3, padding=0, stride=1),\n",
    "      nn.ReLU(),\n",
    "      nn.Flatten(),\n",
    "      nn.Linear(in_features=128, out_features=64, bias=False),\n",
    "    )\n",
    "  \n",
    "  def forward(self, X):\n",
    "    X = self.conv_init(X)\n",
    "    X = self.maxpool(X)\n",
    "    X = self.resblocks(X)\n",
    "    X = self.final_layer(X)\n",
    "    return X"
   ]
  },
  {
   "cell_type": "code",
   "execution_count": 7,
   "id": "33361c3b",
   "metadata": {},
   "outputs": [],
   "source": [
    "class UnResNet(nn.Module):\n",
    "  def __init__(self, dropout):\n",
    "    super(UnResNet, self).__init__()\n",
    "    self.unproject = nn.Sequential(\n",
    "      nn.Linear(in_features=64, out_features=128),\n",
    "      nn.Unflatten(dim=-1, unflattened_size=[128, 1, 1]),\n",
    "      nn.ReLU(),\n",
    "      nn.Upsample(size=3),\n",
    "    )\n",
    "    self.unresblocks = nn.Sequential(\n",
    "      nn.Dropout(dropout),\n",
    "      UnResidualBlock(in_channels=128, out_channels=64, kernel_size=2, in_shape=3, upsample=True),\n",
    "      UnResidualBlock(in_channels=64, out_channels=32, kernel_size=4, in_shape=5, upsample=True),\n",
    "      UnResidualBlock(in_channels=32, out_channels=16, kernel_size=4, in_shape=11, upsample=True),\n",
    "      UnResidualBlock(in_channels=16, out_channels=8, kernel_size=4, in_shape=17, upsample=True),\n",
    "      UnResidualBlock(in_channels=8, out_channels=4, kernel_size=4, in_shape=23, upsample=True), \n",
    "    )\n",
    "    self.rev_maxpool = nn.Upsample(size=30)\n",
    "    self.rev_conv_init = nn.Sequential(\n",
    "      nn.ReLU(),\n",
    "      nn.BatchNorm2d(num_features=4),\n",
    "      nn.ConvTranspose2d(in_channels=4, out_channels=3, kernel_size=3, stride=1, padding=0),       \n",
    "    )\n",
    "\n",
    "  def forward(self, X):\n",
    "    X = self.unproject(X)\n",
    "    X = self.unresblocks(X)\n",
    "    X = self.rev_maxpool(X)\n",
    "    X = self.rev_conv_init(X)\n",
    "    return X"
   ]
  },
  {
   "cell_type": "code",
   "execution_count": 8,
   "id": "ce3510eb",
   "metadata": {},
   "outputs": [],
   "source": [
    "class ResNetAutoEncoder(nn.Module):\n",
    "  def __init__(self, dropout=0.2):\n",
    "    super(ResNetAutoEncoder, self).__init__()\n",
    "    self.resnet = ResNet(dropout)\n",
    "    self.unresnet = UnResNet(dropout)\n",
    "  \n",
    "  def forward(self, X):\n",
    "    X_emb = self.resnet(X) #embed X\n",
    "    X_repr = self.unresnet(X_emb) #reproduce X\n",
    "    return X_emb, X_repr"
   ]
  },
  {
   "cell_type": "markdown",
   "id": "ce607f90",
   "metadata": {},
   "source": [
    "### Train "
   ]
  },
  {
   "cell_type": "code",
   "execution_count": 9,
   "id": "6d94feb1",
   "metadata": {},
   "outputs": [
    {
     "data": {
      "text/plain": [
       "384475"
      ]
     },
     "execution_count": 9,
     "metadata": {},
     "output_type": "execute_result"
    }
   ],
   "source": [
    "device = torch.device('xpu')\n",
    "rnae = ResNetAutoEncoder()\n",
    "rnae.to(device)\n",
    "sum([p.numel() for p in rnae.parameters()])"
   ]
  },
  {
   "cell_type": "code",
   "execution_count": 12,
   "id": "541439d7",
   "metadata": {},
   "outputs": [
    {
     "data": {
      "text/plain": [
       "(torch.Size([128, 3, 32, 32]),\n",
       " torch.Size([128, 64]),\n",
       " torch.Size([128, 3, 32, 32]))"
      ]
     },
     "execution_count": 12,
     "metadata": {},
     "output_type": "execute_result"
    }
   ],
   "source": [
    "batch, _ = next(iter(trainloader))\n",
    "batch = batch.to(device)\n",
    "batch_emb, batch_repr = rnae(batch)\n",
    "batch.shape, batch_emb.shape, batch_repr.shape"
   ]
  },
  {
   "cell_type": "code",
   "execution_count": 13,
   "id": "97059b1e",
   "metadata": {},
   "outputs": [],
   "source": [
    "criterion = nn.MSELoss()\n",
    "lr = 1e-3\n",
    "weight_decay = 1e-3\n",
    "optimizer = optim.Adam(params=rnae.parameters(), lr=lr, weight_decay=1e-3)"
   ]
  },
  {
   "cell_type": "code",
   "execution_count": 14,
   "id": "53101685",
   "metadata": {},
   "outputs": [
    {
     "name": "stdout",
     "output_type": "stream",
     "text": [
      "epoch 0, batch 0: loss = 1.4745200872421265\n",
      "epoch 0, batch 40: loss = 0.8160939812660217\n",
      "epoch 1, batch 0: loss = 0.7357564568519592\n",
      "epoch 1, batch 40: loss = 0.6051818132400513\n",
      "epoch 2, batch 0: loss = 0.5927568674087524\n",
      "epoch 2, batch 40: loss = 0.5631039142608643\n",
      "epoch 3, batch 0: loss = 0.5576099753379822\n",
      "epoch 3, batch 40: loss = 0.5192616581916809\n",
      "epoch 4, batch 0: loss = 0.5217704772949219\n",
      "epoch 4, batch 40: loss = 0.4928357005119324\n",
      "epoch 5, batch 0: loss = 0.49778005480766296\n",
      "epoch 5, batch 40: loss = 0.4751507639884949\n",
      "epoch 6, batch 0: loss = 0.4847204089164734\n",
      "epoch 6, batch 40: loss = 0.4664023518562317\n",
      "epoch 7, batch 0: loss = 0.46835973858833313\n",
      "epoch 7, batch 40: loss = 0.44965440034866333\n",
      "epoch 8, batch 0: loss = 0.45284759998321533\n",
      "epoch 8, batch 40: loss = 0.4340299665927887\n",
      "epoch 9, batch 0: loss = 0.43920350074768066\n",
      "epoch 9, batch 40: loss = 0.43229803442955017\n"
     ]
    }
   ],
   "source": [
    "for epoch in range(10):\n",
    "  for idx, (inputs, _) in enumerate(testloader, 0):\n",
    "    inputs = inputs.to(device)\n",
    "    emb, repr = rnae(inputs)\n",
    "    optimizer.zero_grad()\n",
    "    loss = criterion(repr, inputs)\n",
    "    loss.backward()\n",
    "    optimizer.step()\n",
    "\n",
    "    if idx % 40 == 0:\n",
    "      print(f'epoch {epoch}, batch {idx}: loss = {loss.item()}')\n",
    "\n",
    "import datetime\n",
    "ts = datetime.datetime.now().strftime('%Y%m%d_%H%M%S')\n",
    "torch.save(rnae, f'rnae_{ts}.pt')\n"
   ]
  },
  {
   "cell_type": "markdown",
   "id": "7ed6a900",
   "metadata": {},
   "source": [
    "### Demonstrate embeddings with clustering"
   ]
  },
  {
   "cell_type": "code",
   "execution_count": 15,
   "id": "706d0779",
   "metadata": {},
   "outputs": [],
   "source": [
    "sampler = RandomSampler(trainset)\n",
    "sampling_dataloader = DataLoader(trainset, batch_size=100, sampler=sampler)"
   ]
  },
  {
   "cell_type": "code",
   "execution_count": 16,
   "id": "425afa99",
   "metadata": {},
   "outputs": [],
   "source": [
    "def compare_cos_similarity(model, sampling_dataloader, device):\n",
    "  x, y = next(iter(sampling_dataloader))\n",
    "  x, y = x.to(device), y.to(device)\n",
    "  x_emb, _ = model(x)\n",
    "\n",
    "  x_emb_norm = F.normalize(x_emb.squeeze(1), p=2.0, dim=1)\n",
    "  cos_sim = x_emb_norm @ x_emb_norm.T\n",
    "  cos_sim = (cos_sim.cpu() + 1) / 2 #add one and divide by 2 so that values range from 0 to 1, not -1 to 1 \n",
    "\n",
    "  y_cpu = y.cpu()\n",
    "  print('class    |  same class  |  diff class  |  ratio (same / diff)')\n",
    "  print('-------------------------------------------------------------')\n",
    "  for label in set(y_cpu.numpy()):\n",
    "    idxs = (y_cpu == label).nonzero().squeeze(1)\n",
    "    not_idxs = (y_cpu != label).nonzero().squeeze(1)\n",
    "    mean_dot_prod_sharedclass = cos_sim[idxs][:, idxs].mean()\n",
    "    mean_dot_prod_diffclass = cos_sim[idxs][:, not_idxs].mean()\n",
    "    ratio = mean_dot_prod_sharedclass / mean_dot_prod_diffclass\n",
    "    print(f'class {label}        {mean_dot_prod_sharedclass:.2f}           {mean_dot_prod_diffclass:.2f}          {ratio:.2f}')"
   ]
  },
  {
   "cell_type": "code",
   "execution_count": 17,
   "id": "0d7f1388",
   "metadata": {},
   "outputs": [
    {
     "name": "stdout",
     "output_type": "stream",
     "text": [
      "class    |  same class  |  diff class  |  ratio (same / diff)\n",
      "-------------------------------------------------------------\n",
      "class 0        0.58           0.53          1.10\n",
      "class 1        0.59           0.54          1.09\n",
      "class 2        0.55           0.53          1.02\n",
      "class 3        0.58           0.53          1.08\n",
      "class 4        0.56           0.53          1.06\n",
      "class 5        0.57           0.53          1.07\n",
      "class 6        0.66           0.53          1.23\n",
      "class 7        0.56           0.53          1.05\n",
      "class 8        0.63           0.51          1.23\n",
      "class 9        0.63           0.53          1.18\n"
     ]
    }
   ],
   "source": [
    "compare_cos_similarity(rnae, testloader, device)"
   ]
  },
  {
   "cell_type": "code",
   "execution_count": 18,
   "id": "6d20bdab",
   "metadata": {},
   "outputs": [
    {
     "name": "stdout",
     "output_type": "stream",
     "text": [
      "class    |  same class  |  diff class  |  ratio (same / diff)\n",
      "-------------------------------------------------------------\n",
      "class 0        0.78           0.78          1.00\n",
      "class 1        0.81           0.78          1.04\n",
      "class 2        0.82           0.80          1.03\n",
      "class 3        0.82           0.79          1.03\n",
      "class 4        0.84           0.80          1.05\n",
      "class 5        0.81           0.79          1.02\n",
      "class 6        0.81           0.79          1.02\n",
      "class 7        0.81           0.79          1.02\n",
      "class 8        0.79           0.78          1.01\n",
      "class 9        0.80           0.78          1.03\n"
     ]
    }
   ],
   "source": [
    "untrained_rnae = ResNetAutoEncoder().to(device)\n",
    "compare_cos_similarity(untrained_rnae, testloader, device)"
   ]
  },
  {
   "cell_type": "code",
   "execution_count": 19,
   "id": "92643bc0",
   "metadata": {},
   "outputs": [],
   "source": [
    "from sklearn.decomposition import PCA\n",
    "import matplotlib.pyplot as plt\n",
    "pca = PCA(n_components=2)\n",
    "\n",
    "x, y = next(iter(sampling_dataloader))\n",
    "x, y = x.to(device), y.to(device)\n",
    "x_emb, _ = rnae(x)"
   ]
  },
  {
   "cell_type": "code",
   "execution_count": 20,
   "id": "fdc79c35",
   "metadata": {},
   "outputs": [],
   "source": [
    "x_pca = pca.fit_transform(x_emb.cpu().detach().numpy())"
   ]
  },
  {
   "cell_type": "code",
   "execution_count": 21,
   "id": "357b0521",
   "metadata": {},
   "outputs": [
    {
     "data": {
      "text/plain": [
       "<matplotlib.collections.PathCollection at 0x7771b78bf440>"
      ]
     },
     "execution_count": 21,
     "metadata": {},
     "output_type": "execute_result"
    },
    {
     "data": {
      "image/png": "[encoded data removed]",
      "text/plain": [
       "<Figure size 640x480 with 1 Axes>"
      ]
     },
     "metadata": {},
     "output_type": "display_data"
    }
   ],
   "source": [
    "plt.scatter(x=x_pca[:, 0], y=x_pca[:, 1], c=y.cpu())"
   ]
  },
  {
   "cell_type": "markdown",
   "id": "24e6eccb",
   "metadata": {},
   "source": [
    "### Same Approach, but on MNIST"
   ]
  },
  {
   "cell_type": "code",
   "execution_count": 10,
   "id": "0c419811",
   "metadata": {},
   "outputs": [],
   "source": [
    "from torchvision import datasets, transforms\n",
    "\n",
    "mnist_transform = transforms.Compose([\n",
    "    transforms.ToTensor(),  # Convert PIL Image to PyTorch Tensor\n",
    "    transforms.Normalize((0.1307,), (0.3081,)) # Normalize pixel values\n",
    "])\n",
    "mnist_train_dataset = datasets.MNIST(root='./data', train=True, download=True, transform=mnist_transform)\n",
    "mnist_test_dataset = datasets.MNIST(root='./data', train=False, download=True, transform=mnist_transform)\n",
    "mnist_train_loader = torch.utils.data.DataLoader(mnist_train_dataset, batch_size=64, shuffle=True)\n",
    "mnist_test_loader = torch.utils.data.DataLoader(mnist_test_dataset, batch_size=1000, shuffle=False)"
   ]
  },
  {
   "cell_type": "code",
   "execution_count": 11,
   "id": "b3b58294",
   "metadata": {},
   "outputs": [],
   "source": [
    "class MnistResNet(nn.Module):\n",
    "  def __init__(self):\n",
    "    super(MnistResNet, self).__init__()\n",
    "    self.conv_init = nn.Sequential(\n",
    "      nn.Conv2d(in_channels=1, out_channels=2, kernel_size=3, stride=1, padding=0),\n",
    "      nn.BatchNorm2d(num_features=2),\n",
    "      nn.ReLU()\n",
    "    )\n",
    "    self.maxpool = nn.MaxPool2d(kernel_size=2, stride=1, padding=0)\n",
    "    self.resblocks = nn.Sequential(\n",
    "      ResidualBlock(in_channels=2, out_channels=4, kernel_size=3, downsample=True),\n",
    "      ResidualBlock(in_channels=4, out_channels=8, kernel_size=3, downsample=True),\n",
    "      ResidualBlock(in_channels=8, out_channels=16, kernel_size=3, downsample=True),\n",
    "      ResidualBlock(in_channels=16, out_channels=32, kernel_size=3, downsample=True),\n",
    "      ResidualBlock(in_channels=32, out_channels=64, kernel_size=3, downsample=True),\n",
    "      ResidualBlock(in_channels=64, out_channels=128, kernel_size=3, downsample=True),\n",
    "    )\n",
    "    self.final_layer = nn.Sequential(\n",
    "      nn.Flatten(),\n",
    "      nn.Linear(in_features=128, out_features=32, bias=False),\n",
    "    )\n",
    "  \n",
    "  def forward(self, X):\n",
    "    X = self.conv_init(X)\n",
    "    X = self.maxpool(X)\n",
    "    X = self.resblocks(X)\n",
    "    X = self.final_layer(X)\n",
    "    return X"
   ]
  },
  {
   "cell_type": "code",
   "execution_count": 12,
   "id": "5f1217eb",
   "metadata": {},
   "outputs": [],
   "source": [
    "class MnistUnResNet(nn.Module):\n",
    "  def __init__(self):\n",
    "    super(MnistUnResNet, self).__init__()\n",
    "    self.unproject = nn.Sequential(\n",
    "      nn.Linear(in_features=32, out_features=128),\n",
    "      nn.Unflatten(dim=-1, unflattened_size=[128, 1, 1]),\n",
    "    )\n",
    "    self.unresblocks = nn.Sequential(\n",
    "      UnResidualBlock(in_channels=128, out_channels=64, kernel_size=3, in_shape=1, upsample=True),\n",
    "      UnResidualBlock(in_channels=64, out_channels=32, kernel_size=3, in_shape=5, upsample=True),\n",
    "      UnResidualBlock(in_channels=32, out_channels=16, kernel_size=3, in_shape=9, upsample=True),\n",
    "      UnResidualBlock(in_channels=16, out_channels=8, kernel_size=3, in_shape=13, upsample=True),\n",
    "      UnResidualBlock(in_channels=8, out_channels=4, kernel_size=3, in_shape=17, upsample=True),\n",
    "      UnResidualBlock(in_channels=4, out_channels=2, kernel_size=3, in_shape=21, upsample=True),\n",
    "    )\n",
    "    self.rev_maxpool = nn.Upsample(size=26)\n",
    "    self.rev_conv_init = nn.Sequential(\n",
    "      nn.ReLU(),\n",
    "      nn.BatchNorm2d(num_features=2),\n",
    "      nn.ConvTranspose2d(in_channels=2, out_channels=1, kernel_size=3, stride=1, padding=0),       \n",
    "    )\n",
    "\n",
    "  def forward(self, X):\n",
    "    X = self.unproject(X)\n",
    "    X = self.unresblocks(X)\n",
    "    X = self.rev_maxpool(X)\n",
    "    X = self.rev_conv_init(X)\n",
    "    return X"
   ]
  },
  {
   "cell_type": "code",
   "execution_count": 13,
   "id": "9a3cf49f",
   "metadata": {},
   "outputs": [
    {
     "data": {
      "text/plain": [
       "475113"
      ]
     },
     "execution_count": 13,
     "metadata": {},
     "output_type": "execute_result"
    }
   ],
   "source": [
    "class MnistResNetAutoEncoder(nn.Module):\n",
    "  def __init__(self):\n",
    "    super(MnistResNetAutoEncoder, self).__init__()\n",
    "    self.resnet = MnistResNet()\n",
    "    self.unresnet = MnistUnResNet()\n",
    "  \n",
    "  def encode(self, X):\n",
    "    return self.resnet(X)\n",
    "  \n",
    "  def decode(self, X_emb):\n",
    "    return self.unresnet(X_emb)\n",
    "\n",
    "  def forward(self, X):\n",
    "    X_emb = self.encode(X) #embed X\n",
    "    X_repr = self.decode(X_emb) #reproduce X\n",
    "    return X_emb, X_repr\n",
    "  \n",
    "mrnae = MnistResNetAutoEncoder()\n",
    "mrnae.to(device)\n",
    "sum([p.numel() for p in mrnae.parameters()])"
   ]
  },
  {
   "cell_type": "code",
   "execution_count": null,
   "id": "1f43de76",
   "metadata": {},
   "outputs": [
    {
     "name": "stdout",
     "output_type": "stream",
     "text": [
      "epoch 0, batch 0: loss = 1.4107391834259033\n",
      "epoch 0, batch 200: loss = 0.49873149394989014\n",
      "epoch 0, batch 400: loss = 0.33471766114234924\n",
      "epoch 0, batch 600: loss = 0.30002909898757935\n",
      "epoch 0, batch 800: loss = 0.2648252248764038\n",
      "epoch 1, batch 0: loss = 0.23743689060211182\n",
      "epoch 1, batch 200: loss = 0.23388776183128357\n",
      "epoch 1, batch 400: loss = 0.21133068203926086\n",
      "epoch 1, batch 600: loss = 0.20288397371768951\n",
      "epoch 1, batch 800: loss = 0.19807690382003784\n",
      "epoch 2, batch 0: loss = 0.19558867812156677\n",
      "epoch 2, batch 200: loss = 0.20761260390281677\n",
      "epoch 2, batch 400: loss = 0.2026994675397873\n",
      "epoch 2, batch 600: loss = 0.1684744656085968\n",
      "epoch 2, batch 800: loss = 0.1655965894460678\n",
      "epoch 3, batch 0: loss = 0.1800897717475891\n",
      "epoch 3, batch 200: loss = 0.1732417345046997\n",
      "epoch 3, batch 400: loss = 0.16479270160198212\n",
      "epoch 3, batch 600: loss = 0.17396171391010284\n",
      "epoch 3, batch 800: loss = 0.1656690239906311\n",
      "epoch 4, batch 0: loss = 0.1718316376209259\n",
      "epoch 4, batch 200: loss = 0.19237203896045685\n",
      "epoch 4, batch 400: loss = 0.14774976670742035\n",
      "epoch 4, batch 600: loss = 0.1699742078781128\n",
      "epoch 4, batch 800: loss = 0.14961254596710205\n"
     ]
    },
    {
     "ename": "NameError",
     "evalue": "name 'datetime' is not defined",
     "output_type": "error",
     "traceback": [
      "\u001b[31m---------------------------------------------------------------------------\u001b[39m",
      "\u001b[31mNameError\u001b[39m                                 Traceback (most recent call last)",
      "\u001b[36mCell\u001b[39m\u001b[36m \u001b[39m\u001b[32mIn[14]\u001b[39m\u001b[32m, line 20\u001b[39m\n\u001b[32m     17\u001b[39m     \u001b[38;5;28;01mif\u001b[39;00m idx % \u001b[32m200\u001b[39m == \u001b[32m0\u001b[39m:\n\u001b[32m     18\u001b[39m       \u001b[38;5;28mprint\u001b[39m(\u001b[33mf\u001b[39m\u001b[33m'\u001b[39m\u001b[33mepoch \u001b[39m\u001b[38;5;132;01m{\u001b[39;00mepoch\u001b[38;5;132;01m}\u001b[39;00m\u001b[33m, batch \u001b[39m\u001b[38;5;132;01m{\u001b[39;00midx\u001b[38;5;132;01m}\u001b[39;00m\u001b[33m: loss = \u001b[39m\u001b[38;5;132;01m{\u001b[39;00mloss.item()\u001b[38;5;132;01m}\u001b[39;00m\u001b[33m'\u001b[39m)\n\u001b[32m---> \u001b[39m\u001b[32m20\u001b[39m ts = \u001b[43mdatetime\u001b[49m.datetime.now().strftime(\u001b[33m'\u001b[39m\u001b[33m%\u001b[39m\u001b[33mY\u001b[39m\u001b[33m%\u001b[39m\u001b[33mm\u001b[39m\u001b[38;5;132;01m%d\u001b[39;00m\u001b[33m_\u001b[39m\u001b[33m%\u001b[39m\u001b[33mH\u001b[39m\u001b[33m%\u001b[39m\u001b[33mM\u001b[39m\u001b[33m%\u001b[39m\u001b[33mS\u001b[39m\u001b[33m'\u001b[39m)\n\u001b[32m     21\u001b[39m torch.save(mrnae, \u001b[33mf\u001b[39m\u001b[33m'\u001b[39m\u001b[33mmrnae_\u001b[39m\u001b[38;5;132;01m{\u001b[39;00mts\u001b[38;5;132;01m}\u001b[39;00m\u001b[33m.pt\u001b[39m\u001b[33m'\u001b[39m)\n",
      "\u001b[31mNameError\u001b[39m: name 'datetime' is not defined"
     ]
    }
   ],
   "source": [
    "#train\n",
    "criterion = nn.MSELoss()\n",
    "lr = 1e-3\n",
    "weight_decay = 1e-3\n",
    "optimizer = optim.Adam(params=mrnae.parameters(), lr=lr, weight_decay=1e-3)\n",
    "\n",
    "\n",
    "for epoch in range(5):\n",
    "  for idx, (inputs, _) in enumerate(mnist_train_loader, 0):\n",
    "    inputs = inputs.to(device)\n",
    "    emb, repr = mrnae(inputs)\n",
    "    optimizer.zero_grad()\n",
    "    loss = criterion(repr, inputs)\n",
    "    loss.backward()\n",
    "    optimizer.step()\n",
    "\n",
    "    if idx % 200 == 0:\n",
    "      print(f'epoch {epoch}, batch {idx}: loss = {loss.item()}')\n",
    "\n",
    "import datetime\n",
    "ts = datetime.datetime.now().strftime('%Y%m%d_%H%M%S')\n",
    "torch.save(mrnae.state_dict(), f'mrnae_{ts}.pt')"
   ]
  },
  {
   "cell_type": "code",
   "execution_count": 16,
   "id": "12342f78",
   "metadata": {},
   "outputs": [],
   "source": [
    "import datetime\n",
    "ts = datetime.datetime.now().strftime('%Y%m%d_%H%M%S')\n",
    "torch.save(mrnae.state_dict(), f'mrnae_{ts}.pt')"
   ]
  },
  {
   "cell_type": "code",
   "execution_count": 27,
   "id": "24928f77",
   "metadata": {},
   "outputs": [
    {
     "name": "stdout",
     "output_type": "stream",
     "text": [
      "class    |  same class  |  diff class  |  ratio (same / diff)\n",
      "-------------------------------------------------------------\n",
      "class 0        0.71           0.56          1.27\n",
      "class 1        0.75           0.54          1.38\n",
      "class 2        0.67           0.55          1.21\n",
      "class 3        0.66           0.55          1.20\n",
      "class 4        0.69           0.57          1.21\n",
      "class 5        0.64           0.56          1.15\n",
      "class 6        0.68           0.56          1.22\n",
      "class 7        0.70           0.57          1.22\n",
      "class 8        0.64           0.55          1.16\n",
      "class 9        0.70           0.57          1.23\n"
     ]
    }
   ],
   "source": [
    "compare_cos_similarity(mrnae, mnist_test_loader, device)"
   ]
  },
  {
   "cell_type": "code",
   "execution_count": 28,
   "id": "30fbf04e",
   "metadata": {},
   "outputs": [
    {
     "name": "stdout",
     "output_type": "stream",
     "text": [
      "class    |  same class  |  diff class  |  ratio (same / diff)\n",
      "-------------------------------------------------------------\n",
      "class 0        0.66           0.65          1.03\n",
      "class 1        0.66           0.64          1.02\n",
      "class 2        0.66           0.65          1.02\n",
      "class 3        0.65           0.64          1.01\n",
      "class 4        0.65           0.64          1.01\n",
      "class 5        0.65           0.64          1.01\n",
      "class 6        0.65           0.65          1.01\n",
      "class 7        0.66           0.65          1.02\n",
      "class 8        0.64           0.64          1.00\n",
      "class 9        0.65           0.65          1.01\n"
     ]
    }
   ],
   "source": [
    "untrained_mrnae = MnistResNetAutoEncoder()\n",
    "untrained_mrnae.to(device)\n",
    "\n",
    "compare_cos_similarity(untrained_mrnae, mnist_test_loader, device)"
   ]
  },
  {
   "cell_type": "code",
   "execution_count": null,
   "id": "c224d416",
   "metadata": {},
   "outputs": [],
   "source": []
  },
  {
   "cell_type": "markdown",
   "id": "a2d80655",
   "metadata": {},
   "source": [
    "### Demonstraiton on several examples"
   ]
  },
  {
   "cell_type": "code",
   "execution_count": 29,
   "id": "3d753b9a",
   "metadata": {},
   "outputs": [],
   "source": [
    "x, y = next(iter(mnist_train_loader))\n",
    "img_emb, img_repr = mrnae(x.to(device))"
   ]
  },
  {
   "cell_type": "code",
   "execution_count": 30,
   "id": "8cf19089",
   "metadata": {},
   "outputs": [
    {
     "name": "stdout",
     "output_type": "stream",
     "text": [
      "tensor(8)\n"
     ]
    },
    {
     "data": {
      "image/png": "[encoded data removed]",
      "text/plain": [
       "<Figure size 640x480 with 1 Axes>"
      ]
     },
     "metadata": {},
     "output_type": "display_data"
    }
   ],
   "source": [
    "idx = 10\n",
    "\n",
    "print(y[idx])\n",
    "plt.imshow(x[idx].squeeze(0), cmap='gray')\n",
    "plt.axis('off')\n",
    "plt.savefig('9_ae_compare_in.png', bbox_inches='tight', pad_inches=0)\n",
    "plt.show()"
   ]
  },
  {
   "cell_type": "code",
   "execution_count": 31,
   "id": "c0962eb0",
   "metadata": {},
   "outputs": [
    {
     "data": {
      "image/png": "[encoded data removed]",
      "text/plain": [
       "<Figure size 640x480 with 1 Axes>"
      ]
     },
     "metadata": {},
     "output_type": "display_data"
    }
   ],
   "source": [
    "plt_img = img_repr[idx].squeeze(0).cpu().detach().numpy()\n",
    "plt.imshow(plt_img, cmap='gray')\n",
    "plt.axis('off')\n",
    "plt.savefig('9_ae_compare_out.png', bbox_inches='tight', pad_inches=0)\n",
    "plt.show()"
   ]
  }
 ],
 "metadata": {
  "kernelspec": {
   "display_name": ".venv (3.12.7)",
   "language": "python",
   "name": "python3"
  },
  "language_info": {
   "codemirror_mode": {
    "name": "ipython",
    "version": 3
   },
   "file_extension": ".py",
   "mimetype": "text/x-python",
   "name": "python",
   "nbconvert_exporter": "python",
   "pygments_lexer": "ipython3",
   "version": "3.12.7"
  }
 },
 "nbformat": 4,
 "nbformat_minor": 5
}
