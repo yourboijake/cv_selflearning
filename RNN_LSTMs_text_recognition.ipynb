{
 "cells": [
  {
   "cell_type": "code",
   "execution_count": 1,
   "id": "394bc95c-a3db-4b41-975f-03c48c19fc3e",
   "metadata": {},
   "outputs": [],
   "source": [
    "import torch\n",
    "import torch.nn.functional as F\n",
    "import torch.optim as optim\n",
    "import numpy as np\n",
    "import matplotlib.pyplot as plt\n",
    "import pandas as pd\n",
    "from PIL import Image\n",
    "import io"
   ]
  },
  {
   "cell_type": "markdown",
   "id": "5e52802a-8f26-4bfa-9a13-b32971c9d997",
   "metadata": {},
   "source": [
    "### Prep dataset"
   ]
  },
  {
   "cell_type": "code",
   "execution_count": 2,
   "id": "fa66c9a7-25aa-4456-8955-da18124766f6",
   "metadata": {},
   "outputs": [
    {
     "name": "stderr",
     "output_type": "stream",
     "text": [
      "/home/jacob/Desktop/programming/learning/ml/venv/lib/python3.12/site-packages/tqdm/auto.py:21: TqdmWarning: IProgress not found. Please update jupyter and ipywidgets. See https://ipywidgets.readthedocs.io/en/stable/user_install.html\n",
      "  from .autonotebook import tqdm as notebook_tqdm\n"
     ]
    },
    {
     "data": {
      "text/plain": [
       "((6482, 2), (976, 2), (2915, 2))"
      ]
     },
     "execution_count": 2,
     "metadata": {},
     "output_type": "execute_result"
    }
   ],
   "source": [
    "#get handwritten text dataset from hugging face\n",
    "splits = {'train': 'data/train.parquet', 'validation': 'data/validation.parquet', 'test': 'data/test.parquet'}\n",
    "df_train = pd.read_parquet(\"hf://datasets/Teklia/IAM-line/\" + splits[\"train\"])\n",
    "df_val = pd.read_parquet(\"hf://datasets/Teklia/IAM-line/\" + splits[\"validation\"])\n",
    "df_test = pd.read_parquet(\"hf://datasets/Teklia/IAM-line/\" + splits[\"test\"])\n",
    "\n",
    "df_train.shape, df_val.shape, df_test.shape"
   ]
  },
  {
   "cell_type": "code",
   "execution_count": 3,
   "id": "6ee8d5b2-487f-4d1a-8b3d-6dd8ea89f50f",
   "metadata": {},
   "outputs": [
    {
     "name": "stdout",
     "output_type": "stream",
     "text": [
      "# of unique characters:  79\n"
     ]
    }
   ],
   "source": [
    "charset = sorted(list(set(''.join(df_train['text'].tolist() + df_val['text'].tolist() + df_test['text'].tolist()))))\n",
    "\n",
    "print('# of unique characters: ', len(charset))\n",
    "\n",
    "idx_to_char = dict(list(enumerate(charset, start=1))) #start at 1 to allow pytorch's CTC loss to insert breaks\n",
    "char_to_idx = dict([(idx_to_char[k], k) for k in idx_to_char.keys()])\n",
    "\n",
    "def encode(text) -> np.array:\n",
    "    #insert break characters\n",
    "    return np.array([char_to_idx[ch] for ch in text])\n",
    "\n",
    "def decode(arr) -> str:\n",
    "    return ''.join([idx_to_char[ch] for ch in arr])"
   ]
  },
  {
   "cell_type": "code",
   "execution_count": 4,
   "id": "bc1b75a7-9756-44e1-9440-669add76b587",
   "metadata": {},
   "outputs": [],
   "source": [
    "def sample(df, n):\n",
    "    samp_df = df.sample(n)\n",
    "    img_arrays = samp_df['image'].apply(lambda x: x['bytes']).apply(lambda x: np.array(Image.open(io.BytesIO(x)))).tolist()\n",
    "    img_texts = samp_df['text'].tolist()\n",
    "    img_texts_encoded = samp_df['text'].apply(encode).apply(torch.tensor).tolist()\n",
    "    return list(zip(img_arrays, img_texts, img_texts_encoded))"
   ]
  },
  {
   "cell_type": "code",
   "execution_count": 5,
   "id": "722bc1dc-8e68-47e9-bdd9-3e232dbee086",
   "metadata": {},
   "outputs": [
    {
     "name": "stdout",
     "output_type": "stream",
     "text": [
      "Board . The board is laying a cable along a seven-\n"
     ]
    },
    {
     "data": {
      "text/plain": [
       "<matplotlib.image.AxesImage at 0x706429b4f680>"
      ]
     },
     "execution_count": 5,
     "metadata": {},
     "output_type": "execute_result"
    },
    {
     "data": {
      "image/png": "[encoded data removed]",
      "text/plain": [
       "<Figure size 640x480 with 1 Axes>"
      ]
     },
     "metadata": {},
     "output_type": "display_data"
    }
   ],
   "source": [
    "batch = sample(df_train, 10)\n",
    "print(batch[0][1])\n",
    "plt.imshow(batch[0][0], cmap='gray')"
   ]
  },
  {
   "cell_type": "markdown",
   "id": "d23657f6-adae-45fe-b508-8bba009c86c7",
   "metadata": {},
   "source": [
    "### Using simple RNN + CTC"
   ]
  },
  {
   "cell_type": "code",
   "execution_count": 6,
   "id": "63772386-2fa9-43d7-9f25-ed717e7678a4",
   "metadata": {},
   "outputs": [],
   "source": [
    "#init params\n",
    "\n",
    "INPUT_SIZE = 128\n",
    "OUTPUT_PROB_SIZE = len(charset) + 1 #79 + blank char for ctc loss\n",
    "HIDDEN_SIZE = 100\n",
    "\n",
    "#weights applied to x input, [128 x 1]/[1 x 128] @ [128 x 20]--> [1 x 20]\n",
    "Wx = torch.randn((INPUT_SIZE, HIDDEN_SIZE)) / INPUT_SIZE**0.5\n",
    "\n",
    "#weights applied to prev hidden layer, [1 x 20] @ [20 x 20] --> [1 x 20]\n",
    "Wh = torch.randn((HIDDEN_SIZE, HIDDEN_SIZE)) / HIDDEN_SIZE**0.5\n",
    "bh = torch.randn(HIDDEN_SIZE) #bias 20 dim\n",
    "\n",
    "#weights to generate output probabilities from combined inputs [1 x 20] @ [20 x output size] --> [1 x output size]\n",
    "Wp = torch.randn((HIDDEN_SIZE, OUTPUT_PROB_SIZE)) / HIDDEN_SIZE**0.5\n",
    "\n",
    "params = [Wx, Wh, bh, Wp]\n",
    "for param in params:\n",
    "    param.requires_grad=True"
   ]
  },
  {
   "cell_type": "code",
   "execution_count": 7,
   "id": "6610bf78-c112-443f-89f2-265ba4d41653",
   "metadata": {},
   "outputs": [],
   "source": [
    "#feed forward\n",
    "out_prob_batch = []\n",
    "targets_batch = []\n",
    "for img in batch:\n",
    "    #normalize input and cast to torch tensor\n",
    "    x = (torch.tensor(img[0]) - img[0].mean()) / img[0].var()\n",
    "    out_prob = []\n",
    "    for i in range(x.shape[1]):\n",
    "        if i == 0:\n",
    "            h_t = x[:, i] @ Wx + bh\n",
    "        else:\n",
    "            h_t = x[:, i] @ Wx + h_t @ Wh + bh\n",
    "        h_t = torch.sigmoid(h_t)\n",
    "        logits = h_t @ Wp\n",
    "        logprobs = F.log_softmax(logits, dim=0)\n",
    "        out_prob.append(logprobs)\n",
    "    logp = torch.stack(out_prob)\n",
    "    out_prob_batch.append(logp)\n",
    "    targets_batch.append(img[2])\n",
    "\n",
    "#prepare inputs to pytorch ctc loss\n",
    "log_probs = torch.nn.utils.rnn.pad_sequence(out_prob_batch)\n",
    "targets = torch.nn.utils.rnn.pad_sequence(targets_batch).reshape(len(targets_batch), -1)\n",
    "input_lengths = torch.tensor([p.shape[0] for p in out_prob_batch])\n",
    "target_lengths = torch.tensor([t.shape[0] for t in targets_batch])"
   ]
  },
  {
   "cell_type": "code",
   "execution_count": 8,
   "id": "7c6cf693-796b-4896-aafc-c6220a0bf4d9",
   "metadata": {},
   "outputs": [
    {
     "name": "stdout",
     "output_type": "stream",
     "text": [
      "torch.Size([1539, 80])\n",
      "torch.Size([2054, 80])\n",
      "torch.Size([1992, 80])\n",
      "torch.Size([1630, 80])\n",
      "torch.Size([1544, 80])\n",
      "torch.Size([1624, 80])\n",
      "torch.Size([1285, 80])\n",
      "torch.Size([2780, 80])\n",
      "torch.Size([2665, 80])\n",
      "torch.Size([2615, 80])\n"
     ]
    }
   ],
   "source": [
    "for p in out_prob_batch:\n",
    "    print(p.shape)"
   ]
  },
  {
   "cell_type": "code",
   "execution_count": 9,
   "id": "d2d5a16b-8b9c-4fb5-9ffa-ee01769f6954",
   "metadata": {},
   "outputs": [
    {
     "name": "stdout",
     "output_type": "stream",
     "text": [
      "loss:  158.50473022460938\n"
     ]
    }
   ],
   "source": [
    "#use pytorch to get the CTC loss\n",
    "ctc_loss = torch.nn.CTCLoss(blank=0, reduction='mean', zero_infinity=True)\n",
    "loss = ctc_loss(log_probs=log_probs, targets=targets, input_lengths=input_lengths, target_lengths=target_lengths)\n",
    "\n",
    "print('loss: ', loss.item())\n",
    "\n",
    "loss.backward()\n",
    "lr = 0.01\n",
    "for param in params:\n",
    "    param = -lr * param.grad"
   ]
  },
  {
   "cell_type": "code",
   "execution_count": 86,
   "id": "bd88d437-3ce0-4393-8be8-0c3291efca27",
   "metadata": {},
   "outputs": [],
   "source": [
    "#set up full model/training loop with pytorch classes\n",
    "\n",
    "class RNN(torch.nn.Module):\n",
    "    def __init__(self, input_size, hidden_size, output_size):\n",
    "        super(RNN, self).__init__()\n",
    "        self.hidden_size = hidden_size\n",
    "        self.rnn = torch.nn.RNN(input_size, hidden_size, batch_first=False)\n",
    "        self.linear = torch.nn.Linear(in_features=hidden_size, out_features=output_size, bias=False)\n",
    "\n",
    "    def forward(self, batch):\n",
    "        out_probs = []\n",
    "        for img in batch:\n",
    "            #normalize input\n",
    "            x = (img - img.mean()) / img.var()\n",
    "            out_prob = []\n",
    "            h0 = torch.zeros(1, self.hidden_size)\n",
    "            out, _ = self.rnn(x, h0)\n",
    "            out = self.linear(out)\n",
    "            out = F.log_softmax(out, dim=1)\n",
    "            out_probs.append(out)\n",
    "\n",
    "        #combine out_probs into single log prob vector\n",
    "        log_probs = torch.nn.utils.rnn.pad_sequence(out_probs)\n",
    "\n",
    "        return log_probs\n",
    "\n",
    "    def compute_loss(self, log_probs, batch_targets):\n",
    "        #prepare inputs to pytorch ctc loss\n",
    "        pad_log_probs = torch.nn.utils.rnn.pad_sequence(log_probs)\n",
    "        pad_targets = torch.nn.utils.rnn.pad_sequence(batch_targets).T\n",
    "        input_lengths = torch.tensor([p.shape[0] for p in log_probs])\n",
    "        target_lengths = torch.tensor([t.shape[0] for t in batch_targets])\n",
    "\n",
    "        #compute CTC loss\n",
    "        ctc_loss = torch.nn.CTCLoss(blank=0, reduction='mean', zero_infinity=True)\n",
    "        loss = ctc_loss(log_probs=pad_log_probs, targets=pad_targets, input_lengths=input_lengths, target_lengths=target_lengths)\n",
    "\n",
    "        return loss"
   ]
  },
  {
   "cell_type": "code",
   "execution_count": 88,
   "id": "b64d60f8-8093-4cb2-9d0f-e305dcdb0f6f",
   "metadata": {},
   "outputs": [],
   "source": [
    "#define hyperparams and construct model object\n",
    "learning_rate = 0.1\n",
    "num_epochs = 10\n",
    "\n",
    "rnn = RNN(input_size=128, hidden_size=250, output_size=80)\n",
    "optim = optim.Adam(rnn.parameters(), lr=learning_rate)"
   ]
  },
  {
   "cell_type": "code",
   "execution_count": 83,
   "id": "9ea9f8b3-699a-4f27-9174-cfd8a825861d",
   "metadata": {},
   "outputs": [],
   "source": [
    "#sample data\n",
    "batch = sample(df_train, 10)\n",
    "batch_imgs = [torch.tensor(b[0], dtype=torch.float32).T for b in batch]\n",
    "batch_targets = [b[2] for b in batch]"
   ]
  },
  {
   "cell_type": "code",
   "execution_count": 99,
   "id": "b469253e-890b-4420-9652-c4f6cb71e0bd",
   "metadata": {},
   "outputs": [
    {
     "data": {
      "text/plain": [
       "torch.Size([10, 58])"
      ]
     },
     "execution_count": 99,
     "metadata": {},
     "output_type": "execute_result"
    }
   ],
   "source": [
    "torch.nn.utils.rnn.pad_sequence(batch_targets).T.shape"
   ]
  },
  {
   "cell_type": "code",
   "execution_count": 96,
   "id": "7fd3ed53-d19c-4b0d-8c60-c64836c2ef60",
   "metadata": {},
   "outputs": [
    {
     "name": "stdout",
     "output_type": "stream",
     "text": [
      "torch.Size([45])\n",
      "torch.Size([23])\n",
      "torch.Size([50])\n",
      "torch.Size([43])\n",
      "torch.Size([16])\n",
      "torch.Size([41])\n",
      "torch.Size([37])\n",
      "torch.Size([52])\n",
      "torch.Size([33])\n",
      "torch.Size([58])\n"
     ]
    }
   ],
   "source": [
    "for b in batch_targets:\n",
    "    print(b.shape)"
   ]
  },
  {
   "cell_type": "code",
   "execution_count": 85,
   "id": "180936a7-7333-4433-8c57-32f98df49866",
   "metadata": {},
   "outputs": [],
   "source": [
    "#forward pass\n",
    "logprobs = rnn.forward(batch_imgs)"
   ]
  },
  {
   "cell_type": "code",
   "execution_count": 89,
   "id": "98ab71bd-a54c-4c2a-8c3b-48db2339222e",
   "metadata": {},
   "outputs": [
    {
     "ename": "RuntimeError",
     "evalue": "target_lengths must be of size batch_size",
     "output_type": "error",
     "traceback": [
      "\u001b[31m---------------------------------------------------------------------------\u001b[39m",
      "\u001b[31mRuntimeError\u001b[39m                              Traceback (most recent call last)",
      "\u001b[36mCell\u001b[39m\u001b[36m \u001b[39m\u001b[32mIn[89]\u001b[39m\u001b[32m, line 2\u001b[39m\n\u001b[32m      1\u001b[39m \u001b[38;5;66;03m#compute loss and gradients\u001b[39;00m\n\u001b[32m----> \u001b[39m\u001b[32m2\u001b[39m loss = \u001b[43mrnn\u001b[49m\u001b[43m.\u001b[49m\u001b[43mcompute_loss\u001b[49m\u001b[43m(\u001b[49m\u001b[43mlogprobs\u001b[49m\u001b[43m,\u001b[49m\u001b[43m \u001b[49m\u001b[43mbatch_targets\u001b[49m\u001b[43m)\u001b[49m\n\u001b[32m      3\u001b[39m optimizer.zero_grad()\n\u001b[32m      4\u001b[39m loss.backward()\n",
      "\u001b[36mCell\u001b[39m\u001b[36m \u001b[39m\u001b[32mIn[86]\u001b[39m\u001b[32m, line 36\u001b[39m, in \u001b[36mRNN.compute_loss\u001b[39m\u001b[34m(self, log_probs, batch_targets)\u001b[39m\n\u001b[32m     34\u001b[39m \u001b[38;5;66;03m#compute CTC loss\u001b[39;00m\n\u001b[32m     35\u001b[39m ctc_loss = torch.nn.CTCLoss(blank=\u001b[32m0\u001b[39m, reduction=\u001b[33m'\u001b[39m\u001b[33mmean\u001b[39m\u001b[33m'\u001b[39m, zero_infinity=\u001b[38;5;28;01mTrue\u001b[39;00m)\n\u001b[32m---> \u001b[39m\u001b[32m36\u001b[39m loss = \u001b[43mctc_loss\u001b[49m\u001b[43m(\u001b[49m\u001b[43mlog_probs\u001b[49m\u001b[43m=\u001b[49m\u001b[43mpad_log_probs\u001b[49m\u001b[43m,\u001b[49m\u001b[43m \u001b[49m\u001b[43mtargets\u001b[49m\u001b[43m=\u001b[49m\u001b[43mpad_targets\u001b[49m\u001b[43m,\u001b[49m\u001b[43m \u001b[49m\u001b[43minput_lengths\u001b[49m\u001b[43m=\u001b[49m\u001b[43minput_lengths\u001b[49m\u001b[43m,\u001b[49m\u001b[43m \u001b[49m\u001b[43mtarget_lengths\u001b[49m\u001b[43m=\u001b[49m\u001b[43mtarget_lengths\u001b[49m\u001b[43m)\u001b[49m\n\u001b[32m     38\u001b[39m \u001b[38;5;28;01mreturn\u001b[39;00m loss\n",
      "\u001b[36mFile \u001b[39m\u001b[32m~/Desktop/programming/learning/ml/venv/lib/python3.12/site-packages/torch/nn/modules/module.py:1739\u001b[39m, in \u001b[36mModule._wrapped_call_impl\u001b[39m\u001b[34m(self, *args, **kwargs)\u001b[39m\n\u001b[32m   1737\u001b[39m     \u001b[38;5;28;01mreturn\u001b[39;00m \u001b[38;5;28mself\u001b[39m._compiled_call_impl(*args, **kwargs)  \u001b[38;5;66;03m# type: ignore[misc]\u001b[39;00m\n\u001b[32m   1738\u001b[39m \u001b[38;5;28;01melse\u001b[39;00m:\n\u001b[32m-> \u001b[39m\u001b[32m1739\u001b[39m     \u001b[38;5;28;01mreturn\u001b[39;00m \u001b[38;5;28;43mself\u001b[39;49m\u001b[43m.\u001b[49m\u001b[43m_call_impl\u001b[49m\u001b[43m(\u001b[49m\u001b[43m*\u001b[49m\u001b[43margs\u001b[49m\u001b[43m,\u001b[49m\u001b[43m \u001b[49m\u001b[43m*\u001b[49m\u001b[43m*\u001b[49m\u001b[43mkwargs\u001b[49m\u001b[43m)\u001b[49m\n",
      "\u001b[36mFile \u001b[39m\u001b[32m~/Desktop/programming/learning/ml/venv/lib/python3.12/site-packages/torch/nn/modules/module.py:1750\u001b[39m, in \u001b[36mModule._call_impl\u001b[39m\u001b[34m(self, *args, **kwargs)\u001b[39m\n\u001b[32m   1745\u001b[39m \u001b[38;5;66;03m# If we don't have any hooks, we want to skip the rest of the logic in\u001b[39;00m\n\u001b[32m   1746\u001b[39m \u001b[38;5;66;03m# this function, and just call forward.\u001b[39;00m\n\u001b[32m   1747\u001b[39m \u001b[38;5;28;01mif\u001b[39;00m \u001b[38;5;129;01mnot\u001b[39;00m (\u001b[38;5;28mself\u001b[39m._backward_hooks \u001b[38;5;129;01mor\u001b[39;00m \u001b[38;5;28mself\u001b[39m._backward_pre_hooks \u001b[38;5;129;01mor\u001b[39;00m \u001b[38;5;28mself\u001b[39m._forward_hooks \u001b[38;5;129;01mor\u001b[39;00m \u001b[38;5;28mself\u001b[39m._forward_pre_hooks\n\u001b[32m   1748\u001b[39m         \u001b[38;5;129;01mor\u001b[39;00m _global_backward_pre_hooks \u001b[38;5;129;01mor\u001b[39;00m _global_backward_hooks\n\u001b[32m   1749\u001b[39m         \u001b[38;5;129;01mor\u001b[39;00m _global_forward_hooks \u001b[38;5;129;01mor\u001b[39;00m _global_forward_pre_hooks):\n\u001b[32m-> \u001b[39m\u001b[32m1750\u001b[39m     \u001b[38;5;28;01mreturn\u001b[39;00m \u001b[43mforward_call\u001b[49m\u001b[43m(\u001b[49m\u001b[43m*\u001b[49m\u001b[43margs\u001b[49m\u001b[43m,\u001b[49m\u001b[43m \u001b[49m\u001b[43m*\u001b[49m\u001b[43m*\u001b[49m\u001b[43mkwargs\u001b[49m\u001b[43m)\u001b[49m\n\u001b[32m   1752\u001b[39m result = \u001b[38;5;28;01mNone\u001b[39;00m\n\u001b[32m   1753\u001b[39m called_always_called_hooks = \u001b[38;5;28mset\u001b[39m()\n",
      "\u001b[36mFile \u001b[39m\u001b[32m~/Desktop/programming/learning/ml/venv/lib/python3.12/site-packages/torch/nn/modules/loss.py:1982\u001b[39m, in \u001b[36mCTCLoss.forward\u001b[39m\u001b[34m(self, log_probs, targets, input_lengths, target_lengths)\u001b[39m\n\u001b[32m   1975\u001b[39m \u001b[38;5;28;01mdef\u001b[39;00m\u001b[38;5;250m \u001b[39m\u001b[34mforward\u001b[39m(\n\u001b[32m   1976\u001b[39m     \u001b[38;5;28mself\u001b[39m,\n\u001b[32m   1977\u001b[39m     log_probs: Tensor,\n\u001b[32m   (...)\u001b[39m\u001b[32m   1980\u001b[39m     target_lengths: Tensor,\n\u001b[32m   1981\u001b[39m ) -> Tensor:\n\u001b[32m-> \u001b[39m\u001b[32m1982\u001b[39m     \u001b[38;5;28;01mreturn\u001b[39;00m \u001b[43mF\u001b[49m\u001b[43m.\u001b[49m\u001b[43mctc_loss\u001b[49m\u001b[43m(\u001b[49m\n\u001b[32m   1983\u001b[39m \u001b[43m        \u001b[49m\u001b[43mlog_probs\u001b[49m\u001b[43m,\u001b[49m\n\u001b[32m   1984\u001b[39m \u001b[43m        \u001b[49m\u001b[43mtargets\u001b[49m\u001b[43m,\u001b[49m\n\u001b[32m   1985\u001b[39m \u001b[43m        \u001b[49m\u001b[43minput_lengths\u001b[49m\u001b[43m,\u001b[49m\n\u001b[32m   1986\u001b[39m \u001b[43m        \u001b[49m\u001b[43mtarget_lengths\u001b[49m\u001b[43m,\u001b[49m\n\u001b[32m   1987\u001b[39m \u001b[43m        \u001b[49m\u001b[38;5;28;43mself\u001b[39;49m\u001b[43m.\u001b[49m\u001b[43mblank\u001b[49m\u001b[43m,\u001b[49m\n\u001b[32m   1988\u001b[39m \u001b[43m        \u001b[49m\u001b[38;5;28;43mself\u001b[39;49m\u001b[43m.\u001b[49m\u001b[43mreduction\u001b[49m\u001b[43m,\u001b[49m\n\u001b[32m   1989\u001b[39m \u001b[43m        \u001b[49m\u001b[38;5;28;43mself\u001b[39;49m\u001b[43m.\u001b[49m\u001b[43mzero_infinity\u001b[49m\u001b[43m,\u001b[49m\n\u001b[32m   1990\u001b[39m \u001b[43m    \u001b[49m\u001b[43m)\u001b[49m\n",
      "\u001b[36mFile \u001b[39m\u001b[32m~/Desktop/programming/learning/ml/venv/lib/python3.12/site-packages/torch/nn/functional.py:3079\u001b[39m, in \u001b[36mctc_loss\u001b[39m\u001b[34m(log_probs, targets, input_lengths, target_lengths, blank, reduction, zero_infinity)\u001b[39m\n\u001b[32m   3067\u001b[39m \u001b[38;5;28;01mif\u001b[39;00m has_torch_function_variadic(log_probs, targets, input_lengths, target_lengths):\n\u001b[32m   3068\u001b[39m     \u001b[38;5;28;01mreturn\u001b[39;00m handle_torch_function(\n\u001b[32m   3069\u001b[39m         ctc_loss,\n\u001b[32m   3070\u001b[39m         (log_probs, targets, input_lengths, target_lengths),\n\u001b[32m   (...)\u001b[39m\u001b[32m   3077\u001b[39m         zero_infinity=zero_infinity,\n\u001b[32m   3078\u001b[39m     )\n\u001b[32m-> \u001b[39m\u001b[32m3079\u001b[39m \u001b[38;5;28;01mreturn\u001b[39;00m \u001b[43mtorch\u001b[49m\u001b[43m.\u001b[49m\u001b[43mctc_loss\u001b[49m\u001b[43m(\u001b[49m\n\u001b[32m   3080\u001b[39m \u001b[43m    \u001b[49m\u001b[43mlog_probs\u001b[49m\u001b[43m,\u001b[49m\n\u001b[32m   3081\u001b[39m \u001b[43m    \u001b[49m\u001b[43mtargets\u001b[49m\u001b[43m,\u001b[49m\n\u001b[32m   3082\u001b[39m \u001b[43m    \u001b[49m\u001b[43minput_lengths\u001b[49m\u001b[43m,\u001b[49m\n\u001b[32m   3083\u001b[39m \u001b[43m    \u001b[49m\u001b[43mtarget_lengths\u001b[49m\u001b[43m,\u001b[49m\n\u001b[32m   3084\u001b[39m \u001b[43m    \u001b[49m\u001b[43mblank\u001b[49m\u001b[43m,\u001b[49m\n\u001b[32m   3085\u001b[39m \u001b[43m    \u001b[49m\u001b[43m_Reduction\u001b[49m\u001b[43m.\u001b[49m\u001b[43mget_enum\u001b[49m\u001b[43m(\u001b[49m\u001b[43mreduction\u001b[49m\u001b[43m)\u001b[49m\u001b[43m,\u001b[49m\n\u001b[32m   3086\u001b[39m \u001b[43m    \u001b[49m\u001b[43mzero_infinity\u001b[49m\u001b[43m,\u001b[49m\n\u001b[32m   3087\u001b[39m \u001b[43m\u001b[49m\u001b[43m)\u001b[49m\n",
      "\u001b[31mRuntimeError\u001b[39m: target_lengths must be of size batch_size"
     ]
    }
   ],
   "source": [
    "#compute loss and gradients\n",
    "loss = rnn.compute_loss(logprobs, batch_targets)\n",
    "optimizer.zero_grad()\n",
    "loss.backward()\n",
    "optimizer.step()\n",
    "\n",
    "print(f'Epoch [{epoch+1}/{num_epochs}], Loss: {loss.item():.4f}')"
   ]
  },
  {
   "cell_type": "code",
   "execution_count": null,
   "id": "483330a3-224c-4052-8068-8fc46037f3bd",
   "metadata": {},
   "outputs": [],
   "source": [
    "#compute loss with my custom CTC\n",
    "\n",
    "#init ctc matrix\n",
    "ctc = torch.zeros((logp.shape[0], s[0][2].shape[0]))\n",
    "target = s[0][2]\n",
    "ctc[0, 0] = logp[0, target[0]]\n",
    "ctc[0, 1] = logp[0, target[1]]\n",
    "\n",
    "#dynamic programming to compute conditional probabilities\n",
    "for t in range(1, ctc.shape[0]):\n",
    "    for o in range(0, ctc.shape[1]):\n",
    "        if o == 0:\n",
    "            ctc[t, o] = ctc[t-i, o] + logp[t, target[o]]\n",
    "        elif o < 3 or target[o] == 0:\n",
    "            ctc[t, o] = torch.logaddexp(torch.tensor(ctc[t-1, o-1]), torch.tensor(ctc[t-1, o])).item() + logp[t, target[o]]\n",
    "        elif target[o] == target[o-2]:\n",
    "            ctc[t, o] = torch.logaddexp(torch.tensor(ctc[t-1, o-1]), torch.tensor(ctc[t-1, o])).item() + logp[t, target[o]]\n",
    "        else:\n",
    "            ctc[t, o] = torch.logsumexp(torch.tensor([ctc[t-1, o-2], ctc[t-1, o-1], ctc[t-1,o]]), dim=0).item() + logp[t, target[o]]\n",
    "\n",
    "#compute final loss\n",
    "loss = -ctc[-1, -2:].sum() / target.shape[0]\n",
    "loss"
   ]
  },
  {
   "cell_type": "code",
   "execution_count": null,
   "id": "d41aab43-f9c3-4829-8feb-378312282217",
   "metadata": {},
   "outputs": [],
   "source": []
  },
  {
   "cell_type": "code",
   "execution_count": null,
   "id": "172282c9-e4b7-46e7-b901-3495eb967fec",
   "metadata": {},
   "outputs": [],
   "source": []
  },
  {
   "cell_type": "code",
   "execution_count": null,
   "id": "a41222e8-97c2-4094-8a49-1a3d38153be6",
   "metadata": {},
   "outputs": [],
   "source": []
  }
 ],
 "metadata": {
  "kernelspec": {
   "display_name": "Python 3 (ipykernel)",
   "language": "python",
   "name": "python3"
  },
  "language_info": {
   "codemirror_mode": {
    "name": "ipython",
    "version": 3
   },
   "file_extension": ".py",
   "mimetype": "text/x-python",
   "name": "python",
   "nbconvert_exporter": "python",
   "pygments_lexer": "ipython3",
   "version": "3.12.3"
  }
 },
 "nbformat": 4,
 "nbformat_minor": 5
}
