{
 "cells": [
  {
   "cell_type": "code",
   "execution_count": 16,
   "id": "394bc95c-a3db-4b41-975f-03c48c19fc3e",
   "metadata": {},
   "outputs": [],
   "source": [
    "import torch\n",
    "import numpy as np\n",
    "import matplotlib.pyplot as plt\n",
    "import pandas as pd\n",
    "from PIL import Image\n",
    "import io"
   ]
  },
  {
   "cell_type": "markdown",
   "id": "5e52802a-8f26-4bfa-9a13-b32971c9d997",
   "metadata": {},
   "source": [
    "### Prep dataset"
   ]
  },
  {
   "cell_type": "code",
   "execution_count": 2,
   "id": "87799b55-74c1-4750-afd5-c2824205b84d",
   "metadata": {},
   "outputs": [],
   "source": [
    "#ascii char mapping from emnist\n",
    "ascii_map = open('emnist/emnist-byclass-mapping.txt', 'r').readlines()\n",
    "ascii_map = dict([(int(l.rstrip().split(' ')[0]), int(l.rstrip().split(' ')[1])) for l in ascii_map])\n",
    "\n",
    "#load in handwritten text dataset\n",
    "df = pd.read_parquet('telkia_iam_handwritten_text.gzip')"
   ]
  },
  {
   "cell_type": "code",
   "execution_count": 41,
   "id": "bc1b75a7-9756-44e1-9440-669add76b587",
   "metadata": {},
   "outputs": [],
   "source": [
    "def sample(n):\n",
    "    return df['bytes'].sample(n).apply(lambda x: np.array(Image.open(io.BytesIO(x)))).tolist()"
   ]
  },
  {
   "cell_type": "markdown",
   "id": "d23657f6-adae-45fe-b508-8bba009c86c7",
   "metadata": {},
   "source": [
    "### Using simple RNN + CTC"
   ]
  },
  {
   "cell_type": "code",
   "execution_count": 42,
   "id": "722bc1dc-8e68-47e9-bdd9-3e232dbee086",
   "metadata": {},
   "outputs": [],
   "source": [
    "s = sample(10)"
   ]
  },
  {
   "cell_type": "code",
   "execution_count": null,
   "id": "c482ea05-0384-467c-9df7-583d65bf8f30",
   "metadata": {},
   "outputs": [],
   "source": [
    "s[0].shape"
   ]
  },
  {
   "cell_type": "code",
   "execution_count": 54,
   "id": "63772386-2fa9-43d7-9f25-ed717e7678a4",
   "metadata": {},
   "outputs": [
    {
     "data": {
      "text/plain": [
       "(128, 2237)"
      ]
     },
     "execution_count": 54,
     "metadata": {},
     "output_type": "execute_result"
    }
   ],
   "source": [
    "#init params\n",
    "\n",
    "y_preds = []\n",
    "for i in range(s.shape[1]):\n",
    "    "
   ]
  },
  {
   "cell_type": "code",
   "execution_count": null,
   "id": "f5bc67e1-516b-439c-9a97-f3dbef095eaa",
   "metadata": {},
   "outputs": [],
   "source": []
  },
  {
   "cell_type": "code",
   "execution_count": null,
   "id": "edabe18a-5590-4c48-80d3-ea61ce8864c9",
   "metadata": {},
   "outputs": [],
   "source": []
  },
  {
   "cell_type": "code",
   "execution_count": null,
   "id": "6610bf78-c112-443f-89f2-265ba4d41653",
   "metadata": {},
   "outputs": [],
   "source": []
  },
  {
   "cell_type": "code",
   "execution_count": null,
   "id": "483330a3-224c-4052-8068-8fc46037f3bd",
   "metadata": {},
   "outputs": [],
   "source": []
  },
  {
   "cell_type": "code",
   "execution_count": null,
   "id": "7621d036-406b-4f49-b3ea-9f46c1a72d89",
   "metadata": {},
   "outputs": [],
   "source": []
  }
 ],
 "metadata": {
  "kernelspec": {
   "display_name": "Python 3 (ipykernel)",
   "language": "python",
   "name": "python3"
  },
  "language_info": {
   "codemirror_mode": {
    "name": "ipython",
    "version": 3
   },
   "file_extension": ".py",
   "mimetype": "text/x-python",
   "name": "python",
   "nbconvert_exporter": "python",
   "pygments_lexer": "ipython3",
   "version": "3.10.12"
  }
 },
 "nbformat": 4,
 "nbformat_minor": 5
}
